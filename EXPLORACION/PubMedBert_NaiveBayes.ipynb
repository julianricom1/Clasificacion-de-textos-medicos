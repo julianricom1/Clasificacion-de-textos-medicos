{
 "cells": [
  {
   "cell_type": "code",
   "execution_count": null,
   "id": "369e80f5-0bbe-41c3-aa4c-6d1a34ff212b",
   "metadata": {},
   "outputs": [
    {
     "ename": "RestException",
     "evalue": "RESOURCE_DOES_NOT_EXIST: Could not find experiment with ID None.",
     "output_type": "error",
     "traceback": [
      "\u001b[31m---------------------------------------------------------------------------\u001b[39m",
      "\u001b[31mRestException\u001b[39m                             Traceback (most recent call last)",
      "\u001b[36mCell\u001b[39m\u001b[36m \u001b[39m\u001b[32mIn[9]\u001b[39m\u001b[32m, line 20\u001b[39m\n\u001b[32m     18\u001b[39m os.environ[\u001b[33m\"\u001b[39m\u001b[33mDATABRICKS_TOKEN\u001b[39m\u001b[33m\"\u001b[39m] = \u001b[33m\"\u001b[39m\u001b[33mdapidc8fcd1f771928f2aebada28101598dc\u001b[39m\u001b[33m\"\u001b[39m\n\u001b[32m     19\u001b[39m mlflow.set_tracking_uri(\u001b[33m\"\u001b[39m\u001b[33mdatabricks\u001b[39m\u001b[33m\"\u001b[39m)\n\u001b[32m---> \u001b[39m\u001b[32m20\u001b[39m mlflow.set_experiment(\u001b[33m\"\u001b[39m\u001b[33m/Desarrollo_de_Soluciones/LogReg_PubMedBert\u001b[39m\u001b[33m\"\u001b[39m)\n\u001b[32m     22\u001b[39m MODEL_NAME = \u001b[33m\"\u001b[39m\u001b[33mmicrosoft/BiomedNLP-PubMedBERT-base-uncased-abstract\u001b[39m\u001b[33m\"\u001b[39m\n\u001b[32m     23\u001b[39m device = torch.device(\u001b[33m\"\u001b[39m\u001b[33mcuda\u001b[39m\u001b[33m\"\u001b[39m \u001b[38;5;28;01mif\u001b[39;00m torch.cuda.is_available() \u001b[38;5;28;01melse\u001b[39;00m \u001b[33m\"\u001b[39m\u001b[33mcpu\u001b[39m\u001b[33m\"\u001b[39m)\n",
      "\u001b[36mFile \u001b[39m\u001b[32m/opt/anaconda3/envs/pytorchenv/lib/python3.12/site-packages/mlflow/tracking/fluent.py:172\u001b[39m, in \u001b[36mset_experiment\u001b[39m\u001b[34m(experiment_name, experiment_id)\u001b[39m\n\u001b[32m    166\u001b[39m             \u001b[38;5;28;01mif\u001b[39;00m e.error_code == \u001b[33m\"\u001b[39m\u001b[33mRESOURCE_ALREADY_EXISTS\u001b[39m\u001b[33m\"\u001b[39m:\n\u001b[32m    167\u001b[39m                 \u001b[38;5;66;03m# NB: If two simultaneous processes attempt to set the same experiment\u001b[39;00m\n\u001b[32m    168\u001b[39m                 \u001b[38;5;66;03m# simultaneously, a race condition may be encountered here wherein\u001b[39;00m\n\u001b[32m    169\u001b[39m                 \u001b[38;5;66;03m# experiment creation fails\u001b[39;00m\n\u001b[32m    170\u001b[39m                 \u001b[38;5;28;01mreturn\u001b[39;00m client.get_experiment_by_name(experiment_name)\n\u001b[32m--> \u001b[39m\u001b[32m172\u001b[39m         experiment = client.get_experiment(experiment_id)\n\u001b[32m    173\u001b[39m \u001b[38;5;28;01melse\u001b[39;00m:\n\u001b[32m    174\u001b[39m     experiment = client.get_experiment(experiment_id)\n",
      "\u001b[36mFile \u001b[39m\u001b[32m/opt/anaconda3/envs/pytorchenv/lib/python3.12/site-packages/mlflow/tracking/client.py:1222\u001b[39m, in \u001b[36mMlflowClient.get_experiment\u001b[39m\u001b[34m(self, experiment_id)\u001b[39m\n\u001b[32m   1190\u001b[39m \u001b[38;5;28;01mdef\u001b[39;00m\u001b[38;5;250m \u001b[39m\u001b[34mget_experiment\u001b[39m(\u001b[38;5;28mself\u001b[39m, experiment_id: \u001b[38;5;28mstr\u001b[39m) -> Experiment:\n\u001b[32m   1191\u001b[39m \u001b[38;5;250m    \u001b[39m\u001b[33;03m\"\"\"Retrieve an experiment by experiment_id from the backend store\u001b[39;00m\n\u001b[32m   1192\u001b[39m \n\u001b[32m   1193\u001b[39m \u001b[33;03m    Args:\u001b[39;00m\n\u001b[32m   (...)\u001b[39m\u001b[32m   1220\u001b[39m \u001b[33;03m      Lifecycle_stage: active\u001b[39;00m\n\u001b[32m   1221\u001b[39m \u001b[33;03m    \"\"\"\u001b[39;00m\n\u001b[32m-> \u001b[39m\u001b[32m1222\u001b[39m     \u001b[38;5;28;01mreturn\u001b[39;00m \u001b[38;5;28mself\u001b[39m._tracking_client.get_experiment(experiment_id)\n",
      "\u001b[36mFile \u001b[39m\u001b[32m/opt/anaconda3/envs/pytorchenv/lib/python3.12/site-packages/mlflow/tracking/_tracking_service/client.py:492\u001b[39m, in \u001b[36mTrackingServiceClient.get_experiment\u001b[39m\u001b[34m(self, experiment_id)\u001b[39m\n\u001b[32m    484\u001b[39m \u001b[38;5;28;01mdef\u001b[39;00m\u001b[38;5;250m \u001b[39m\u001b[34mget_experiment\u001b[39m(\u001b[38;5;28mself\u001b[39m, experiment_id):\n\u001b[32m    485\u001b[39m \u001b[38;5;250m    \u001b[39m\u001b[33;03m\"\"\"\u001b[39;00m\n\u001b[32m    486\u001b[39m \u001b[33;03m    Args:\u001b[39;00m\n\u001b[32m    487\u001b[39m \u001b[33;03m        experiment_id: The experiment ID returned from ``create_experiment``.\u001b[39;00m\n\u001b[32m   (...)\u001b[39m\u001b[32m    490\u001b[39m \u001b[33;03m        :py:class:`mlflow.entities.Experiment`\u001b[39;00m\n\u001b[32m    491\u001b[39m \u001b[33;03m    \"\"\"\u001b[39;00m\n\u001b[32m--> \u001b[39m\u001b[32m492\u001b[39m     \u001b[38;5;28;01mreturn\u001b[39;00m \u001b[38;5;28mself\u001b[39m.store.get_experiment(experiment_id)\n",
      "\u001b[36mFile \u001b[39m\u001b[32m/opt/anaconda3/envs/pytorchenv/lib/python3.12/site-packages/mlflow/store/tracking/rest_store.py:141\u001b[39m, in \u001b[36mRestStore.get_experiment\u001b[39m\u001b[34m(self, experiment_id)\u001b[39m\n\u001b[32m    130\u001b[39m \u001b[38;5;250m\u001b[39m\u001b[33;03m\"\"\"\u001b[39;00m\n\u001b[32m    131\u001b[39m \u001b[33;03mFetch the experiment from the backend store.\u001b[39;00m\n\u001b[32m    132\u001b[39m \n\u001b[32m   (...)\u001b[39m\u001b[32m    138\u001b[39m \u001b[33;03m    otherwise raises an Exception.\u001b[39;00m\n\u001b[32m    139\u001b[39m \u001b[33;03m\"\"\"\u001b[39;00m\n\u001b[32m    140\u001b[39m req_body = message_to_json(GetExperiment(experiment_id=\u001b[38;5;28mstr\u001b[39m(experiment_id)))\n\u001b[32m--> \u001b[39m\u001b[32m141\u001b[39m response_proto = \u001b[38;5;28mself\u001b[39m._call_endpoint(GetExperiment, req_body)\n\u001b[32m    142\u001b[39m \u001b[38;5;28;01mreturn\u001b[39;00m Experiment.from_proto(response_proto.experiment)\n",
      "\u001b[36mFile \u001b[39m\u001b[32m/opt/anaconda3/envs/pytorchenv/lib/python3.12/site-packages/mlflow/store/tracking/rest_store.py:82\u001b[39m, in \u001b[36mRestStore._call_endpoint\u001b[39m\u001b[34m(self, api, json_body, endpoint)\u001b[39m\n\u001b[32m     80\u001b[39m     endpoint, method = _METHOD_TO_INFO[api]\n\u001b[32m     81\u001b[39m response_proto = api.Response()\n\u001b[32m---> \u001b[39m\u001b[32m82\u001b[39m \u001b[38;5;28;01mreturn\u001b[39;00m call_endpoint(\u001b[38;5;28mself\u001b[39m.get_host_creds(), endpoint, method, json_body, response_proto)\n",
      "\u001b[36mFile \u001b[39m\u001b[32m/opt/anaconda3/envs/pytorchenv/lib/python3.12/site-packages/mlflow/utils/rest_utils.py:370\u001b[39m, in \u001b[36mcall_endpoint\u001b[39m\u001b[34m(host_creds, endpoint, method, json_body, response_proto, extra_headers)\u001b[39m\n\u001b[32m    367\u001b[39m     call_kwargs[\u001b[33m\"\u001b[39m\u001b[33mjson\u001b[39m\u001b[33m\"\u001b[39m] = json_body\n\u001b[32m    368\u001b[39m     response = http_request(**call_kwargs)\n\u001b[32m--> \u001b[39m\u001b[32m370\u001b[39m response = verify_rest_response(response, endpoint)\n\u001b[32m    371\u001b[39m response_to_parse = response.text\n\u001b[32m    372\u001b[39m js_dict = json.loads(response_to_parse)\n",
      "\u001b[36mFile \u001b[39m\u001b[32m/opt/anaconda3/envs/pytorchenv/lib/python3.12/site-packages/mlflow/utils/rest_utils.py:240\u001b[39m, in \u001b[36mverify_rest_response\u001b[39m\u001b[34m(response, endpoint)\u001b[39m\n\u001b[32m    238\u001b[39m \u001b[38;5;28;01mif\u001b[39;00m response.status_code != \u001b[32m200\u001b[39m:\n\u001b[32m    239\u001b[39m     \u001b[38;5;28;01mif\u001b[39;00m _can_parse_as_json_object(response.text):\n\u001b[32m--> \u001b[39m\u001b[32m240\u001b[39m         \u001b[38;5;28;01mraise\u001b[39;00m RestException(json.loads(response.text))\n\u001b[32m    241\u001b[39m     \u001b[38;5;28;01melse\u001b[39;00m:\n\u001b[32m    242\u001b[39m         base_msg = (\n\u001b[32m    243\u001b[39m             \u001b[33mf\u001b[39m\u001b[33m\"\u001b[39m\u001b[33mAPI request to endpoint \u001b[39m\u001b[38;5;132;01m{\u001b[39;00mendpoint\u001b[38;5;132;01m}\u001b[39;00m\u001b[33m \u001b[39m\u001b[33m\"\u001b[39m\n\u001b[32m    244\u001b[39m             \u001b[33mf\u001b[39m\u001b[33m\"\u001b[39m\u001b[33mfailed with error code \u001b[39m\u001b[38;5;132;01m{\u001b[39;00mresponse.status_code\u001b[38;5;132;01m}\u001b[39;00m\u001b[33m != 200\u001b[39m\u001b[33m\"\u001b[39m\n\u001b[32m    245\u001b[39m         )\n",
      "\u001b[31mRestException\u001b[39m: RESOURCE_DOES_NOT_EXIST: Could not find experiment with ID None."
     ]
    }
   ],
   "source": [
    "import pandas as pd\n",
    "import numpy as np\n",
    "import math\n",
    "from itertools import product\n",
    "\n",
    "from sklearn.naive_bayes import GaussianNB\n",
    "from sklearn.metrics import average_precision_score, roc_auc_score, f1_score, recall_score, accuracy_score\n",
    "from sklearn.preprocessing import StandardScaler\n",
    "from sklearn.pipeline import Pipeline\n",
    "\n",
    "import torch\n",
    "from transformers import AutoTokenizer, AutoModel\n",
    "\n",
    "from tqdm.auto import tqdm\n",
    "import mlflow, os\n",
    "\n",
    "os.environ[\"DATABRICKS_HOST\"] = \"https://dbc-69cf0a80-d1d0.cloud.databricks.com/\"\n",
    "os.environ[\"DATABRICKS_TOKEN\"] = \"\"\n",
    "mlflow.set_tracking_uri(\"databricks\")\n",
    "mlflow.set_experiment(\"PubMedBert_NaiveBayes\")\n",
    "\n",
    "MODEL_NAME = \"microsoft/BiomedNLP-PubMedBERT-base-uncased-abstract\"\n",
    "device = torch.device(\"cuda\" if torch.cuda.is_available() else \"cpu\")\n",
    "#print(torch.__version__)\n",
    "print(f\"Using device: {torch.cuda.get_device_name(0) if torch.cuda.is_available() else 'CPU'}\")"
   ]
  },
  {
   "cell_type": "code",
   "execution_count": null,
   "id": "710acec1-17eb-4613-a1f9-7e070d602d34",
   "metadata": {},
   "outputs": [],
   "source": [
    "# cargar los datos\n",
    "\n",
    "data_training = pd.read_csv(\"../data/cleaned_train_dataset.csv\")\n",
    "data_test = pd.read_csv(\"../data/cleaned_test_dataset.csv\")\n",
    "data_validation = pd.read_csv(\"../data/cleaned_val_dataset.csv\")"
   ]
  },
  {
   "cell_type": "code",
   "execution_count": null,
   "id": "5d6ec8f6",
   "metadata": {},
   "outputs": [
    {
     "data": {
      "application/vnd.jupyter.widget-view+json": {
       "model_id": "55b4694ff79a4adcb4b00f22fa210e13",
       "version_major": 2,
       "version_minor": 0
      },
      "text/plain": [
       "tokenizer_config.json:   0%|          | 0.00/28.0 [00:00<?, ?B/s]"
      ]
     },
     "metadata": {},
     "output_type": "display_data"
    },
    {
     "data": {
      "application/vnd.jupyter.widget-view+json": {
       "model_id": "eeaf11186eb7465eaba0a13a151a9d75",
       "version_major": 2,
       "version_minor": 0
      },
      "text/plain": [
       "config.json:   0%|          | 0.00/385 [00:00<?, ?B/s]"
      ]
     },
     "metadata": {},
     "output_type": "display_data"
    },
    {
     "data": {
      "application/vnd.jupyter.widget-view+json": {
       "model_id": "d45782db969d4b7088439ad679481cb9",
       "version_major": 2,
       "version_minor": 0
      },
      "text/plain": [
       "vocab.txt: 0.00B [00:00, ?B/s]"
      ]
     },
     "metadata": {},
     "output_type": "display_data"
    },
    {
     "data": {
      "application/vnd.jupyter.widget-view+json": {
       "model_id": "6c5f4b694d2547c583e5dd97e5697973",
       "version_major": 2,
       "version_minor": 0
      },
      "text/plain": [
       "pytorch_model.bin:   0%|          | 0.00/440M [00:00<?, ?B/s]"
      ]
     },
     "metadata": {},
     "output_type": "display_data"
    },
    {
     "data": {
      "text/plain": [
       "BertModel(\n",
       "  (embeddings): BertEmbeddings(\n",
       "    (word_embeddings): Embedding(30522, 768, padding_idx=0)\n",
       "    (position_embeddings): Embedding(512, 768)\n",
       "    (token_type_embeddings): Embedding(2, 768)\n",
       "    (LayerNorm): LayerNorm((768,), eps=1e-12, elementwise_affine=True)\n",
       "    (dropout): Dropout(p=0.1, inplace=False)\n",
       "  )\n",
       "  (encoder): BertEncoder(\n",
       "    (layer): ModuleList(\n",
       "      (0-11): 12 x BertLayer(\n",
       "        (attention): BertAttention(\n",
       "          (self): BertSdpaSelfAttention(\n",
       "            (query): Linear(in_features=768, out_features=768, bias=True)\n",
       "            (key): Linear(in_features=768, out_features=768, bias=True)\n",
       "            (value): Linear(in_features=768, out_features=768, bias=True)\n",
       "            (dropout): Dropout(p=0.1, inplace=False)\n",
       "          )\n",
       "          (output): BertSelfOutput(\n",
       "            (dense): Linear(in_features=768, out_features=768, bias=True)\n",
       "            (LayerNorm): LayerNorm((768,), eps=1e-12, elementwise_affine=True)\n",
       "            (dropout): Dropout(p=0.1, inplace=False)\n",
       "          )\n",
       "        )\n",
       "        (intermediate): BertIntermediate(\n",
       "          (dense): Linear(in_features=768, out_features=3072, bias=True)\n",
       "          (intermediate_act_fn): GELUActivation()\n",
       "        )\n",
       "        (output): BertOutput(\n",
       "          (dense): Linear(in_features=3072, out_features=768, bias=True)\n",
       "          (LayerNorm): LayerNorm((768,), eps=1e-12, elementwise_affine=True)\n",
       "          (dropout): Dropout(p=0.1, inplace=False)\n",
       "        )\n",
       "      )\n",
       "    )\n",
       "  )\n",
       "  (pooler): BertPooler(\n",
       "    (dense): Linear(in_features=768, out_features=768, bias=True)\n",
       "    (activation): Tanh()\n",
       "  )\n",
       ")"
      ]
     },
     "execution_count": 4,
     "metadata": {},
     "output_type": "execute_result"
    }
   ],
   "source": [
    "# Vectorizador\n",
    "\n",
    "tokenizer = AutoTokenizer.from_pretrained(MODEL_NAME)\n",
    "model = AutoModel.from_pretrained(MODEL_NAME).to(device)\n",
    "model.eval()"
   ]
  },
  {
   "cell_type": "code",
   "execution_count": null,
   "id": "08e9af53",
   "metadata": {},
   "outputs": [],
   "source": [
    "def mean_pooling(last_hidden_state, attention_mask):\n",
    "    mask = attention_mask.unsqueeze(-1).expand(last_hidden_state.size()).float()\n",
    "    summed = (last_hidden_state * mask).sum(dim=1)\n",
    "    counts = torch.clamp(mask.sum(dim=1), min=1e-9)\n",
    "    return summed / counts\n",
    "\n",
    "@torch.no_grad()\n",
    "def encode_texts(texts, batch_size=16, max_length=256):\n",
    "    embs = []\n",
    "    for i in tqdm(range(0, len(texts), batch_size), desc=\"Encoding\", leave=False):\n",
    "        batch = texts[i:i+batch_size]\n",
    "        enc = tokenizer(\n",
    "            list(map(str, batch)),\n",
    "            padding=True, truncation=True, max_length=max_length, return_tensors=\"pt\"\n",
    "        ).to(device)\n",
    "\n",
    "        outputs = model(**enc)\n",
    "        pooled = mean_pooling(outputs.last_hidden_state, enc[\"attention_mask\"])\n",
    "        embs.append(pooled.cpu())\n",
    "    return torch.cat(embs, dim=0).numpy()"
   ]
  },
  {
   "cell_type": "code",
   "execution_count": null,
   "id": "736c341d-3373-47aa-b09d-c7949a0fa8cb",
   "metadata": {},
   "outputs": [
    {
     "data": {
      "application/vnd.jupyter.widget-view+json": {
       "model_id": "c3a60284270946db982bbd31933d07fa",
       "version_major": 2,
       "version_minor": 0
      },
      "text/plain": [
       "Encoding:   0%|          | 0/51 [00:00<?, ?it/s]"
      ]
     },
     "metadata": {},
     "output_type": "display_data"
    },
    {
     "data": {
      "application/vnd.jupyter.widget-view+json": {
       "model_id": "9ef8d409fdf14ec6b220290c6e6725fb",
       "version_major": 2,
       "version_minor": 0
      },
      "text/plain": [
       "Encoding:   0%|          | 0/16 [00:00<?, ?it/s]"
      ]
     },
     "metadata": {},
     "output_type": "display_data"
    },
    {
     "data": {
      "application/vnd.jupyter.widget-view+json": {
       "model_id": "3d078b288e214c369a09854aa02236b4",
       "version_major": 2,
       "version_minor": 0
      },
      "text/plain": [
       "Encoding:   0%|          | 0/17 [00:00<?, ?it/s]"
      ]
     },
     "metadata": {},
     "output_type": "display_data"
    },
    {
     "name": "stdout",
     "output_type": "stream",
     "text": [
      "Embeddings: train=(816, 768), val=(247, 768), test=(258, 768)\n"
     ]
    }
   ],
   "source": [
    "# Crear vectores a partir de los datos\n",
    "\n",
    "X_train = encode_texts(data_training[\"text\"].astype(str).tolist(), batch_size=16, max_length=256)\n",
    "X_val   = encode_texts(data_validation[\"text\"].astype(str).tolist(), batch_size=16, max_length=256)\n",
    "X_test  = encode_texts(data_test[\"text\"].astype(str).tolist(), batch_size=16, max_length=256)\n",
    "\n",
    "y_train = data_training[\"label\"].astype(int).values\n",
    "y_test  = data_test[\"label\"].astype(int).values  \n",
    "y_val   = data_validation[\"label\"].astype(int).values\n",
    "\n",
    "print(f\"Embeddings: train={X_train.shape}, val={X_val.shape}, test={X_test.shape}\")"
   ]
  },
  {
   "cell_type": "code",
   "execution_count": null,
   "id": "bac29f82-f22e-40fe-a735-d384e204a41c",
   "metadata": {},
   "outputs": [],
   "source": [
    "# Grid de hiperparámetros para Naive Bayes\n",
    "\n",
    "nb_grid = {\n",
    "    \"var_smoothing\": [1e-9, 1e-8, 1e-7, 1e-6, 1e-5],  # smoothing parameter for GaussianNB\n",
    "}"
   ]
  },
  {
   "cell_type": "code",
   "execution_count": null,
   "id": "e5603409-3db6-4f81-aba3-76b1f885f9ac",
   "metadata": {},
   "outputs": [],
   "source": [
    "def grid_items(grid):\n",
    "    keys = list(grid.keys())\n",
    "    for values in product(*[grid[k] for k in keys]):\n",
    "        yield dict(zip(keys, values))"
   ]
  },
  {
   "cell_type": "code",
   "execution_count": null,
   "id": "22c259ae-6d1e-4f85-8910-5404eca65d69",
   "metadata": {},
   "outputs": [
    {
     "name": "stderr",
     "output_type": "stream",
     "text": [
      "pubmedbert_logreg_C0.1_liblinear:   0%|          | 0/6 [00:00<?, ?it/s]d:\\OneDrive\\Documents\\MAIA\\Semestre 4\\Despliegue de Soluciones\\__REPOS__\\Clasificacion-de-textos-medicos\\.venv_clasificador\\Lib\\site-packages\\sklearn\\linear_model\\_logistic.py:1305: UserWarning: 'n_jobs' > 1 does not have any effect when 'solver' is set to 'liblinear'. Got 'n_jobs' = 32.\n",
      "  warnings.warn(\n",
      "pubmedbert_logreg_C0.1_saga:  17%|█▋        | 1/6 [00:01<00:08,  1.80s/it]     "
     ]
    },
    {
     "name": "stdout",
     "output_type": "stream",
     "text": [
      "🏃 View run pubmedbert_logreg_C0.1_liblinear at: https://dbc-e0c2984f-335b.cloud.databricks.com/ml/experiments/298073712096804/runs/79deae6708d74d0f9f7e7399b3afd07a\n",
      "🧪 View experiment at: https://dbc-e0c2984f-335b.cloud.databricks.com/ml/experiments/298073712096804\n"
     ]
    },
    {
     "name": "stderr",
     "output_type": "stream",
     "text": [
      "pubmedbert_logreg_C1.0_liblinear:  33%|███▎      | 2/6 [00:03<00:08,  2.02s/it]"
     ]
    },
    {
     "name": "stdout",
     "output_type": "stream",
     "text": [
      "🏃 View run pubmedbert_logreg_C0.1_saga at: https://dbc-e0c2984f-335b.cloud.databricks.com/ml/experiments/298073712096804/runs/631badbbbc8a4da79b89dfe270a2639c\n",
      "🧪 View experiment at: https://dbc-e0c2984f-335b.cloud.databricks.com/ml/experiments/298073712096804\n"
     ]
    },
    {
     "name": "stderr",
     "output_type": "stream",
     "text": [
      "d:\\OneDrive\\Documents\\MAIA\\Semestre 4\\Despliegue de Soluciones\\__REPOS__\\Clasificacion-de-textos-medicos\\.venv_clasificador\\Lib\\site-packages\\sklearn\\linear_model\\_logistic.py:1305: UserWarning: 'n_jobs' > 1 does not have any effect when 'solver' is set to 'liblinear'. Got 'n_jobs' = 32.\n",
      "  warnings.warn(\n",
      "pubmedbert_logreg_C1.0_saga:  50%|█████     | 3/6 [00:05<00:05,  1.71s/it]     "
     ]
    },
    {
     "name": "stdout",
     "output_type": "stream",
     "text": [
      "🏃 View run pubmedbert_logreg_C1.0_liblinear at: https://dbc-e0c2984f-335b.cloud.databricks.com/ml/experiments/298073712096804/runs/307e15a520264679856a1cd66af0f515\n",
      "🧪 View experiment at: https://dbc-e0c2984f-335b.cloud.databricks.com/ml/experiments/298073712096804\n"
     ]
    },
    {
     "name": "stderr",
     "output_type": "stream",
     "text": [
      "pubmedbert_logreg_C5.0_liblinear:  67%|██████▋   | 4/6 [00:07<00:04,  2.05s/it]"
     ]
    },
    {
     "name": "stdout",
     "output_type": "stream",
     "text": [
      "🏃 View run pubmedbert_logreg_C1.0_saga at: https://dbc-e0c2984f-335b.cloud.databricks.com/ml/experiments/298073712096804/runs/b9dc9a663023408c895d23c691c85301\n",
      "🧪 View experiment at: https://dbc-e0c2984f-335b.cloud.databricks.com/ml/experiments/298073712096804\n"
     ]
    },
    {
     "name": "stderr",
     "output_type": "stream",
     "text": [
      "d:\\OneDrive\\Documents\\MAIA\\Semestre 4\\Despliegue de Soluciones\\__REPOS__\\Clasificacion-de-textos-medicos\\.venv_clasificador\\Lib\\site-packages\\sklearn\\linear_model\\_logistic.py:1305: UserWarning: 'n_jobs' > 1 does not have any effect when 'solver' is set to 'liblinear'. Got 'n_jobs' = 32.\n",
      "  warnings.warn(\n",
      "pubmedbert_logreg_C5.0_saga:  83%|████████▎ | 5/6 [00:09<00:01,  1.76s/it]     "
     ]
    },
    {
     "name": "stdout",
     "output_type": "stream",
     "text": [
      "🏃 View run pubmedbert_logreg_C5.0_liblinear at: https://dbc-e0c2984f-335b.cloud.databricks.com/ml/experiments/298073712096804/runs/e821876f04164efb9e446f9d572633df\n",
      "🧪 View experiment at: https://dbc-e0c2984f-335b.cloud.databricks.com/ml/experiments/298073712096804\n"
     ]
    },
    {
     "name": "stderr",
     "output_type": "stream",
     "text": [
      "pubmedbert_logreg_C5.0_saga: 100%|██████████| 6/6 [00:12<00:00,  2.08s/it]"
     ]
    },
    {
     "name": "stdout",
     "output_type": "stream",
     "text": [
      "🏃 View run pubmedbert_logreg_C5.0_saga at: https://dbc-e0c2984f-335b.cloud.databricks.com/ml/experiments/298073712096804/runs/547fcfd7814646959522858f096d9d8b\n",
      "🧪 View experiment at: https://dbc-e0c2984f-335b.cloud.databricks.com/ml/experiments/298073712096804\n"
     ]
    },
    {
     "name": "stderr",
     "output_type": "stream",
     "text": [
      "\n"
     ]
    }
   ],
   "source": [
    "nb_total = math.prod(len(v) for v in nb_grid.values())\n",
    "pbar = tqdm(total=nb_total, desc=\"Runs\", leave=True)\n",
    "\n",
    "for nb_params in grid_items(nb_grid):\n",
    "    run_name = f\"pubmedbert_nb_vs{nb_params['var_smoothing']}\"\n",
    "    pbar.set_description(run_name)\n",
    "\n",
    "    with mlflow.start_run(run_name=run_name):\n",
    "        mlflow.set_tag(\"encoder\", MODEL_NAME)\n",
    "        mlflow.set_tag(\"featurizer\", \"contextual_mean_pool\")\n",
    "        mlflow.set_tag(\"model_name\", \"GaussianNB\")\n",
    "        mlflow.log_param(\"embed_dim\", int(X_train.shape[1]))\n",
    "        mlflow.log_param(\"n_train\", int(X_train.shape[0]))\n",
    "        mlflow.log_param(\"n_val\", int(X_val.shape[0]))\n",
    "        for k, v in nb_params.items(): mlflow.log_param(f\"nb_{k}\", v)\n",
    "\n",
    "        # Escalado + Naive Bayes en pipeline (escalado ayuda con embeddings densos)\n",
    "        pipe = Pipeline([\n",
    "            (\"scaler\", StandardScaler(with_mean=True, with_std=True)),\n",
    "            (\"clf\", GaussianNB(**nb_params))\n",
    "        ])\n",
    "        pipe.fit(X_train, y_train)\n",
    "\n",
    "        # Métricas en val\n",
    "        val_scores = pipe.predict_proba(X_val)[:, 1]\n",
    "        val_pred = (val_scores >= 0.5).astype(int)\n",
    "        metrics = {\n",
    "            \"pr_auc\":   float(average_precision_score(y_val, val_scores)),\n",
    "            \"roc_auc\":  float(roc_auc_score(y_val, val_scores)),\n",
    "            \"f1\":       float(f1_score(y_val, val_pred)),\n",
    "            \"recall\":   float(recall_score(y_val, val_pred)),\n",
    "            \"accuracy\": float(accuracy_score(y_val, val_pred)),\n",
    "        }\n",
    "        mlflow.log_metrics(metrics)\n",
    "\n",
    "    pbar.update(1)\n",
    "\n",
    "pbar.close()"
   ]
  },
  {
   "cell_type": "code",
   "execution_count": null,
   "id": "cddca4ff-ad98-4965-8809-05f47180624a",
   "metadata": {},
   "outputs": [
    {
     "name": "stdout",
     "output_type": "stream",
     "text": [
      "Experimento Concluido con Exito!\n"
     ]
    }
   ],
   "source": [
    "print(\"Experimento Concluido con Exito!\")"
   ]
  },
  {
   "cell_type": "code",
   "execution_count": null,
   "id": "8fc4999f-70bc-4d3e-85eb-580253bb5da5",
   "metadata": {},
   "outputs": [],
   "source": [
    "from IPython.display import Markdown\n",
    "\n",
    "def export_code_cells():\n",
    "    from IPython import get_ipython\n",
    "    cells = get_ipython().user_ns['In']\n",
    "    code = '\\n\\n'.join([c for c in cells if c.strip()])\n",
    "    return Markdown(f'```python\\n{code}\\n```')\n",
    "\n",
    "#export_code_cells()"
   ]
  },
  {
   "cell_type": "code",
   "execution_count": null,
   "id": "2b7234d8",
   "metadata": {},
   "outputs": [],
   "source": []
  }
 ],
 "metadata": {
  "kernelspec": {
   "display_name": "pytorchenv",
   "language": "python",
   "name": "python3"
  },
  "language_info": {
   "codemirror_mode": {
    "name": "ipython",
    "version": 3
   },
   "file_extension": ".py",
   "mimetype": "text/x-python",
   "name": "python",
   "nbconvert_exporter": "python",
   "pygments_lexer": "ipython3",
   "version": "3.12.9"
  }
 },
 "nbformat": 4,
 "nbformat_minor": 5
}
