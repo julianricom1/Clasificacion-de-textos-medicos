{
 "cells": [
  {
   "cell_type": "code",
   "execution_count": null,
   "id": "369e80f5-0bbe-41c3-aa4c-6d1a34ff212b",
   "metadata": {},
   "outputs": [
    {
     "name": "stderr",
     "output_type": "stream",
     "text": [
      "d:\\OneDrive\\Documents\\MAIA\\Semestre 4\\Despliegue de Soluciones\\__REPOS__\\Clasificacion-de-textos-medicos\\.venv_clasificador\\Lib\\site-packages\\tqdm\\auto.py:21: TqdmWarning: IProgress not found. Please update jupyter and ipywidgets. See https://ipywidgets.readthedocs.io/en/stable/user_install.html\n",
      "  from .autonotebook import tqdm as notebook_tqdm\n",
      "2025/10/13 22:36:16 INFO mlflow.tracking.fluent: Experiment with name '/Desarrollo_de_Soluciones/NaiveBayes_TFIDF' does not exist. Creating a new experiment.\n"
     ]
    },
    {
     "data": {
      "text/plain": [
       "<Experiment: artifact_location='dbfs:/databricks/mlflow-tracking/1290665620565636', creation_time=1760387774912, experiment_id='1290665620565636', last_update_time=1760387774912, lifecycle_stage='active', name='/Desarrollo_de_Soluciones/NaiveBayes_TFIDF', tags={'mlflow.experiment.sourceName': '/Desarrollo_de_Soluciones/NaiveBayes_TFIDF',\n",
       " 'mlflow.experimentType': 'MLFLOW_EXPERIMENT',\n",
       " 'mlflow.ownerEmail': 'maiauniandes@gmail.com',\n",
       " 'mlflow.ownerId': '78764819635503'}>"
      ]
     },
     "execution_count": 1,
     "metadata": {},
     "output_type": "execute_result"
    }
   ],
   "source": [
    "import pandas as pd\n",
    "import matplotlib.pyplot as plt\n",
    "import numpy as np\n",
    "from itertools import product\n",
    "from sklearn.naive_bayes import ComplementNB, MultinomialNB\n",
    "from sklearn.metrics import average_precision_score, roc_auc_score, f1_score, recall_score, accuracy_score\n",
    "from sklearn.feature_extraction.text import TfidfVectorizer\n",
    "from tqdm.auto import tqdm\n",
    "import math\n",
    "import mlflow\n",
    "import os\n",
    "\n",
    "os.environ[\"DATABRICKS_HOST\"] = \"https://dbc-e0c2984f-335b.cloud.databricks.com/\"\n",
    "os.environ[\"DATABRICKS_TOKEN\"] = \"\"\n",
    "mlflow.set_tracking_uri(\"databricks\")\n",
    "mlflow.set_experiment(\"/Desarrollo_de_Soluciones/NaiveBayes_TFIDF\")"
   ]
  },
  {
   "cell_type": "code",
   "execution_count": 2,
   "id": "710acec1-17eb-4613-a1f9-7e070d602d34",
   "metadata": {},
   "outputs": [],
   "source": [
    "# cargar los datos\n",
    "\n",
    "data_training = pd.read_csv(\"../data/cleaned_train_dataset.csv\")\n",
    "data_test = pd.read_csv(\"../data/cleaned_test_dataset.csv\")\n",
    "data_validation = pd.read_csv(\"../data/cleaned_val_dataset.csv\")"
   ]
  },
  {
   "cell_type": "code",
   "execution_count": 3,
   "id": "970c8e17-6264-4fcc-a8d7-c350ee07dfbd",
   "metadata": {},
   "outputs": [
    {
     "data": {
      "text/html": [
       "<div>\n",
       "<style scoped>\n",
       "    .dataframe tbody tr th:only-of-type {\n",
       "        vertical-align: middle;\n",
       "    }\n",
       "\n",
       "    .dataframe tbody tr th {\n",
       "        vertical-align: top;\n",
       "    }\n",
       "\n",
       "    .dataframe thead th {\n",
       "        text-align: right;\n",
       "    }\n",
       "</style>\n",
       "<table border=\"1\" class=\"dataframe\">\n",
       "  <thead>\n",
       "    <tr style=\"text-align: right;\">\n",
       "      <th></th>\n",
       "      <th>text</th>\n",
       "      <th>label</th>\n",
       "    </tr>\n",
       "  </thead>\n",
       "  <tbody>\n",
       "    <tr>\n",
       "      <th>811</th>\n",
       "      <td>higher blood levels of pyridoxal 5'-phosphate ...</td>\n",
       "      <td>0</td>\n",
       "    </tr>\n",
       "    <tr>\n",
       "      <th>812</th>\n",
       "      <td>pectin-based films are wrapping that is made f...</td>\n",
       "      <td>0</td>\n",
       "    </tr>\n",
       "    <tr>\n",
       "      <th>813</th>\n",
       "      <td>ste20 (sterile 20)/sps-1 related proline/alani...</td>\n",
       "      <td>1</td>\n",
       "    </tr>\n",
       "    <tr>\n",
       "      <th>814</th>\n",
       "      <td>development of a human model of hemorrhage has...</td>\n",
       "      <td>1</td>\n",
       "    </tr>\n",
       "    <tr>\n",
       "      <th>815</th>\n",
       "      <td>the local, systemic, and referred causes of fi...</td>\n",
       "      <td>1</td>\n",
       "    </tr>\n",
       "  </tbody>\n",
       "</table>\n",
       "</div>"
      ],
      "text/plain": [
       "                                                  text  label\n",
       "811  higher blood levels of pyridoxal 5'-phosphate ...      0\n",
       "812  pectin-based films are wrapping that is made f...      0\n",
       "813  ste20 (sterile 20)/sps-1 related proline/alani...      1\n",
       "814  development of a human model of hemorrhage has...      1\n",
       "815  the local, systemic, and referred causes of fi...      1"
      ]
     },
     "execution_count": 3,
     "metadata": {},
     "output_type": "execute_result"
    }
   ],
   "source": [
    "data_training.tail()"
   ]
  },
  {
   "cell_type": "code",
   "execution_count": 4,
   "id": "261f4894-9fee-4c95-b2a1-67b6b5ae8a47",
   "metadata": {},
   "outputs": [
    {
     "name": "stdout",
     "output_type": "stream",
     "text": [
      "inborn errors of metabolism (iem) are hereditary diseases that affect how the body processes nutrients. they vary both in how they appear in a patient and in they underlying genetic causes. to date, more than 1000 different iem have been identified. though each individual disease is rare, taken altogether the rate has been shown to be upwards of 1 in 800. the way the diseases appear in patients can vary. this makes it difficult it diagnose them. iem are present in all ethnic groups and across every age. some iem can be treated, with promising outcomes. however, doctors suspecting these diseases from patient exams is not enough alone to reduce health problems and death. in the last decade, expanded newborn screening has become a mandatory public health strategy in most developed and developing countries. this is due to the advent of a chemical detection technology called tandem mass spectrometry. this technology allows more than 30 different metabolic disorders to be detected at low cost in one single blood spot specimen. the cost is about 10 dollars per baby, and the tests are highly accurate. studies of cost-effectiveness have confirmed that the savings from expanded newborn screening programs are much greater than the costs of running them. the side effects of false positives (when the test is positive but the patient does not have the disease) are not significant in light of the economic and health benefits produced by expanded newborn screening. further, these side effects could be lessened with more education, better communication, and improved technology. local screening agencies should be given the freedom to create their own screening programs so they can keep up with international advancements. improvements in knowledge of genes and how they affect the body are closely linked with expanded newborn screening. this knowledge is growing because of advancements in nanotechnology (working with things at the microscopic level) and molecular genomics (the study of how changes dna drive hereditary outcomes). the potential of tandem mass spectrometry is extending to cover more disorders. in fact, one promising example is the use of genetic markers for severe combined immunodeficiency (scid), a disease that makes people extremely vulnerable to germs. newborn screening represents the highest volume of genetic testing. it is more than a test and it calls for providing organized healthcare before, during, and after the test. there should be a comprehensive reporting system requiring genetic counselling as well as short-term and long-term follow-up. it is essential to integrate existing clinical iem services with the expanded newborn screening program. this is to enable close communication between the laboratory, clinicians, and allied health parties. in this article reviewing the topic, we will discuss the history of iem, how it appears in children and adults, and its rate among different ethnicities. we will also discuss the history and recent expansion of newborn screening, its cost-effectiveness, associated pros and cons, and the ethical issues that can arise. finally, we will discuss the technical aspects of tandem mass spectrometry and considerations for interpreting results. \n",
      "\n",
      "monoclonal antibodies are medicines recommended in mild to moderate covid-19 patients who are at risk of progressing to a severe stage of the disease. monoclonal antibodies are medicines that may block the virus that causes covid-19 (a breathing-related disease) from attaching to human cells, making it more difficult for the virus to reproduce. monoclonal antibodies are not widely used in the united states because there is little data on the impact of these drugs, and it is difficult to give these drugs to patients. this study aimed to assess the outcomes of monoclonal antibodies in patients who were mostly from ethnic minority groups and to study the challenges in providing the treatment in an inner-city hospital in the south bronx. researchers looked at data previously collected from 49 patients who were offered monoclonal antibody medicines. the 38 patients who received the monoclonal antibody therapy were put in the treatment group. eleven people did not want to receive the medicines, so they were made the comparison group. a majority of patients (76%) reported improvement in their symptoms the day after receiving the medicine. there was a big reduction in hospital stays due to covid-19 and death in the group that received monoclonal antibody medicines. monoclonal antibody medicines reduced both hospital stays and deaths in this predominantly hispanic group of patients with mild or moderate covid-19. \n",
      "\n",
      "fetal hemoglobin (hbf) makes the severity of sickle cell anemia (sca) better. the major specific genetic areas effecting hbf levels are in the hbb cluster, bcl11a, and hmip-2 (hbs1l-myb) genes. researchers need to know more about how the areas of these genes effect the process of hbf levels and the outcome of disease in sca. researchers analyzed the function and relationship of 14 mutations in 5 specific genetic areas of the genes with hbf levels and disease outcomes in 250 children with sca in southeastern brazil. they found single mutations that were linked to hbf levels in bcl11a and hmip-2a and hmip-2b genes. patients who had minor mutations (carriers) that increased hbf levels (hbf-boosting) had reduced white blood cells counts. carriers of other minor mutations (genetic differences) showed higher levels of oxygen in the blood. patients carrying still other minor genetic differences in bcl11a showed lower risk of transfusions. these findings were separate from the hbf effect. carriers of other minor mutations showed lower risk of acute chest syndrome. carriers of the standard minor genetic change showed lower risk of infection. patients carrying hbf-boosting minor mutations of bcl11a and hmip-2 genes had milder disease. higher hbf levels may be the cause of this effect. \n",
      "\n",
      "central nervous system adverse effects are commonly reported with pregabalin (pgb). on the other hand, movement disorders (mds) associated with this drug were rarely described. however, their occurrence could significantly affect the quality of life of pgb users. this literature review aims to evaluate the clinical epidemiological profile, pathological mechanisms, and management of pgb-associated mds. relevant reports in six databases were identified and assessed by two reviewers without language restriction. a total of 46 reports containing 305 cases from 17 countries were assessed. the mds encountered were as follows: 184 individuals with ataxia, 61 with tremors, 39 with myoclonus, 8 with parkinsonism, 1 with restless legs syndrome, 1 with dystonia, 1 with dyskinesia, and 1 with akathisia. the mean age was 62 years (range: 23-94). the male sex was slightly predominant with 54.34%. the mean pgb dose when the md occurred was 238 mg, and neuropathic pain was the most common indication of pgb. the time from pgb start to md was < 1 month at 75%. the time from pgb withdrawal to recovery was < 1 week at 77%. all the individuals where the follow-up was reported had a full recovery. the most common management was pgb withdrawal. in the literature, the majority of the cases did not report information about timeline events, neurological examination details, or electrodiagnostic studies. the best management for all mds is probably pgb withdrawal. if the patient is on dialysis program, perhaps an increased number of sessions will decrease recovery time. furthermore, the addition of a benzodiazepine could accelerate recovery. \n",
      "\n"
     ]
    }
   ],
   "source": [
    "# Revisar ejemplosd e los textos\n",
    "\n",
    "for x in data_training[\"text\"][:4]:\n",
    "    print(x, \"\\n\")"
   ]
  },
  {
   "cell_type": "code",
   "execution_count": 5,
   "id": "01eb825d-d644-4db0-a348-1d8c53d4675c",
   "metadata": {},
   "outputs": [
    {
     "data": {
      "image/png": "[encoded data removed]",
      "text/plain": [
       "<Figure size 640x480 with 1 Axes>"
      ]
     },
     "metadata": {},
     "output_type": "display_data"
    }
   ],
   "source": [
    "data_training[\"label\"].value_counts().plot(\n",
    "    kind=\"pie\",\n",
    "    autopct=\"%1.1f%%\",\n",
    "    startangle=90,\n",
    "    ylabel=\"\"   # quita el label \"label\"\n",
    ")\n",
    "plt.title(\"Distribución de etiquetas\")\n",
    "plt.show()"
   ]
  },
  {
   "cell_type": "code",
   "execution_count": 6,
   "id": "736c341d-3373-47aa-b09d-c7949a0fa8cb",
   "metadata": {},
   "outputs": [],
   "source": [
    "# Crear vectores a partir de los datos\n",
    "\n",
    "tfidf_vectorizer = TfidfVectorizer()\n",
    "X_train = tfidf_vectorizer.fit_transform(data_training[\"text\"].astype(str).tolist())\n",
    "X_test = tfidf_vectorizer.transform(data_test[\"text\"].astype(str).tolist())\n",
    "X_validation = tfidf_vectorizer.transform(data_validation[\"text\"].astype(str).tolist())\n",
    "\n",
    "\n",
    "y_train = data_training[\"label\"].astype(int).values\n",
    "y_test  = data_test[\"label\"].astype(int).values  \n",
    "y_val   = data_validation[\"label\"].astype(int).values"
   ]
  },
  {
   "cell_type": "code",
   "execution_count": 7,
   "id": "d6e15cf9-4b28-47c4-9690-ead8463868af",
   "metadata": {},
   "outputs": [
    {
     "name": "stdout",
     "output_type": "stream",
     "text": [
      "tamanio de la data vectorizada: 816 muestras de 10437 dimensiones\n"
     ]
    }
   ],
   "source": [
    "print(f\"tamanio de la data vectorizada: {X_train.shape[0]} muestras de {X_train.shape[1]} dimensiones\")"
   ]
  },
  {
   "cell_type": "code",
   "execution_count": 8,
   "id": "bac29f82-f22e-40fe-a735-d384e204a41c",
   "metadata": {},
   "outputs": [],
   "source": [
    "tfidf_grid = {\n",
    "    \"ngram_range\": [(1,1), (1,2)],\n",
    "    \"min_df\": [0.01, 0.05],\n",
    "    \"max_features\": [5000, 10000],  # tamaño del vocabulario\n",
    "}\n",
    "\n",
    "nb_grid = {\n",
    "    \"nb_type\": [\"complement\", \"multinomial\"],\n",
    "    \"alpha\": [0.1, 0.5, 1.0],\n",
    "}"
   ]
  },
  {
   "cell_type": "code",
   "execution_count": 9,
   "id": "e5603409-3db6-4f81-aba3-76b1f885f9ac",
   "metadata": {},
   "outputs": [],
   "source": [
    "def grid_items(grid):\n",
    "    keys = list(grid.keys())\n",
    "    for values in product(*[grid[k] for k in keys]):\n",
    "        yield dict(zip(keys, values))"
   ]
  },
  {
   "cell_type": "code",
   "execution_count": 10,
   "id": "22c259ae-6d1e-4f85-8910-5404eca65d69",
   "metadata": {},
   "outputs": [
    {
     "name": "stderr",
     "output_type": "stream",
     "text": [
      "tfidf_(1, 1)_nb_complement_alpha0.5:   2%|▏         | 1/48 [00:03<02:22,  3.03s/it]"
     ]
    },
    {
     "name": "stdout",
     "output_type": "stream",
     "text": [
      "🏃 View run tfidf_(1, 1)_nb_complement_alpha0.1 at: https://dbc-2d843358-2bd3.cloud.databricks.com/ml/experiments/1290665620565636/runs/0124a1dff2514b4880f366d3cc0d088c\n",
      "🧪 View experiment at: https://dbc-2d843358-2bd3.cloud.databricks.com/ml/experiments/1290665620565636\n"
     ]
    },
    {
     "name": "stderr",
     "output_type": "stream",
     "text": [
      "tfidf_(1, 1)_nb_complement_alpha0.5:   4%|▍         | 2/48 [00:05<02:11,  2.85s/it]"
     ]
    },
    {
     "name": "stdout",
     "output_type": "stream",
     "text": [
      "🏃 View run tfidf_(1, 1)_nb_complement_alpha0.5 at: https://dbc-2d843358-2bd3.cloud.databricks.com/ml/experiments/1290665620565636/runs/75ecf23b61344c68820630d0a2122e35\n",
      "🧪 View experiment at: https://dbc-2d843358-2bd3.cloud.databricks.com/ml/experiments/1290665620565636\n"
     ]
    },
    {
     "name": "stderr",
     "output_type": "stream",
     "text": [
      "tfidf_(1, 1)_nb_multinomial_alpha0.1:   6%|▋         | 3/48 [00:08<02:05,  2.78s/it]"
     ]
    },
    {
     "name": "stdout",
     "output_type": "stream",
     "text": [
      "🏃 View run tfidf_(1, 1)_nb_complement_alpha1.0 at: https://dbc-2d843358-2bd3.cloud.databricks.com/ml/experiments/1290665620565636/runs/f3bee06fd47546ddb3c921e079a372a3\n",
      "🧪 View experiment at: https://dbc-2d843358-2bd3.cloud.databricks.com/ml/experiments/1290665620565636\n",
      "🏃 View run tfidf_(1, 1)_nb_multinomial_alpha0.1 at: https://dbc-2d843358-2bd3.cloud.databricks.com/ml/experiments/1290665620565636/runs/9e552aeba18b42dcaad5ee4f59a5eb66\n",
      "🧪 View experiment at: https://dbc-2d843358-2bd3.cloud.databricks.com/ml/experiments/1290665620565636\n"
     ]
    },
    {
     "name": "stderr",
     "output_type": "stream",
     "text": [
      "tfidf_(1, 1)_nb_multinomial_alpha0.5:   8%|▊         | 4/48 [00:11<02:02,  2.78s/it]"
     ]
    },
    {
     "name": "stdout",
     "output_type": "stream",
     "text": [
      "🏃 View run tfidf_(1, 1)_nb_multinomial_alpha0.5 at: https://dbc-2d843358-2bd3.cloud.databricks.com/ml/experiments/1290665620565636/runs/0a2096f464f74e448df018cc347e120a\n",
      "🧪 View experiment at: https://dbc-2d843358-2bd3.cloud.databricks.com/ml/experiments/1290665620565636\n"
     ]
    },
    {
     "name": "stderr",
     "output_type": "stream",
     "text": [
      "tfidf_(1, 1)_nb_multinomial_alpha1.0:  10%|█         | 5/48 [00:13<01:58,  2.75s/it]"
     ]
    },
    {
     "name": "stdout",
     "output_type": "stream",
     "text": [
      "🏃 View run tfidf_(1, 1)_nb_multinomial_alpha1.0 at: https://dbc-2d843358-2bd3.cloud.databricks.com/ml/experiments/1290665620565636/runs/46f69805649544c6884ee89331fc773a\n",
      "🧪 View experiment at: https://dbc-2d843358-2bd3.cloud.databricks.com/ml/experiments/1290665620565636\n"
     ]
    },
    {
     "name": "stderr",
     "output_type": "stream",
     "text": [
      "tfidf_(1, 1)_nb_complement_alpha0.1:  12%|█▎        | 6/48 [00:16<01:55,  2.76s/it] "
     ]
    },
    {
     "name": "stdout",
     "output_type": "stream",
     "text": [
      "🏃 View run tfidf_(1, 1)_nb_complement_alpha0.1 at: https://dbc-2d843358-2bd3.cloud.databricks.com/ml/experiments/1290665620565636/runs/3f997fc109d7481dbf9e16e0e71a8a4c\n",
      "🧪 View experiment at: https://dbc-2d843358-2bd3.cloud.databricks.com/ml/experiments/1290665620565636\n"
     ]
    },
    {
     "name": "stderr",
     "output_type": "stream",
     "text": [
      "tfidf_(1, 1)_nb_complement_alpha0.5:  17%|█▋        | 8/48 [00:22<01:50,  2.76s/it]"
     ]
    },
    {
     "name": "stdout",
     "output_type": "stream",
     "text": [
      "🏃 View run tfidf_(1, 1)_nb_complement_alpha0.5 at: https://dbc-2d843358-2bd3.cloud.databricks.com/ml/experiments/1290665620565636/runs/0d5d673f12bc4f3f8f44c210881f1149\n",
      "🧪 View experiment at: https://dbc-2d843358-2bd3.cloud.databricks.com/ml/experiments/1290665620565636\n"
     ]
    },
    {
     "name": "stderr",
     "output_type": "stream",
     "text": [
      "tfidf_(1, 1)_nb_complement_alpha1.0:  17%|█▋        | 8/48 [00:22<01:50,  2.76s/it]"
     ]
    },
    {
     "name": "stdout",
     "output_type": "stream",
     "text": [
      "🏃 View run tfidf_(1, 1)_nb_complement_alpha1.0 at: https://dbc-2d843358-2bd3.cloud.databricks.com/ml/experiments/1290665620565636/runs/5679dd8652934cf7be31b5198b527238\n",
      "🧪 View experiment at: https://dbc-2d843358-2bd3.cloud.databricks.com/ml/experiments/1290665620565636\n"
     ]
    },
    {
     "name": "stderr",
     "output_type": "stream",
     "text": [
      "tfidf_(1, 1)_nb_multinomial_alpha0.1:  21%|██        | 10/48 [00:27<01:45,  2.79s/it]"
     ]
    },
    {
     "name": "stdout",
     "output_type": "stream",
     "text": [
      "🏃 View run tfidf_(1, 1)_nb_multinomial_alpha0.1 at: https://dbc-2d843358-2bd3.cloud.databricks.com/ml/experiments/1290665620565636/runs/cc03716486824a39a6c8db09e73fe67d\n",
      "🧪 View experiment at: https://dbc-2d843358-2bd3.cloud.databricks.com/ml/experiments/1290665620565636\n"
     ]
    },
    {
     "name": "stderr",
     "output_type": "stream",
     "text": [
      "tfidf_(1, 1)_nb_multinomial_alpha1.0:  23%|██▎       | 11/48 [00:30<01:42,  2.78s/it]"
     ]
    },
    {
     "name": "stdout",
     "output_type": "stream",
     "text": [
      "🏃 View run tfidf_(1, 1)_nb_multinomial_alpha0.5 at: https://dbc-2d843358-2bd3.cloud.databricks.com/ml/experiments/1290665620565636/runs/f08b00ef657b4f28b394886cd3ae6ed2\n",
      "🧪 View experiment at: https://dbc-2d843358-2bd3.cloud.databricks.com/ml/experiments/1290665620565636\n",
      "🏃 View run tfidf_(1, 1)_nb_multinomial_alpha1.0 at: https://dbc-2d843358-2bd3.cloud.databricks.com/ml/experiments/1290665620565636/runs/e7e8c3a556f84833bfcfc90247bbe263\n",
      "🧪 View experiment at: https://dbc-2d843358-2bd3.cloud.databricks.com/ml/experiments/1290665620565636\n"
     ]
    },
    {
     "name": "stderr",
     "output_type": "stream",
     "text": [
      "tfidf_(1, 1)_nb_complement_alpha0.5:  27%|██▋       | 13/48 [00:36<01:37,  2.78s/it] "
     ]
    },
    {
     "name": "stdout",
     "output_type": "stream",
     "text": [
      "🏃 View run tfidf_(1, 1)_nb_complement_alpha0.1 at: https://dbc-2d843358-2bd3.cloud.databricks.com/ml/experiments/1290665620565636/runs/a53fef29daa84c4aa367874db15849f3\n",
      "🧪 View experiment at: https://dbc-2d843358-2bd3.cloud.databricks.com/ml/experiments/1290665620565636\n"
     ]
    },
    {
     "name": "stderr",
     "output_type": "stream",
     "text": [
      "tfidf_(1, 1)_nb_complement_alpha1.0:  29%|██▉       | 14/48 [00:38<01:34,  2.77s/it]"
     ]
    },
    {
     "name": "stdout",
     "output_type": "stream",
     "text": [
      "🏃 View run tfidf_(1, 1)_nb_complement_alpha0.5 at: https://dbc-2d843358-2bd3.cloud.databricks.com/ml/experiments/1290665620565636/runs/e52a1490e6634199b14fdb4a5ddecee6\n",
      "🧪 View experiment at: https://dbc-2d843358-2bd3.cloud.databricks.com/ml/experiments/1290665620565636\n"
     ]
    },
    {
     "name": "stderr",
     "output_type": "stream",
     "text": [
      "tfidf_(1, 1)_nb_multinomial_alpha0.1:  31%|███▏      | 15/48 [00:41<01:31,  2.77s/it]"
     ]
    },
    {
     "name": "stdout",
     "output_type": "stream",
     "text": [
      "🏃 View run tfidf_(1, 1)_nb_complement_alpha1.0 at: https://dbc-2d843358-2bd3.cloud.databricks.com/ml/experiments/1290665620565636/runs/06d29dd0bfc04769b316b5dcc42d147e\n",
      "🧪 View experiment at: https://dbc-2d843358-2bd3.cloud.databricks.com/ml/experiments/1290665620565636\n"
     ]
    },
    {
     "name": "stderr",
     "output_type": "stream",
     "text": [
      "tfidf_(1, 1)_nb_multinomial_alpha0.5:  33%|███▎      | 16/48 [00:44<01:28,  2.75s/it]"
     ]
    },
    {
     "name": "stdout",
     "output_type": "stream",
     "text": [
      "🏃 View run tfidf_(1, 1)_nb_multinomial_alpha0.1 at: https://dbc-2d843358-2bd3.cloud.databricks.com/ml/experiments/1290665620565636/runs/3d370fdfdb5f40c58b879895fd27a3ca\n",
      "🧪 View experiment at: https://dbc-2d843358-2bd3.cloud.databricks.com/ml/experiments/1290665620565636\n"
     ]
    },
    {
     "name": "stderr",
     "output_type": "stream",
     "text": [
      "tfidf_(1, 1)_nb_multinomial_alpha0.5:  35%|███▌      | 17/48 [00:47<01:28,  2.87s/it]"
     ]
    },
    {
     "name": "stdout",
     "output_type": "stream",
     "text": [
      "🏃 View run tfidf_(1, 1)_nb_multinomial_alpha0.5 at: https://dbc-2d843358-2bd3.cloud.databricks.com/ml/experiments/1290665620565636/runs/240d6dc3dfba4056835bbb9a794bfec3\n",
      "🧪 View experiment at: https://dbc-2d843358-2bd3.cloud.databricks.com/ml/experiments/1290665620565636\n"
     ]
    },
    {
     "name": "stderr",
     "output_type": "stream",
     "text": [
      "tfidf_(1, 1)_nb_multinomial_alpha1.0:  38%|███▊      | 18/48 [00:50<01:25,  2.84s/it]"
     ]
    },
    {
     "name": "stdout",
     "output_type": "stream",
     "text": [
      "🏃 View run tfidf_(1, 1)_nb_multinomial_alpha1.0 at: https://dbc-2d843358-2bd3.cloud.databricks.com/ml/experiments/1290665620565636/runs/35d5983eaf294f778ab6af7756ef20ce\n",
      "🧪 View experiment at: https://dbc-2d843358-2bd3.cloud.databricks.com/ml/experiments/1290665620565636\n"
     ]
    },
    {
     "name": "stderr",
     "output_type": "stream",
     "text": [
      "tfidf_(1, 1)_nb_complement_alpha0.1:  40%|███▉      | 19/48 [00:53<01:22,  2.85s/it] "
     ]
    },
    {
     "name": "stdout",
     "output_type": "stream",
     "text": [
      "🏃 View run tfidf_(1, 1)_nb_complement_alpha0.1 at: https://dbc-2d843358-2bd3.cloud.databricks.com/ml/experiments/1290665620565636/runs/c661dfb180b64a2b9ea9b9c243484bb9\n",
      "🧪 View experiment at: https://dbc-2d843358-2bd3.cloud.databricks.com/ml/experiments/1290665620565636\n"
     ]
    },
    {
     "name": "stderr",
     "output_type": "stream",
     "text": [
      "tfidf_(1, 1)_nb_complement_alpha0.5:  40%|███▉      | 19/48 [00:53<01:22,  2.85s/it]"
     ]
    },
    {
     "name": "stdout",
     "output_type": "stream",
     "text": [
      "🏃 View run tfidf_(1, 1)_nb_complement_alpha0.5 at: https://dbc-2d843358-2bd3.cloud.databricks.com/ml/experiments/1290665620565636/runs/3c7b66af64ef4b5a93331ff2f25cd6a3\n",
      "🧪 View experiment at: https://dbc-2d843358-2bd3.cloud.databricks.com/ml/experiments/1290665620565636\n"
     ]
    },
    {
     "name": "stderr",
     "output_type": "stream",
     "text": [
      "tfidf_(1, 1)_nb_complement_alpha1.0:  42%|████▏     | 20/48 [00:56<01:19,  2.83s/it]"
     ]
    },
    {
     "name": "stdout",
     "output_type": "stream",
     "text": [
      "🏃 View run tfidf_(1, 1)_nb_complement_alpha1.0 at: https://dbc-2d843358-2bd3.cloud.databricks.com/ml/experiments/1290665620565636/runs/70d76a5b6ba5492e9b6c95af77fd5f42\n",
      "🧪 View experiment at: https://dbc-2d843358-2bd3.cloud.databricks.com/ml/experiments/1290665620565636\n"
     ]
    },
    {
     "name": "stderr",
     "output_type": "stream",
     "text": [
      "tfidf_(1, 1)_nb_multinomial_alpha0.1:  44%|████▍     | 21/48 [00:58<01:15,  2.80s/it]"
     ]
    },
    {
     "name": "stdout",
     "output_type": "stream",
     "text": [
      "🏃 View run tfidf_(1, 1)_nb_multinomial_alpha0.1 at: https://dbc-2d843358-2bd3.cloud.databricks.com/ml/experiments/1290665620565636/runs/5e8cbc243996436992318f90de639aca\n",
      "🧪 View experiment at: https://dbc-2d843358-2bd3.cloud.databricks.com/ml/experiments/1290665620565636\n"
     ]
    },
    {
     "name": "stderr",
     "output_type": "stream",
     "text": [
      "tfidf_(1, 1)_nb_multinomial_alpha1.0:  48%|████▊     | 23/48 [01:04<01:09,  2.76s/it]"
     ]
    },
    {
     "name": "stdout",
     "output_type": "stream",
     "text": [
      "🏃 View run tfidf_(1, 1)_nb_multinomial_alpha0.5 at: https://dbc-2d843358-2bd3.cloud.databricks.com/ml/experiments/1290665620565636/runs/88f7b86d770143fb9ad8e66090e67f90\n",
      "🧪 View experiment at: https://dbc-2d843358-2bd3.cloud.databricks.com/ml/experiments/1290665620565636\n"
     ]
    },
    {
     "name": "stderr",
     "output_type": "stream",
     "text": [
      "tfidf_(1, 1)_nb_multinomial_alpha1.0:  50%|█████     | 24/48 [01:07<01:06,  2.79s/it]"
     ]
    },
    {
     "name": "stdout",
     "output_type": "stream",
     "text": [
      "🏃 View run tfidf_(1, 1)_nb_multinomial_alpha1.0 at: https://dbc-2d843358-2bd3.cloud.databricks.com/ml/experiments/1290665620565636/runs/622ed1abbc6e4f12aabbb1bf59a53af2\n",
      "🧪 View experiment at: https://dbc-2d843358-2bd3.cloud.databricks.com/ml/experiments/1290665620565636\n"
     ]
    },
    {
     "name": "stderr",
     "output_type": "stream",
     "text": [
      "tfidf_(1, 2)_nb_complement_alpha0.1:  50%|█████     | 24/48 [01:07<01:06,  2.79s/it] "
     ]
    },
    {
     "name": "stdout",
     "output_type": "stream",
     "text": [
      "🏃 View run tfidf_(1, 2)_nb_complement_alpha0.1 at: https://dbc-2d843358-2bd3.cloud.databricks.com/ml/experiments/1290665620565636/runs/6dd2b68d50064095aa1f312462a17a6d\n",
      "🧪 View experiment at: https://dbc-2d843358-2bd3.cloud.databricks.com/ml/experiments/1290665620565636\n"
     ]
    },
    {
     "name": "stderr",
     "output_type": "stream",
     "text": [
      "tfidf_(1, 2)_nb_complement_alpha0.5:  52%|█████▏    | 25/48 [01:10<01:05,  2.85s/it]"
     ]
    },
    {
     "name": "stdout",
     "output_type": "stream",
     "text": [
      "🏃 View run tfidf_(1, 2)_nb_complement_alpha0.5 at: https://dbc-2d843358-2bd3.cloud.databricks.com/ml/experiments/1290665620565636/runs/9b11b34016af409994f45c9d50ee725a\n",
      "🧪 View experiment at: https://dbc-2d843358-2bd3.cloud.databricks.com/ml/experiments/1290665620565636\n"
     ]
    },
    {
     "name": "stderr",
     "output_type": "stream",
     "text": [
      "tfidf_(1, 2)_nb_complement_alpha1.0:  54%|█████▍    | 26/48 [01:12<01:01,  2.81s/it]"
     ]
    },
    {
     "name": "stdout",
     "output_type": "stream",
     "text": [
      "🏃 View run tfidf_(1, 2)_nb_complement_alpha1.0 at: https://dbc-2d843358-2bd3.cloud.databricks.com/ml/experiments/1290665620565636/runs/96f430aeb2914ae0b2b7855b7eaa4979\n",
      "🧪 View experiment at: https://dbc-2d843358-2bd3.cloud.databricks.com/ml/experiments/1290665620565636\n"
     ]
    },
    {
     "name": "stderr",
     "output_type": "stream",
     "text": [
      "tfidf_(1, 2)_nb_multinomial_alpha0.1:  58%|█████▊    | 28/48 [01:18<00:55,  2.76s/it]"
     ]
    },
    {
     "name": "stdout",
     "output_type": "stream",
     "text": [
      "🏃 View run tfidf_(1, 2)_nb_multinomial_alpha0.1 at: https://dbc-2d843358-2bd3.cloud.databricks.com/ml/experiments/1290665620565636/runs/f764444d7f194b0fb6ff40c3fbf617a1\n",
      "🧪 View experiment at: https://dbc-2d843358-2bd3.cloud.databricks.com/ml/experiments/1290665620565636\n"
     ]
    },
    {
     "name": "stderr",
     "output_type": "stream",
     "text": [
      "tfidf_(1, 2)_nb_multinomial_alpha0.5:  58%|█████▊    | 28/48 [01:18<00:55,  2.76s/it]"
     ]
    },
    {
     "name": "stdout",
     "output_type": "stream",
     "text": [
      "🏃 View run tfidf_(1, 2)_nb_multinomial_alpha0.5 at: https://dbc-2d843358-2bd3.cloud.databricks.com/ml/experiments/1290665620565636/runs/4b8adb012f1f41a8be6833ee1a889bda\n",
      "🧪 View experiment at: https://dbc-2d843358-2bd3.cloud.databricks.com/ml/experiments/1290665620565636\n"
     ]
    },
    {
     "name": "stderr",
     "output_type": "stream",
     "text": [
      "tfidf_(1, 2)_nb_multinomial_alpha1.0:  62%|██████▎   | 30/48 [01:23<00:49,  2.74s/it]"
     ]
    },
    {
     "name": "stdout",
     "output_type": "stream",
     "text": [
      "🏃 View run tfidf_(1, 2)_nb_multinomial_alpha1.0 at: https://dbc-2d843358-2bd3.cloud.databricks.com/ml/experiments/1290665620565636/runs/a4ee33739ce94a8c907cbdaa745ed114\n",
      "🧪 View experiment at: https://dbc-2d843358-2bd3.cloud.databricks.com/ml/experiments/1290665620565636\n"
     ]
    },
    {
     "name": "stderr",
     "output_type": "stream",
     "text": [
      "tfidf_(1, 2)_nb_complement_alpha0.1:  65%|██████▍   | 31/48 [01:26<00:47,  2.82s/it] "
     ]
    },
    {
     "name": "stdout",
     "output_type": "stream",
     "text": [
      "🏃 View run tfidf_(1, 2)_nb_complement_alpha0.1 at: https://dbc-2d843358-2bd3.cloud.databricks.com/ml/experiments/1290665620565636/runs/03d82d98e6614d9aa316901737a157d7\n",
      "🧪 View experiment at: https://dbc-2d843358-2bd3.cloud.databricks.com/ml/experiments/1290665620565636\n"
     ]
    },
    {
     "name": "stderr",
     "output_type": "stream",
     "text": [
      "tfidf_(1, 2)_nb_complement_alpha1.0:  67%|██████▋   | 32/48 [01:29<00:44,  2.78s/it]"
     ]
    },
    {
     "name": "stdout",
     "output_type": "stream",
     "text": [
      "🏃 View run tfidf_(1, 2)_nb_complement_alpha0.5 at: https://dbc-2d843358-2bd3.cloud.databricks.com/ml/experiments/1290665620565636/runs/86443543e3c441aa814e76224c2774ce\n",
      "🧪 View experiment at: https://dbc-2d843358-2bd3.cloud.databricks.com/ml/experiments/1290665620565636\n"
     ]
    },
    {
     "name": "stderr",
     "output_type": "stream",
     "text": [
      "tfidf_(1, 2)_nb_multinomial_alpha0.1:  69%|██████▉   | 33/48 [01:32<00:41,  2.78s/it]"
     ]
    },
    {
     "name": "stdout",
     "output_type": "stream",
     "text": [
      "🏃 View run tfidf_(1, 2)_nb_complement_alpha1.0 at: https://dbc-2d843358-2bd3.cloud.databricks.com/ml/experiments/1290665620565636/runs/e13f63716d2444cf82d4d10b4fb2e2eb\n",
      "🧪 View experiment at: https://dbc-2d843358-2bd3.cloud.databricks.com/ml/experiments/1290665620565636\n",
      "🏃 View run tfidf_(1, 2)_nb_multinomial_alpha0.1 at: https://dbc-2d843358-2bd3.cloud.databricks.com/ml/experiments/1290665620565636/runs/413d6914b07749bca408868173bcd2bd\n",
      "🧪 View experiment at: https://dbc-2d843358-2bd3.cloud.databricks.com/ml/experiments/1290665620565636\n"
     ]
    },
    {
     "name": "stderr",
     "output_type": "stream",
     "text": [
      "tfidf_(1, 2)_nb_multinomial_alpha0.5:  71%|███████   | 34/48 [01:34<00:39,  2.80s/it]"
     ]
    },
    {
     "name": "stdout",
     "output_type": "stream",
     "text": [
      "🏃 View run tfidf_(1, 2)_nb_multinomial_alpha0.5 at: https://dbc-2d843358-2bd3.cloud.databricks.com/ml/experiments/1290665620565636/runs/794a0fd67ddb43a7a3ae04516426bfad\n",
      "🧪 View experiment at: https://dbc-2d843358-2bd3.cloud.databricks.com/ml/experiments/1290665620565636\n"
     ]
    },
    {
     "name": "stderr",
     "output_type": "stream",
     "text": [
      "tfidf_(1, 2)_nb_multinomial_alpha1.0:  73%|███████▎  | 35/48 [01:37<00:36,  2.78s/it]"
     ]
    },
    {
     "name": "stdout",
     "output_type": "stream",
     "text": [
      "🏃 View run tfidf_(1, 2)_nb_multinomial_alpha1.0 at: https://dbc-2d843358-2bd3.cloud.databricks.com/ml/experiments/1290665620565636/runs/766c1325c0074638939e0ae7fe1ac9cc\n",
      "🧪 View experiment at: https://dbc-2d843358-2bd3.cloud.databricks.com/ml/experiments/1290665620565636\n"
     ]
    },
    {
     "name": "stderr",
     "output_type": "stream",
     "text": [
      "tfidf_(1, 2)_nb_complement_alpha0.5:  77%|███████▋  | 37/48 [01:43<00:31,  2.85s/it] "
     ]
    },
    {
     "name": "stdout",
     "output_type": "stream",
     "text": [
      "🏃 View run tfidf_(1, 2)_nb_complement_alpha0.1 at: https://dbc-2d843358-2bd3.cloud.databricks.com/ml/experiments/1290665620565636/runs/737d9910242b4a7ea650620ad19751c5\n",
      "🧪 View experiment at: https://dbc-2d843358-2bd3.cloud.databricks.com/ml/experiments/1290665620565636\n",
      "🏃 View run tfidf_(1, 2)_nb_complement_alpha0.5 at: https://dbc-2d843358-2bd3.cloud.databricks.com/ml/experiments/1290665620565636/runs/e9c02a176a6545e785976bb4a3ab46fa\n",
      "🧪 View experiment at: https://dbc-2d843358-2bd3.cloud.databricks.com/ml/experiments/1290665620565636\n"
     ]
    },
    {
     "name": "stderr",
     "output_type": "stream",
     "text": [
      "tfidf_(1, 2)_nb_complement_alpha1.0:  79%|███████▉  | 38/48 [01:46<00:28,  2.88s/it]"
     ]
    },
    {
     "name": "stdout",
     "output_type": "stream",
     "text": [
      "🏃 View run tfidf_(1, 2)_nb_complement_alpha1.0 at: https://dbc-2d843358-2bd3.cloud.databricks.com/ml/experiments/1290665620565636/runs/a57335f5ef2244a0ace1abe76ae13fb7\n",
      "🧪 View experiment at: https://dbc-2d843358-2bd3.cloud.databricks.com/ml/experiments/1290665620565636\n"
     ]
    },
    {
     "name": "stderr",
     "output_type": "stream",
     "text": [
      "tfidf_(1, 2)_nb_multinomial_alpha0.1:  81%|████████▏ | 39/48 [01:49<00:25,  2.84s/it]"
     ]
    },
    {
     "name": "stdout",
     "output_type": "stream",
     "text": [
      "🏃 View run tfidf_(1, 2)_nb_multinomial_alpha0.1 at: https://dbc-2d843358-2bd3.cloud.databricks.com/ml/experiments/1290665620565636/runs/4a53ba2d82f341b3bfe99fabea9442fd\n",
      "🧪 View experiment at: https://dbc-2d843358-2bd3.cloud.databricks.com/ml/experiments/1290665620565636\n"
     ]
    },
    {
     "name": "stderr",
     "output_type": "stream",
     "text": [
      "tfidf_(1, 2)_nb_multinomial_alpha0.5:  83%|████████▎ | 40/48 [01:51<00:22,  2.80s/it]"
     ]
    },
    {
     "name": "stdout",
     "output_type": "stream",
     "text": [
      "🏃 View run tfidf_(1, 2)_nb_multinomial_alpha0.5 at: https://dbc-2d843358-2bd3.cloud.databricks.com/ml/experiments/1290665620565636/runs/e8cf5e89ea194fffb1b2c0b85462331e\n",
      "🧪 View experiment at: https://dbc-2d843358-2bd3.cloud.databricks.com/ml/experiments/1290665620565636\n"
     ]
    },
    {
     "name": "stderr",
     "output_type": "stream",
     "text": [
      "tfidf_(1, 2)_nb_multinomial_alpha1.0:  85%|████████▌ | 41/48 [01:54<00:19,  2.78s/it]"
     ]
    },
    {
     "name": "stdout",
     "output_type": "stream",
     "text": [
      "🏃 View run tfidf_(1, 2)_nb_multinomial_alpha1.0 at: https://dbc-2d843358-2bd3.cloud.databricks.com/ml/experiments/1290665620565636/runs/43ad4eb30c5f41ab9c801ff2dd2c666d\n",
      "🧪 View experiment at: https://dbc-2d843358-2bd3.cloud.databricks.com/ml/experiments/1290665620565636\n"
     ]
    },
    {
     "name": "stderr",
     "output_type": "stream",
     "text": [
      "tfidf_(1, 2)_nb_complement_alpha0.1:  88%|████████▊ | 42/48 [01:57<00:16,  2.78s/it] "
     ]
    },
    {
     "name": "stdout",
     "output_type": "stream",
     "text": [
      "🏃 View run tfidf_(1, 2)_nb_complement_alpha0.1 at: https://dbc-2d843358-2bd3.cloud.databricks.com/ml/experiments/1290665620565636/runs/68d3bf4d7d154d99b08cba11a75ac292\n",
      "🧪 View experiment at: https://dbc-2d843358-2bd3.cloud.databricks.com/ml/experiments/1290665620565636\n"
     ]
    },
    {
     "name": "stderr",
     "output_type": "stream",
     "text": [
      "tfidf_(1, 2)_nb_complement_alpha0.5:  90%|████████▉ | 43/48 [02:00<00:14,  2.85s/it]"
     ]
    },
    {
     "name": "stdout",
     "output_type": "stream",
     "text": [
      "🏃 View run tfidf_(1, 2)_nb_complement_alpha0.5 at: https://dbc-2d843358-2bd3.cloud.databricks.com/ml/experiments/1290665620565636/runs/60ea66d8ab4445249e5ed2a059fb1b17\n",
      "🧪 View experiment at: https://dbc-2d843358-2bd3.cloud.databricks.com/ml/experiments/1290665620565636\n"
     ]
    },
    {
     "name": "stderr",
     "output_type": "stream",
     "text": [
      "tfidf_(1, 2)_nb_complement_alpha1.0:  92%|█████████▏| 44/48 [02:04<00:13,  3.35s/it]"
     ]
    },
    {
     "name": "stdout",
     "output_type": "stream",
     "text": [
      "🏃 View run tfidf_(1, 2)_nb_complement_alpha1.0 at: https://dbc-2d843358-2bd3.cloud.databricks.com/ml/experiments/1290665620565636/runs/4f8a643ab22e4fd5ab30235c59d83087\n",
      "🧪 View experiment at: https://dbc-2d843358-2bd3.cloud.databricks.com/ml/experiments/1290665620565636\n"
     ]
    },
    {
     "name": "stderr",
     "output_type": "stream",
     "text": [
      "tfidf_(1, 2)_nb_multinomial_alpha0.1:  96%|█████████▌| 46/48 [02:10<00:06,  3.12s/it]"
     ]
    },
    {
     "name": "stdout",
     "output_type": "stream",
     "text": [
      "🏃 View run tfidf_(1, 2)_nb_multinomial_alpha0.1 at: https://dbc-2d843358-2bd3.cloud.databricks.com/ml/experiments/1290665620565636/runs/14148dde318f4bac9b18e9ba7b29ac14\n",
      "🧪 View experiment at: https://dbc-2d843358-2bd3.cloud.databricks.com/ml/experiments/1290665620565636\n"
     ]
    },
    {
     "name": "stderr",
     "output_type": "stream",
     "text": [
      "tfidf_(1, 2)_nb_multinomial_alpha0.5:  96%|█████████▌| 46/48 [02:10<00:06,  3.12s/it]"
     ]
    },
    {
     "name": "stdout",
     "output_type": "stream",
     "text": [
      "🏃 View run tfidf_(1, 2)_nb_multinomial_alpha0.5 at: https://dbc-2d843358-2bd3.cloud.databricks.com/ml/experiments/1290665620565636/runs/80ea3a6d035f450aa6935cee7abaa57a\n",
      "🧪 View experiment at: https://dbc-2d843358-2bd3.cloud.databricks.com/ml/experiments/1290665620565636\n"
     ]
    },
    {
     "name": "stderr",
     "output_type": "stream",
     "text": [
      "tfidf_(1, 2)_nb_multinomial_alpha1.0:  98%|█████████▊| 47/48 [02:13<00:03,  3.03s/it]"
     ]
    },
    {
     "name": "stdout",
     "output_type": "stream",
     "text": [
      "🏃 View run tfidf_(1, 2)_nb_multinomial_alpha1.0 at: https://dbc-2d843358-2bd3.cloud.databricks.com/ml/experiments/1290665620565636/runs/2f9a65fe60ac4a42a716303dd5deb025\n",
      "🧪 View experiment at: https://dbc-2d843358-2bd3.cloud.databricks.com/ml/experiments/1290665620565636\n"
     ]
    },
    {
     "name": "stderr",
     "output_type": "stream",
     "text": [
      "tfidf_(1, 2)_nb_multinomial_alpha1.0: 100%|██████████| 48/48 [02:16<00:00,  2.84s/it]\n"
     ]
    }
   ],
   "source": [
    "tfidf_total = math.prod(len(v) for v in tfidf_grid.values())\n",
    "nb_total = math.prod(len(v) for v in nb_grid.values())\n",
    "pbar = tqdm(total=tfidf_total * nb_total, desc=\"Runs\", leave=True)\n",
    "\n",
    "for tfidf_params in grid_items(tfidf_grid):\n",
    "    vec = TfidfVectorizer(\n",
    "        analyzer=\"word\", max_df=0.9, sublinear_tf=True, norm=\"l2\",\n",
    "        **tfidf_params\n",
    "    )\n",
    "    X_train = vec.fit_transform(data_training[\"text\"].astype(str))\n",
    "    X_val   = vec.transform(data_validation[\"text\"].astype(str))\n",
    "\n",
    "    for nb_params in grid_items(nb_grid):\n",
    "        run_name = f\"tfidf_{tfidf_params['ngram_range']}_nb_{nb_params['nb_type']}_alpha{nb_params['alpha']}\"\n",
    "        pbar.set_description(run_name)\n",
    "\n",
    "        with mlflow.start_run(run_name=run_name):\n",
    "            # logging de params\n",
    "            mlflow.set_tag(\"model_name\", f\"NB_{nb_params['nb_type']}\")\n",
    "            mlflow.log_param(\"featurizer\", \"tfidf\")\n",
    "            for k, v in tfidf_params.items(): mlflow.log_param(f\"tfidf_{k}\", v)\n",
    "            mlflow.log_param(\"vocab_size\", int(X_train.shape[1]))\n",
    "            mlflow.log_param(\"n_train\", int(X_train.shape[0]))\n",
    "            mlflow.log_param(\"n_val\", int(X_val.shape[0]))\n",
    "            for k, v in nb_params.items(): mlflow.log_param(f\"nb_{k}\", v)\n",
    "\n",
    "            # modelo\n",
    "            if nb_params[\"nb_type\"] == \"complement\":\n",
    "                model = ComplementNB(alpha=nb_params[\"alpha\"])\n",
    "            else:\n",
    "                model = MultinomialNB(alpha=nb_params[\"alpha\"])\n",
    "\n",
    "            model.fit(X_train, y_train)\n",
    "\n",
    "            # métricas\n",
    "            val_scores = model.predict_proba(X_val)[:, 1]\n",
    "            val_pred = (val_scores >= 0.5).astype(int)\n",
    "\n",
    "            metrics = {\n",
    "                \"pr_auc\": float(average_precision_score(y_val, val_scores)),\n",
    "                \"roc_auc\": float(roc_auc_score(y_val, val_scores)),\n",
    "                \"f1\": float(f1_score(y_val, val_pred)),\n",
    "                \"recall\": float(recall_score(y_val, val_pred)),\n",
    "                \"accuracy\": float(accuracy_score(y_val, val_pred)),\n",
    "            }\n",
    "            mlflow.log_metrics(metrics)\n",
    "\n",
    "        pbar.update(1)\n",
    "\n",
    "pbar.close()"
   ]
  },
  {
   "cell_type": "code",
   "execution_count": 11,
   "id": "cddca4ff-ad98-4965-8809-05f47180624a",
   "metadata": {},
   "outputs": [
    {
     "name": "stdout",
     "output_type": "stream",
     "text": [
      "Experimento Concluido con Exito!\n"
     ]
    }
   ],
   "source": [
    "print(\"Experimento Concluido con Exito!\")"
   ]
  },
  {
   "cell_type": "code",
   "execution_count": null,
   "id": "8fc4999f-70bc-4d3e-85eb-580253bb5da5",
   "metadata": {},
   "outputs": [],
   "source": []
  }
 ],
 "metadata": {
  "kernelspec": {
   "display_name": "pytorchenv",
   "language": "python",
   "name": "python3"
  },
  "language_info": {
   "codemirror_mode": {
    "name": "ipython",
    "version": 3
   },
   "file_extension": ".py",
   "mimetype": "text/x-python",
   "name": "python",
   "nbconvert_exporter": "python",
   "pygments_lexer": "ipython3",
   "version": "3.12.9"
  }
 },
 "nbformat": 4,
 "nbformat_minor": 5
}
