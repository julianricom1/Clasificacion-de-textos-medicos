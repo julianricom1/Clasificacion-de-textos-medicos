{
 "cells": [
  {
   "cell_type": "code",
   "execution_count": 1,
   "id": "999b03da-3bf0-407a-99f6-8ff5f90635a5",
   "metadata": {},
   "outputs": [
    {
     "name": "stdout",
     "output_type": "stream",
     "text": [
      "Processing d:\\onedrive\\documents\\maia\\semestre 4\\desarrollo de soluciones\\microproyecto\\clasificacion-de-textos-medicos\\exploracion\\wheel_logreg\\wheel_logreg\\dist\\textclf_logreg-0.1.0-py3-none-any.whl\n",
      "Requirement already satisfied: scikit-learn in c:\\users\\julian rico\\anaconda3\\lib\\site-packages (from textclf-logreg==0.1.0) (1.6.1)\n",
      "Requirement already satisfied: joblib in c:\\users\\julian rico\\anaconda3\\lib\\site-packages (from textclf-logreg==0.1.0) (1.4.2)\n",
      "Requirement already satisfied: numpy in c:\\users\\julian rico\\anaconda3\\lib\\site-packages (from textclf-logreg==0.1.0) (2.1.3)\n",
      "Requirement already satisfied: scipy in c:\\users\\julian rico\\anaconda3\\lib\\site-packages (from textclf-logreg==0.1.0) (1.15.3)\n",
      "Requirement already satisfied: threadpoolctl>=3.1.0 in c:\\users\\julian rico\\anaconda3\\lib\\site-packages (from scikit-learn->textclf-logreg==0.1.0) (3.5.0)\n",
      "textclf-logreg is already installed with the same version as the provided wheel. Use --force-reinstall to force an installation of the wheel.\n",
      "Note: you may need to restart the kernel to use updated packages.\n"
     ]
    }
   ],
   "source": [
    "%pip install \".\\wheel_logreg\\wheel_logreg\\dist\\textclf_logreg-0.1.0-py3-none-any.whl\"\n",
    "import textclf_logreg as clf\n"
   ]
  },
  {
   "cell_type": "code",
   "execution_count": 2,
   "id": "11c45b88-2896-4d91-884f-edf199555fed",
   "metadata": {},
   "outputs": [
    {
     "data": {
      "text/plain": [
       "{'labels': [1, 0, 0],\n",
       " 'scores': [0.759481562685845, 0.32712317752271414, 0.4213981648360187]}"
      ]
     },
     "execution_count": 2,
     "metadata": {},
     "output_type": "execute_result"
    }
   ],
   "source": [
    "t1 = \"In contrast to earlier views on BPD, this condition can remit, and symptoms can be reduced and managed. Nevertheless, specific symptoms such as fear of abandonment, impulsivity, intense anger, and an unstable self-image may persist. Individuals with BPD may also continue to experience impairments in social and occupational functioning and may have a need for ongoing treatment. Rates of suicide attempts and episodes of self-harm also decline over time, but they continue to occur more often than in individuals without BPD. Furthermore, in longitudinal studies, BPD is associated with increases in deaths due to suicide as well as with all-cause mortality. Thus, the lifetime burden and psychosocial impairment associated with BPD can be substantial because it typically has an onset in adolescence or early adulthood and can persist for many years. In addition, individuals with BPD experience increases in health care costs related to BPD and to other physical conditions.\"\n",
    "t2 = \"The new artists that I was listening to were all exploring stereo mixing for the first time. Because the speakers that came with my hundreddollar all-in-one stereo system weren’t very good, I had never before heard the depth that I could hear in the headphones—the placement of instruments both in the left-right field and in the front-back (reverberant) space.\"\n",
    "t3 = \" \"\n",
    "\n",
    "clf.predict([t1,t2,t3])"
   ]
  }
 ],
 "metadata": {
  "kernelspec": {
   "display_name": "Python 3 (ipykernel)",
   "language": "python",
   "name": "python3"
  },
  "language_info": {
   "codemirror_mode": {
    "name": "ipython",
    "version": 3
   },
   "file_extension": ".py",
   "mimetype": "text/x-python",
   "name": "python",
   "nbconvert_exporter": "python",
   "pygments_lexer": "ipython3",
   "version": "3.13.5"
  }
 },
 "nbformat": 4,
 "nbformat_minor": 5
}
