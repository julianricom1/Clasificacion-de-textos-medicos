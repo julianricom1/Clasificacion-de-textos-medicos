{
 "cells": [
  {
   "cell_type": "code",
   "execution_count": null,
   "id": "369e80f5-0bbe-41c3-aa4c-6d1a34ff212b",
   "metadata": {},
   "outputs": [
    {
     "name": "stderr",
     "output_type": "stream",
     "text": [
      "d:\\OneDrive\\Documents\\MAIA\\Semestre 4\\Despliegue de Soluciones\\__REPOS__\\Clasificacion-de-textos-medicos\\.venv_clasificador\\Lib\\site-packages\\tqdm\\auto.py:21: TqdmWarning: IProgress not found. Please update jupyter and ipywidgets. See https://ipywidgets.readthedocs.io/en/stable/user_install.html\n",
      "  from .autonotebook import tqdm as notebook_tqdm\n",
      "2025/10/13 22:39:15 INFO mlflow.tracking.fluent: Experiment with name '/Desarrollo_de_Soluciones/SVM_TFIDF' does not exist. Creating a new experiment.\n"
     ]
    },
    {
     "data": {
      "text/plain": [
       "<Experiment: artifact_location='dbfs:/databricks/mlflow-tracking/1290665620565637', creation_time=1760387954148, experiment_id='1290665620565637', last_update_time=1760387954148, lifecycle_stage='active', name='/Desarrollo_de_Soluciones/SVM_TFIDF', tags={'mlflow.experiment.sourceName': '/Desarrollo_de_Soluciones/SVM_TFIDF',\n",
       " 'mlflow.experimentType': 'MLFLOW_EXPERIMENT',\n",
       " 'mlflow.ownerEmail': 'maiauniandes@gmail.com',\n",
       " 'mlflow.ownerId': '78764819635503'}>"
      ]
     },
     "execution_count": 1,
     "metadata": {},
     "output_type": "execute_result"
    }
   ],
   "source": [
    "import pandas as pd\n",
    "import matplotlib.pyplot as plt\n",
    "import numpy as np\n",
    "from itertools import product\n",
    "from sklearn.svm import SVC\n",
    "from sklearn.metrics import average_precision_score, roc_auc_score, f1_score, recall_score, accuracy_score\n",
    "from sklearn.feature_extraction.text import TfidfVectorizer\n",
    "from tqdm.auto import tqdm\n",
    "import math\n",
    "import mlflow\n",
    "import os\n",
    "\n",
    "os.environ[\"DATABRICKS_HOST\"] = \"https://dbc-e0c2984f-335b.cloud.databricks.com/\"\n",
    "os.environ[\"DATABRICKS_TOKEN\"] = \"\"\n",
    "mlflow.set_tracking_uri(\"databricks\")\n",
    "mlflow.set_experiment(\"/Desarrollo_de_Soluciones/SVM_TFIDF\")"
   ]
  },
  {
   "cell_type": "code",
   "execution_count": 2,
   "id": "710acec1-17eb-4613-a1f9-7e070d602d34",
   "metadata": {},
   "outputs": [],
   "source": [
    "# cargar los datos\n",
    "\n",
    "data_training = pd.read_csv(\"../data/cleaned_train_dataset.csv\")\n",
    "data_test = pd.read_csv(\"../data/cleaned_test_dataset.csv\")\n",
    "data_validation = pd.read_csv(\"../data/cleaned_val_dataset.csv\")"
   ]
  },
  {
   "cell_type": "code",
   "execution_count": 3,
   "id": "970c8e17-6264-4fcc-a8d7-c350ee07dfbd",
   "metadata": {},
   "outputs": [
    {
     "data": {
      "text/html": [
       "<div>\n",
       "<style scoped>\n",
       "    .dataframe tbody tr th:only-of-type {\n",
       "        vertical-align: middle;\n",
       "    }\n",
       "\n",
       "    .dataframe tbody tr th {\n",
       "        vertical-align: top;\n",
       "    }\n",
       "\n",
       "    .dataframe thead th {\n",
       "        text-align: right;\n",
       "    }\n",
       "</style>\n",
       "<table border=\"1\" class=\"dataframe\">\n",
       "  <thead>\n",
       "    <tr style=\"text-align: right;\">\n",
       "      <th></th>\n",
       "      <th>text</th>\n",
       "      <th>label</th>\n",
       "    </tr>\n",
       "  </thead>\n",
       "  <tbody>\n",
       "    <tr>\n",
       "      <th>811</th>\n",
       "      <td>higher blood levels of pyridoxal 5'-phosphate ...</td>\n",
       "      <td>0</td>\n",
       "    </tr>\n",
       "    <tr>\n",
       "      <th>812</th>\n",
       "      <td>pectin-based films are wrapping that is made f...</td>\n",
       "      <td>0</td>\n",
       "    </tr>\n",
       "    <tr>\n",
       "      <th>813</th>\n",
       "      <td>ste20 (sterile 20)/sps-1 related proline/alani...</td>\n",
       "      <td>1</td>\n",
       "    </tr>\n",
       "    <tr>\n",
       "      <th>814</th>\n",
       "      <td>development of a human model of hemorrhage has...</td>\n",
       "      <td>1</td>\n",
       "    </tr>\n",
       "    <tr>\n",
       "      <th>815</th>\n",
       "      <td>the local, systemic, and referred causes of fi...</td>\n",
       "      <td>1</td>\n",
       "    </tr>\n",
       "  </tbody>\n",
       "</table>\n",
       "</div>"
      ],
      "text/plain": [
       "                                                  text  label\n",
       "811  higher blood levels of pyridoxal 5'-phosphate ...      0\n",
       "812  pectin-based films are wrapping that is made f...      0\n",
       "813  ste20 (sterile 20)/sps-1 related proline/alani...      1\n",
       "814  development of a human model of hemorrhage has...      1\n",
       "815  the local, systemic, and referred causes of fi...      1"
      ]
     },
     "execution_count": 3,
     "metadata": {},
     "output_type": "execute_result"
    }
   ],
   "source": [
    "data_training.tail()"
   ]
  },
  {
   "cell_type": "code",
   "execution_count": 4,
   "id": "261f4894-9fee-4c95-b2a1-67b6b5ae8a47",
   "metadata": {},
   "outputs": [
    {
     "name": "stdout",
     "output_type": "stream",
     "text": [
      "inborn errors of metabolism (iem) are hereditary diseases that affect how the body processes nutrients. they vary both in how they appear in a patient and in they underlying genetic causes. to date, more than 1000 different iem have been identified. though each individual disease is rare, taken altogether the rate has been shown to be upwards of 1 in 800. the way the diseases appear in patients can vary. this makes it difficult it diagnose them. iem are present in all ethnic groups and across every age. some iem can be treated, with promising outcomes. however, doctors suspecting these diseases from patient exams is not enough alone to reduce health problems and death. in the last decade, expanded newborn screening has become a mandatory public health strategy in most developed and developing countries. this is due to the advent of a chemical detection technology called tandem mass spectrometry. this technology allows more than 30 different metabolic disorders to be detected at low cost in one single blood spot specimen. the cost is about 10 dollars per baby, and the tests are highly accurate. studies of cost-effectiveness have confirmed that the savings from expanded newborn screening programs are much greater than the costs of running them. the side effects of false positives (when the test is positive but the patient does not have the disease) are not significant in light of the economic and health benefits produced by expanded newborn screening. further, these side effects could be lessened with more education, better communication, and improved technology. local screening agencies should be given the freedom to create their own screening programs so they can keep up with international advancements. improvements in knowledge of genes and how they affect the body are closely linked with expanded newborn screening. this knowledge is growing because of advancements in nanotechnology (working with things at the microscopic level) and molecular genomics (the study of how changes dna drive hereditary outcomes). the potential of tandem mass spectrometry is extending to cover more disorders. in fact, one promising example is the use of genetic markers for severe combined immunodeficiency (scid), a disease that makes people extremely vulnerable to germs. newborn screening represents the highest volume of genetic testing. it is more than a test and it calls for providing organized healthcare before, during, and after the test. there should be a comprehensive reporting system requiring genetic counselling as well as short-term and long-term follow-up. it is essential to integrate existing clinical iem services with the expanded newborn screening program. this is to enable close communication between the laboratory, clinicians, and allied health parties. in this article reviewing the topic, we will discuss the history of iem, how it appears in children and adults, and its rate among different ethnicities. we will also discuss the history and recent expansion of newborn screening, its cost-effectiveness, associated pros and cons, and the ethical issues that can arise. finally, we will discuss the technical aspects of tandem mass spectrometry and considerations for interpreting results. \n",
      "\n",
      "monoclonal antibodies are medicines recommended in mild to moderate covid-19 patients who are at risk of progressing to a severe stage of the disease. monoclonal antibodies are medicines that may block the virus that causes covid-19 (a breathing-related disease) from attaching to human cells, making it more difficult for the virus to reproduce. monoclonal antibodies are not widely used in the united states because there is little data on the impact of these drugs, and it is difficult to give these drugs to patients. this study aimed to assess the outcomes of monoclonal antibodies in patients who were mostly from ethnic minority groups and to study the challenges in providing the treatment in an inner-city hospital in the south bronx. researchers looked at data previously collected from 49 patients who were offered monoclonal antibody medicines. the 38 patients who received the monoclonal antibody therapy were put in the treatment group. eleven people did not want to receive the medicines, so they were made the comparison group. a majority of patients (76%) reported improvement in their symptoms the day after receiving the medicine. there was a big reduction in hospital stays due to covid-19 and death in the group that received monoclonal antibody medicines. monoclonal antibody medicines reduced both hospital stays and deaths in this predominantly hispanic group of patients with mild or moderate covid-19. \n",
      "\n",
      "fetal hemoglobin (hbf) makes the severity of sickle cell anemia (sca) better. the major specific genetic areas effecting hbf levels are in the hbb cluster, bcl11a, and hmip-2 (hbs1l-myb) genes. researchers need to know more about how the areas of these genes effect the process of hbf levels and the outcome of disease in sca. researchers analyzed the function and relationship of 14 mutations in 5 specific genetic areas of the genes with hbf levels and disease outcomes in 250 children with sca in southeastern brazil. they found single mutations that were linked to hbf levels in bcl11a and hmip-2a and hmip-2b genes. patients who had minor mutations (carriers) that increased hbf levels (hbf-boosting) had reduced white blood cells counts. carriers of other minor mutations (genetic differences) showed higher levels of oxygen in the blood. patients carrying still other minor genetic differences in bcl11a showed lower risk of transfusions. these findings were separate from the hbf effect. carriers of other minor mutations showed lower risk of acute chest syndrome. carriers of the standard minor genetic change showed lower risk of infection. patients carrying hbf-boosting minor mutations of bcl11a and hmip-2 genes had milder disease. higher hbf levels may be the cause of this effect. \n",
      "\n",
      "central nervous system adverse effects are commonly reported with pregabalin (pgb). on the other hand, movement disorders (mds) associated with this drug were rarely described. however, their occurrence could significantly affect the quality of life of pgb users. this literature review aims to evaluate the clinical epidemiological profile, pathological mechanisms, and management of pgb-associated mds. relevant reports in six databases were identified and assessed by two reviewers without language restriction. a total of 46 reports containing 305 cases from 17 countries were assessed. the mds encountered were as follows: 184 individuals with ataxia, 61 with tremors, 39 with myoclonus, 8 with parkinsonism, 1 with restless legs syndrome, 1 with dystonia, 1 with dyskinesia, and 1 with akathisia. the mean age was 62 years (range: 23-94). the male sex was slightly predominant with 54.34%. the mean pgb dose when the md occurred was 238 mg, and neuropathic pain was the most common indication of pgb. the time from pgb start to md was < 1 month at 75%. the time from pgb withdrawal to recovery was < 1 week at 77%. all the individuals where the follow-up was reported had a full recovery. the most common management was pgb withdrawal. in the literature, the majority of the cases did not report information about timeline events, neurological examination details, or electrodiagnostic studies. the best management for all mds is probably pgb withdrawal. if the patient is on dialysis program, perhaps an increased number of sessions will decrease recovery time. furthermore, the addition of a benzodiazepine could accelerate recovery. \n",
      "\n"
     ]
    }
   ],
   "source": [
    "# Revisar ejemplosd e los textos\n",
    "\n",
    "for x in data_training[\"text\"][:4]:\n",
    "    print(x, \"\\n\")"
   ]
  },
  {
   "cell_type": "code",
   "execution_count": 5,
   "id": "01eb825d-d644-4db0-a348-1d8c53d4675c",
   "metadata": {},
   "outputs": [
    {
     "data": {
      "image/png": "[encoded data removed]",
      "text/plain": [
       "<Figure size 640x480 with 1 Axes>"
      ]
     },
     "metadata": {},
     "output_type": "display_data"
    }
   ],
   "source": [
    "data_training[\"label\"].value_counts().plot(\n",
    "    kind=\"pie\",\n",
    "    autopct=\"%1.1f%%\",\n",
    "    startangle=90,\n",
    "    ylabel=\"\"   # quita el label \"label\"\n",
    ")\n",
    "plt.title(\"Distribución de etiquetas\")\n",
    "plt.show()"
   ]
  },
  {
   "cell_type": "code",
   "execution_count": 6,
   "id": "736c341d-3373-47aa-b09d-c7949a0fa8cb",
   "metadata": {},
   "outputs": [],
   "source": [
    "# Crear vectores a partir de los datos\n",
    "\n",
    "tfidf_vectorizer = TfidfVectorizer()\n",
    "X_train = tfidf_vectorizer.fit_transform(data_training[\"text\"].astype(str).tolist())\n",
    "X_test = tfidf_vectorizer.transform(data_test[\"text\"].astype(str).tolist())\n",
    "X_validation = tfidf_vectorizer.transform(data_validation[\"text\"].astype(str).tolist())\n",
    "\n",
    "\n",
    "y_train = data_training[\"label\"].astype(int).values\n",
    "y_test  = data_test[\"label\"].astype(int).values  \n",
    "y_val   = data_validation[\"label\"].astype(int).values"
   ]
  },
  {
   "cell_type": "code",
   "execution_count": 7,
   "id": "d6e15cf9-4b28-47c4-9690-ead8463868af",
   "metadata": {},
   "outputs": [
    {
     "name": "stdout",
     "output_type": "stream",
     "text": [
      "tamanio de la data vectorizada: 816 muestras de 10437 dimensiones\n"
     ]
    }
   ],
   "source": [
    "print(f\"tamanio de la data vectorizada: {X_train.shape[0]} muestras de {X_train.shape[1]} dimensiones\")"
   ]
  },
  {
   "cell_type": "code",
   "execution_count": 8,
   "id": "bac29f82-f22e-40fe-a735-d384e204a41c",
   "metadata": {},
   "outputs": [],
   "source": [
    "tfidf_grid = {\n",
    "    \"ngram_range\": [(1,1), (1,2)],\n",
    "    \"min_df\": [0.01, 0.05],\n",
    "    \"max_features\": [5000, 10000],  # tamaño del vocabulario\n",
    "}\n",
    "\n",
    "svm_grid = {\n",
    "    \"linear\": {\n",
    "        \"C\": [0.1, 1.0, 10.0],\n",
    "    },\n",
    "    \"rbf\": {\n",
    "        \"C\": [1.0, 10.0],\n",
    "        \"gamma\": [\"scale\", 1e-3],\n",
    "    },\n",
    "    \"poly\": {\n",
    "        \"C\": [1.0, 10.0],\n",
    "        \"degree\": [2, 3],\n",
    "        \"gamma\": [\"scale\"],\n",
    "        \"coef0\": [0.0, 1.0],\n",
    "    },\n",
    "}"
   ]
  },
  {
   "cell_type": "code",
   "execution_count": 9,
   "id": "e5603409-3db6-4f81-aba3-76b1f885f9ac",
   "metadata": {},
   "outputs": [],
   "source": [
    "def grid_items(grid):\n",
    "    keys = list(grid.keys())\n",
    "    for values in product(*[grid[k] for k in keys]):\n",
    "        yield dict(zip(keys, values))"
   ]
  },
  {
   "cell_type": "code",
   "execution_count": 10,
   "id": "22c259ae-6d1e-4f85-8910-5404eca65d69",
   "metadata": {},
   "outputs": [
    {
     "name": "stderr",
     "output_type": "stream",
     "text": [
      "tfidf_(1, 1)_svm_linear_C0.1:   1%|          | 1/120 [00:04<09:51,  4.97s/it]"
     ]
    },
    {
     "name": "stdout",
     "output_type": "stream",
     "text": [
      "🏃 View run tfidf_(1, 1)_svm_linear_C0.1 at: https://dbc-2d843358-2bd3.cloud.databricks.com/ml/experiments/1290665620565637/runs/bea92b25782e4cdb92e5a17555c8d079\n",
      "🧪 View experiment at: https://dbc-2d843358-2bd3.cloud.databricks.com/ml/experiments/1290665620565637\n"
     ]
    },
    {
     "name": "stderr",
     "output_type": "stream",
     "text": [
      "tfidf_(1, 1)_svm_linear_C1.0:   1%|          | 1/120 [00:04<09:51,  4.97s/it]"
     ]
    },
    {
     "name": "stdout",
     "output_type": "stream",
     "text": [
      "🏃 View run tfidf_(1, 1)_svm_linear_C1.0 at: https://dbc-2d843358-2bd3.cloud.databricks.com/ml/experiments/1290665620565637/runs/23d827a62dca4e2289181ba907d2d8c5\n",
      "🧪 View experiment at: https://dbc-2d843358-2bd3.cloud.databricks.com/ml/experiments/1290665620565637\n"
     ]
    },
    {
     "name": "stderr",
     "output_type": "stream",
     "text": [
      "tfidf_(1, 1)_svm_linear_C10.0:   2%|▏         | 2/120 [00:08<08:34,  4.36s/it]"
     ]
    },
    {
     "name": "stdout",
     "output_type": "stream",
     "text": [
      "🏃 View run tfidf_(1, 1)_svm_linear_C10.0 at: https://dbc-2d843358-2bd3.cloud.databricks.com/ml/experiments/1290665620565637/runs/c353ae86c31044ffaa37d6d0cdcc9a4d\n",
      "🧪 View experiment at: https://dbc-2d843358-2bd3.cloud.databricks.com/ml/experiments/1290665620565637\n"
     ]
    },
    {
     "name": "stderr",
     "output_type": "stream",
     "text": [
      "tfidf_(1, 1)_svm_rbf_C1.0_gammascale:   2%|▎         | 3/120 [00:12<08:15,  4.23s/it]"
     ]
    },
    {
     "name": "stdout",
     "output_type": "stream",
     "text": [
      "🏃 View run tfidf_(1, 1)_svm_rbf_C1.0_gammascale at: https://dbc-2d843358-2bd3.cloud.databricks.com/ml/experiments/1290665620565637/runs/59476d59b2794e68bc00f6f4c917e330\n",
      "🧪 View experiment at: https://dbc-2d843358-2bd3.cloud.databricks.com/ml/experiments/1290665620565637\n"
     ]
    },
    {
     "name": "stderr",
     "output_type": "stream",
     "text": [
      "tfidf_(1, 1)_svm_rbf_C1.0_gamma0.001:   3%|▎         | 4/120 [00:17<08:30,  4.40s/it]"
     ]
    },
    {
     "name": "stdout",
     "output_type": "stream",
     "text": [
      "🏃 View run tfidf_(1, 1)_svm_rbf_C1.0_gamma0.001 at: https://dbc-2d843358-2bd3.cloud.databricks.com/ml/experiments/1290665620565637/runs/57d702ab3eba44849ffabf990127d8ea\n",
      "🧪 View experiment at: https://dbc-2d843358-2bd3.cloud.databricks.com/ml/experiments/1290665620565637\n"
     ]
    },
    {
     "name": "stderr",
     "output_type": "stream",
     "text": [
      "tfidf_(1, 1)_svm_rbf_C10.0_gammascale:   4%|▍         | 5/120 [00:22<08:39,  4.52s/it]"
     ]
    },
    {
     "name": "stdout",
     "output_type": "stream",
     "text": [
      "🏃 View run tfidf_(1, 1)_svm_rbf_C10.0_gammascale at: https://dbc-2d843358-2bd3.cloud.databricks.com/ml/experiments/1290665620565637/runs/ecd6efd680b54e368fca9e537e4250c3\n",
      "🧪 View experiment at: https://dbc-2d843358-2bd3.cloud.databricks.com/ml/experiments/1290665620565637\n"
     ]
    },
    {
     "name": "stderr",
     "output_type": "stream",
     "text": [
      "tfidf_(1, 1)_svm_rbf_C10.0_gamma0.001:   5%|▌         | 6/120 [00:27<08:39,  4.56s/it]"
     ]
    },
    {
     "name": "stdout",
     "output_type": "stream",
     "text": [
      "🏃 View run tfidf_(1, 1)_svm_rbf_C10.0_gamma0.001 at: https://dbc-2d843358-2bd3.cloud.databricks.com/ml/experiments/1290665620565637/runs/dd0089bc49ad413ca1e8ec8e5d7a64d1\n",
      "🧪 View experiment at: https://dbc-2d843358-2bd3.cloud.databricks.com/ml/experiments/1290665620565637\n"
     ]
    },
    {
     "name": "stderr",
     "output_type": "stream",
     "text": [
      "tfidf_(1, 1)_svm_poly_C1.0_degree2_gammascale_coef00.0:   6%|▌         | 7/120 [00:31<08:42,  4.62s/it]"
     ]
    },
    {
     "name": "stdout",
     "output_type": "stream",
     "text": [
      "🏃 View run tfidf_(1, 1)_svm_poly_C1.0_degree2_gammascale_coef00.0 at: https://dbc-2d843358-2bd3.cloud.databricks.com/ml/experiments/1290665620565637/runs/c9ffca8ecd744cc7832c30c521560b82\n",
      "🧪 View experiment at: https://dbc-2d843358-2bd3.cloud.databricks.com/ml/experiments/1290665620565637\n"
     ]
    },
    {
     "name": "stderr",
     "output_type": "stream",
     "text": [
      "tfidf_(1, 1)_svm_poly_C1.0_degree2_gammascale_coef01.0:   8%|▊         | 9/120 [00:41<08:51,  4.79s/it]"
     ]
    },
    {
     "name": "stdout",
     "output_type": "stream",
     "text": [
      "🏃 View run tfidf_(1, 1)_svm_poly_C1.0_degree2_gammascale_coef01.0 at: https://dbc-2d843358-2bd3.cloud.databricks.com/ml/experiments/1290665620565637/runs/ec92426a3c29412a9d07ee81252540dc\n",
      "🧪 View experiment at: https://dbc-2d843358-2bd3.cloud.databricks.com/ml/experiments/1290665620565637\n"
     ]
    },
    {
     "name": "stderr",
     "output_type": "stream",
     "text": [
      "tfidf_(1, 1)_svm_poly_C1.0_degree3_gammascale_coef00.0:   8%|▊         | 9/120 [00:41<08:51,  4.79s/it]"
     ]
    },
    {
     "name": "stdout",
     "output_type": "stream",
     "text": [
      "🏃 View run tfidf_(1, 1)_svm_poly_C1.0_degree3_gammascale_coef00.0 at: https://dbc-2d843358-2bd3.cloud.databricks.com/ml/experiments/1290665620565637/runs/dd49d26a251e40c8ba5c9ed12f351710\n",
      "🧪 View experiment at: https://dbc-2d843358-2bd3.cloud.databricks.com/ml/experiments/1290665620565637\n"
     ]
    },
    {
     "name": "stderr",
     "output_type": "stream",
     "text": [
      "tfidf_(1, 1)_svm_poly_C1.0_degree3_gammascale_coef01.0:   8%|▊         | 10/120 [00:46<08:57,  4.89s/it]"
     ]
    },
    {
     "name": "stdout",
     "output_type": "stream",
     "text": [
      "🏃 View run tfidf_(1, 1)_svm_poly_C1.0_degree3_gammascale_coef01.0 at: https://dbc-2d843358-2bd3.cloud.databricks.com/ml/experiments/1290665620565637/runs/a348f9020f0544e1a888ccd3eec27652\n",
      "🧪 View experiment at: https://dbc-2d843358-2bd3.cloud.databricks.com/ml/experiments/1290665620565637\n"
     ]
    },
    {
     "name": "stderr",
     "output_type": "stream",
     "text": [
      "tfidf_(1, 1)_svm_poly_C10.0_degree2_gammascale_coef00.0:   9%|▉         | 11/120 [00:51<08:55,  4.91s/it]"
     ]
    },
    {
     "name": "stdout",
     "output_type": "stream",
     "text": [
      "🏃 View run tfidf_(1, 1)_svm_poly_C10.0_degree2_gammascale_coef00.0 at: https://dbc-2d843358-2bd3.cloud.databricks.com/ml/experiments/1290665620565637/runs/356b6c5a02644dff8d98de56ddc24d1e\n",
      "🧪 View experiment at: https://dbc-2d843358-2bd3.cloud.databricks.com/ml/experiments/1290665620565637\n"
     ]
    },
    {
     "name": "stderr",
     "output_type": "stream",
     "text": [
      "tfidf_(1, 1)_svm_poly_C10.0_degree2_gammascale_coef01.0:  10%|█         | 12/120 [00:56<08:56,  4.97s/it]"
     ]
    },
    {
     "name": "stdout",
     "output_type": "stream",
     "text": [
      "🏃 View run tfidf_(1, 1)_svm_poly_C10.0_degree2_gammascale_coef01.0 at: https://dbc-2d843358-2bd3.cloud.databricks.com/ml/experiments/1290665620565637/runs/5963cc09448c4a7ca7f777e5da9c545e\n",
      "🧪 View experiment at: https://dbc-2d843358-2bd3.cloud.databricks.com/ml/experiments/1290665620565637\n"
     ]
    },
    {
     "name": "stderr",
     "output_type": "stream",
     "text": [
      "tfidf_(1, 1)_svm_poly_C10.0_degree3_gammascale_coef00.0:  11%|█         | 13/120 [01:01<08:48,  4.94s/it]"
     ]
    },
    {
     "name": "stdout",
     "output_type": "stream",
     "text": [
      "🏃 View run tfidf_(1, 1)_svm_poly_C10.0_degree3_gammascale_coef00.0 at: https://dbc-2d843358-2bd3.cloud.databricks.com/ml/experiments/1290665620565637/runs/c080cb98c59f4cfebb921271582d732c\n",
      "🧪 View experiment at: https://dbc-2d843358-2bd3.cloud.databricks.com/ml/experiments/1290665620565637\n"
     ]
    },
    {
     "name": "stderr",
     "output_type": "stream",
     "text": [
      "tfidf_(1, 1)_svm_poly_C10.0_degree3_gammascale_coef01.0:  12%|█▏        | 14/120 [01:06<08:47,  4.98s/it]"
     ]
    },
    {
     "name": "stdout",
     "output_type": "stream",
     "text": [
      "🏃 View run tfidf_(1, 1)_svm_poly_C10.0_degree3_gammascale_coef01.0 at: https://dbc-2d843358-2bd3.cloud.databricks.com/ml/experiments/1290665620565637/runs/f5464aed28c14030860360d270079edf\n",
      "🧪 View experiment at: https://dbc-2d843358-2bd3.cloud.databricks.com/ml/experiments/1290665620565637\n"
     ]
    },
    {
     "name": "stderr",
     "output_type": "stream",
     "text": [
      "tfidf_(1, 1)_svm_linear_C0.1:  12%|█▎        | 15/120 [01:12<08:47,  5.03s/it]                           "
     ]
    },
    {
     "name": "stdout",
     "output_type": "stream",
     "text": [
      "🏃 View run tfidf_(1, 1)_svm_linear_C0.1 at: https://dbc-2d843358-2bd3.cloud.databricks.com/ml/experiments/1290665620565637/runs/67fff72b57ce4e9b8c05f62d78eb024d\n",
      "🧪 View experiment at: https://dbc-2d843358-2bd3.cloud.databricks.com/ml/experiments/1290665620565637\n"
     ]
    },
    {
     "name": "stderr",
     "output_type": "stream",
     "text": [
      "tfidf_(1, 1)_svm_linear_C1.0:  13%|█▎        | 16/120 [01:16<08:34,  4.95s/it]"
     ]
    },
    {
     "name": "stdout",
     "output_type": "stream",
     "text": [
      "🏃 View run tfidf_(1, 1)_svm_linear_C1.0 at: https://dbc-2d843358-2bd3.cloud.databricks.com/ml/experiments/1290665620565637/runs/37ca16bc36dc46c98ebdc5e8a9cca3b2\n",
      "🧪 View experiment at: https://dbc-2d843358-2bd3.cloud.databricks.com/ml/experiments/1290665620565637\n"
     ]
    },
    {
     "name": "stderr",
     "output_type": "stream",
     "text": [
      "tfidf_(1, 1)_svm_linear_C10.0:  14%|█▍        | 17/120 [01:20<07:58,  4.64s/it]"
     ]
    },
    {
     "name": "stdout",
     "output_type": "stream",
     "text": [
      "🏃 View run tfidf_(1, 1)_svm_linear_C10.0 at: https://dbc-2d843358-2bd3.cloud.databricks.com/ml/experiments/1290665620565637/runs/569aced21ae749baa552e2ac28f56b6a\n",
      "🧪 View experiment at: https://dbc-2d843358-2bd3.cloud.databricks.com/ml/experiments/1290665620565637\n"
     ]
    },
    {
     "name": "stderr",
     "output_type": "stream",
     "text": [
      "tfidf_(1, 1)_svm_rbf_C1.0_gammascale:  15%|█▌        | 18/120 [01:24<07:33,  4.45s/it]"
     ]
    },
    {
     "name": "stdout",
     "output_type": "stream",
     "text": [
      "🏃 View run tfidf_(1, 1)_svm_rbf_C1.0_gammascale at: https://dbc-2d843358-2bd3.cloud.databricks.com/ml/experiments/1290665620565637/runs/1b21fd9f9bb14817b24ce3daee90a4e0\n",
      "🧪 View experiment at: https://dbc-2d843358-2bd3.cloud.databricks.com/ml/experiments/1290665620565637\n"
     ]
    },
    {
     "name": "stderr",
     "output_type": "stream",
     "text": [
      "tfidf_(1, 1)_svm_rbf_C10.0_gammascale:  17%|█▋        | 20/120 [01:34<07:47,  4.67s/it]"
     ]
    },
    {
     "name": "stdout",
     "output_type": "stream",
     "text": [
      "🏃 View run tfidf_(1, 1)_svm_rbf_C1.0_gamma0.001 at: https://dbc-2d843358-2bd3.cloud.databricks.com/ml/experiments/1290665620565637/runs/b03edb29fb634903a6e5bfa7f4b84376\n",
      "🧪 View experiment at: https://dbc-2d843358-2bd3.cloud.databricks.com/ml/experiments/1290665620565637\n"
     ]
    },
    {
     "name": "stderr",
     "output_type": "stream",
     "text": [
      "tfidf_(1, 1)_svm_rbf_C10.0_gamma0.001:  18%|█▊        | 21/120 [01:39<07:46,  4.71s/it]"
     ]
    },
    {
     "name": "stdout",
     "output_type": "stream",
     "text": [
      "🏃 View run tfidf_(1, 1)_svm_rbf_C10.0_gammascale at: https://dbc-2d843358-2bd3.cloud.databricks.com/ml/experiments/1290665620565637/runs/f3cee9542e7343c49b30a1bbbdb34103\n",
      "🧪 View experiment at: https://dbc-2d843358-2bd3.cloud.databricks.com/ml/experiments/1290665620565637\n",
      "🏃 View run tfidf_(1, 1)_svm_rbf_C10.0_gamma0.001 at: https://dbc-2d843358-2bd3.cloud.databricks.com/ml/experiments/1290665620565637/runs/fd794da266914c39a5b9e3100e537b43\n",
      "🧪 View experiment at: https://dbc-2d843358-2bd3.cloud.databricks.com/ml/experiments/1290665620565637\n"
     ]
    },
    {
     "name": "stderr",
     "output_type": "stream",
     "text": [
      "tfidf_(1, 1)_svm_poly_C1.0_degree2_gammascale_coef00.0:  18%|█▊        | 22/120 [01:44<07:44,  4.74s/it]"
     ]
    },
    {
     "name": "stdout",
     "output_type": "stream",
     "text": [
      "🏃 View run tfidf_(1, 1)_svm_poly_C1.0_degree2_gammascale_coef00.0 at: https://dbc-2d843358-2bd3.cloud.databricks.com/ml/experiments/1290665620565637/runs/aaafa692f429478293d70acefed58d9d\n",
      "🧪 View experiment at: https://dbc-2d843358-2bd3.cloud.databricks.com/ml/experiments/1290665620565637\n"
     ]
    },
    {
     "name": "stderr",
     "output_type": "stream",
     "text": [
      "tfidf_(1, 1)_svm_poly_C1.0_degree2_gammascale_coef01.0:  19%|█▉        | 23/120 [01:49<07:56,  4.91s/it]"
     ]
    },
    {
     "name": "stdout",
     "output_type": "stream",
     "text": [
      "🏃 View run tfidf_(1, 1)_svm_poly_C1.0_degree2_gammascale_coef01.0 at: https://dbc-2d843358-2bd3.cloud.databricks.com/ml/experiments/1290665620565637/runs/bfcca37be51b40c4b3e9c45b5a6d3a6a\n",
      "🧪 View experiment at: https://dbc-2d843358-2bd3.cloud.databricks.com/ml/experiments/1290665620565637\n"
     ]
    },
    {
     "name": "stderr",
     "output_type": "stream",
     "text": [
      "tfidf_(1, 1)_svm_poly_C1.0_degree3_gammascale_coef00.0:  20%|██        | 24/120 [01:54<08:06,  5.07s/it]"
     ]
    },
    {
     "name": "stdout",
     "output_type": "stream",
     "text": [
      "🏃 View run tfidf_(1, 1)_svm_poly_C1.0_degree3_gammascale_coef00.0 at: https://dbc-2d843358-2bd3.cloud.databricks.com/ml/experiments/1290665620565637/runs/dd528c5f0fd849738c9678b24bc3dd25\n",
      "🧪 View experiment at: https://dbc-2d843358-2bd3.cloud.databricks.com/ml/experiments/1290665620565637\n"
     ]
    },
    {
     "name": "stderr",
     "output_type": "stream",
     "text": [
      "tfidf_(1, 1)_svm_poly_C1.0_degree3_gammascale_coef01.0:  21%|██        | 25/120 [01:59<08:01,  5.07s/it]"
     ]
    },
    {
     "name": "stdout",
     "output_type": "stream",
     "text": [
      "🏃 View run tfidf_(1, 1)_svm_poly_C1.0_degree3_gammascale_coef01.0 at: https://dbc-2d843358-2bd3.cloud.databricks.com/ml/experiments/1290665620565637/runs/3cdfcc40e973414c942248e9fe719fc9\n",
      "🧪 View experiment at: https://dbc-2d843358-2bd3.cloud.databricks.com/ml/experiments/1290665620565637\n"
     ]
    },
    {
     "name": "stderr",
     "output_type": "stream",
     "text": [
      "tfidf_(1, 1)_svm_poly_C10.0_degree2_gammascale_coef00.0:  22%|██▏       | 26/120 [02:04<07:55,  5.06s/it]"
     ]
    },
    {
     "name": "stdout",
     "output_type": "stream",
     "text": [
      "🏃 View run tfidf_(1, 1)_svm_poly_C10.0_degree2_gammascale_coef00.0 at: https://dbc-2d843358-2bd3.cloud.databricks.com/ml/experiments/1290665620565637/runs/97efe27c5fd542f69bf1ba52027c703b\n",
      "🧪 View experiment at: https://dbc-2d843358-2bd3.cloud.databricks.com/ml/experiments/1290665620565637\n"
     ]
    },
    {
     "name": "stderr",
     "output_type": "stream",
     "text": [
      "tfidf_(1, 1)_svm_poly_C10.0_degree2_gammascale_coef01.0:  22%|██▎       | 27/120 [02:10<07:52,  5.08s/it]"
     ]
    },
    {
     "name": "stdout",
     "output_type": "stream",
     "text": [
      "🏃 View run tfidf_(1, 1)_svm_poly_C10.0_degree2_gammascale_coef01.0 at: https://dbc-2d843358-2bd3.cloud.databricks.com/ml/experiments/1290665620565637/runs/ea66c8f4d97248b88f301df74e576435\n",
      "🧪 View experiment at: https://dbc-2d843358-2bd3.cloud.databricks.com/ml/experiments/1290665620565637\n"
     ]
    },
    {
     "name": "stderr",
     "output_type": "stream",
     "text": [
      "tfidf_(1, 1)_svm_poly_C10.0_degree3_gammascale_coef00.0:  23%|██▎       | 28/120 [02:14<07:38,  4.98s/it]"
     ]
    },
    {
     "name": "stdout",
     "output_type": "stream",
     "text": [
      "🏃 View run tfidf_(1, 1)_svm_poly_C10.0_degree3_gammascale_coef00.0 at: https://dbc-2d843358-2bd3.cloud.databricks.com/ml/experiments/1290665620565637/runs/a7f12f147ed6442381170b79b99f6ead\n",
      "🧪 View experiment at: https://dbc-2d843358-2bd3.cloud.databricks.com/ml/experiments/1290665620565637\n"
     ]
    },
    {
     "name": "stderr",
     "output_type": "stream",
     "text": [
      "tfidf_(1, 1)_svm_poly_C10.0_degree3_gammascale_coef01.0:  24%|██▍       | 29/120 [02:19<07:38,  5.03s/it]"
     ]
    },
    {
     "name": "stdout",
     "output_type": "stream",
     "text": [
      "🏃 View run tfidf_(1, 1)_svm_poly_C10.0_degree3_gammascale_coef01.0 at: https://dbc-2d843358-2bd3.cloud.databricks.com/ml/experiments/1290665620565637/runs/e33ec0eedb9d4406bb371b0c23234b37\n",
      "🧪 View experiment at: https://dbc-2d843358-2bd3.cloud.databricks.com/ml/experiments/1290665620565637\n"
     ]
    },
    {
     "name": "stderr",
     "output_type": "stream",
     "text": [
      "tfidf_(1, 1)_svm_linear_C0.1:  25%|██▌       | 30/120 [02:25<07:31,  5.01s/it]                           "
     ]
    },
    {
     "name": "stdout",
     "output_type": "stream",
     "text": [
      "🏃 View run tfidf_(1, 1)_svm_linear_C0.1 at: https://dbc-2d843358-2bd3.cloud.databricks.com/ml/experiments/1290665620565637/runs/d264bbe92c404255bfe2cde96c61af21\n",
      "🧪 View experiment at: https://dbc-2d843358-2bd3.cloud.databricks.com/ml/experiments/1290665620565637\n"
     ]
    },
    {
     "name": "stderr",
     "output_type": "stream",
     "text": [
      "tfidf_(1, 1)_svm_linear_C1.0:  27%|██▋       | 32/120 [02:32<06:26,  4.39s/it]"
     ]
    },
    {
     "name": "stdout",
     "output_type": "stream",
     "text": [
      "🏃 View run tfidf_(1, 1)_svm_linear_C1.0 at: https://dbc-2d843358-2bd3.cloud.databricks.com/ml/experiments/1290665620565637/runs/c0cbf434184c4a299384fdafeec29718\n",
      "🧪 View experiment at: https://dbc-2d843358-2bd3.cloud.databricks.com/ml/experiments/1290665620565637\n"
     ]
    },
    {
     "name": "stderr",
     "output_type": "stream",
     "text": [
      "tfidf_(1, 1)_svm_linear_C10.0:  27%|██▋       | 32/120 [02:32<06:26,  4.39s/it]"
     ]
    },
    {
     "name": "stdout",
     "output_type": "stream",
     "text": [
      "🏃 View run tfidf_(1, 1)_svm_linear_C10.0 at: https://dbc-2d843358-2bd3.cloud.databricks.com/ml/experiments/1290665620565637/runs/f79fe4dd031e4f828793156bde34968a\n",
      "🧪 View experiment at: https://dbc-2d843358-2bd3.cloud.databricks.com/ml/experiments/1290665620565637\n"
     ]
    },
    {
     "name": "stderr",
     "output_type": "stream",
     "text": [
      "tfidf_(1, 1)_svm_rbf_C1.0_gamma0.001:  28%|██▊       | 34/120 [02:40<05:54,  4.12s/it]"
     ]
    },
    {
     "name": "stdout",
     "output_type": "stream",
     "text": [
      "🏃 View run tfidf_(1, 1)_svm_rbf_C1.0_gammascale at: https://dbc-2d843358-2bd3.cloud.databricks.com/ml/experiments/1290665620565637/runs/dca86a3145da483b97c0b5fd9f4e08a4\n",
      "🧪 View experiment at: https://dbc-2d843358-2bd3.cloud.databricks.com/ml/experiments/1290665620565637\n",
      "🏃 View run tfidf_(1, 1)_svm_rbf_C1.0_gamma0.001 at: https://dbc-2d843358-2bd3.cloud.databricks.com/ml/experiments/1290665620565637/runs/31fb348fc5534b13a31c92b3564073ba\n",
      "🧪 View experiment at: https://dbc-2d843358-2bd3.cloud.databricks.com/ml/experiments/1290665620565637\n"
     ]
    },
    {
     "name": "stderr",
     "output_type": "stream",
     "text": [
      "tfidf_(1, 1)_svm_rbf_C10.0_gammascale:  29%|██▉       | 35/120 [02:44<05:49,  4.11s/it]"
     ]
    },
    {
     "name": "stdout",
     "output_type": "stream",
     "text": [
      "🏃 View run tfidf_(1, 1)_svm_rbf_C10.0_gammascale at: https://dbc-2d843358-2bd3.cloud.databricks.com/ml/experiments/1290665620565637/runs/74a5e707ca68407fa6ee89b98bd1d0ac\n",
      "🧪 View experiment at: https://dbc-2d843358-2bd3.cloud.databricks.com/ml/experiments/1290665620565637\n"
     ]
    },
    {
     "name": "stderr",
     "output_type": "stream",
     "text": [
      "tfidf_(1, 1)_svm_rbf_C10.0_gamma0.001:  30%|███       | 36/120 [02:48<05:44,  4.11s/it]"
     ]
    },
    {
     "name": "stdout",
     "output_type": "stream",
     "text": [
      "🏃 View run tfidf_(1, 1)_svm_rbf_C10.0_gamma0.001 at: https://dbc-2d843358-2bd3.cloud.databricks.com/ml/experiments/1290665620565637/runs/0451c5a9aaec4947bc170b2e49642265\n",
      "🧪 View experiment at: https://dbc-2d843358-2bd3.cloud.databricks.com/ml/experiments/1290665620565637\n"
     ]
    },
    {
     "name": "stderr",
     "output_type": "stream",
     "text": [
      "tfidf_(1, 1)_svm_poly_C1.0_degree2_gammascale_coef00.0:  32%|███▏      | 38/120 [02:56<05:42,  4.17s/it]"
     ]
    },
    {
     "name": "stdout",
     "output_type": "stream",
     "text": [
      "🏃 View run tfidf_(1, 1)_svm_poly_C1.0_degree2_gammascale_coef00.0 at: https://dbc-2d843358-2bd3.cloud.databricks.com/ml/experiments/1290665620565637/runs/12a866195f9a4d9ba26cb3acae3f7d21\n",
      "🧪 View experiment at: https://dbc-2d843358-2bd3.cloud.databricks.com/ml/experiments/1290665620565637\n"
     ]
    },
    {
     "name": "stderr",
     "output_type": "stream",
     "text": [
      "tfidf_(1, 1)_svm_poly_C1.0_degree2_gammascale_coef01.0:  32%|███▏      | 38/120 [02:56<05:42,  4.17s/it]"
     ]
    },
    {
     "name": "stdout",
     "output_type": "stream",
     "text": [
      "🏃 View run tfidf_(1, 1)_svm_poly_C1.0_degree2_gammascale_coef01.0 at: https://dbc-2d843358-2bd3.cloud.databricks.com/ml/experiments/1290665620565637/runs/3743864b182e4eb69e6bd2d81c98bbc1\n",
      "🧪 View experiment at: https://dbc-2d843358-2bd3.cloud.databricks.com/ml/experiments/1290665620565637\n"
     ]
    },
    {
     "name": "stderr",
     "output_type": "stream",
     "text": [
      "tfidf_(1, 1)_svm_poly_C1.0_degree3_gammascale_coef00.0:  32%|███▎      | 39/120 [03:00<05:35,  4.14s/it]"
     ]
    },
    {
     "name": "stdout",
     "output_type": "stream",
     "text": [
      "🏃 View run tfidf_(1, 1)_svm_poly_C1.0_degree3_gammascale_coef00.0 at: https://dbc-2d843358-2bd3.cloud.databricks.com/ml/experiments/1290665620565637/runs/d29643e7af174f199fcd1a0f1189e6af\n",
      "🧪 View experiment at: https://dbc-2d843358-2bd3.cloud.databricks.com/ml/experiments/1290665620565637\n"
     ]
    },
    {
     "name": "stderr",
     "output_type": "stream",
     "text": [
      "tfidf_(1, 1)_svm_poly_C1.0_degree3_gammascale_coef01.0:  33%|███▎      | 40/120 [03:05<05:37,  4.22s/it]"
     ]
    },
    {
     "name": "stdout",
     "output_type": "stream",
     "text": [
      "🏃 View run tfidf_(1, 1)_svm_poly_C1.0_degree3_gammascale_coef01.0 at: https://dbc-2d843358-2bd3.cloud.databricks.com/ml/experiments/1290665620565637/runs/4bf3efddd96d4e37938b25e5f584ae17\n",
      "🧪 View experiment at: https://dbc-2d843358-2bd3.cloud.databricks.com/ml/experiments/1290665620565637\n"
     ]
    },
    {
     "name": "stderr",
     "output_type": "stream",
     "text": [
      "tfidf_(1, 1)_svm_poly_C10.0_degree2_gammascale_coef00.0:  34%|███▍      | 41/120 [03:09<05:34,  4.24s/it]"
     ]
    },
    {
     "name": "stdout",
     "output_type": "stream",
     "text": [
      "🏃 View run tfidf_(1, 1)_svm_poly_C10.0_degree2_gammascale_coef00.0 at: https://dbc-2d843358-2bd3.cloud.databricks.com/ml/experiments/1290665620565637/runs/9b83cc80a3e94d67b3584234335cb434\n",
      "🧪 View experiment at: https://dbc-2d843358-2bd3.cloud.databricks.com/ml/experiments/1290665620565637\n"
     ]
    },
    {
     "name": "stderr",
     "output_type": "stream",
     "text": [
      "tfidf_(1, 1)_svm_poly_C10.0_degree2_gammascale_coef01.0:  35%|███▌      | 42/120 [03:13<05:33,  4.27s/it]"
     ]
    },
    {
     "name": "stdout",
     "output_type": "stream",
     "text": [
      "🏃 View run tfidf_(1, 1)_svm_poly_C10.0_degree2_gammascale_coef01.0 at: https://dbc-2d843358-2bd3.cloud.databricks.com/ml/experiments/1290665620565637/runs/8a75cfe53cd44b4eb4147f15125edd8c\n",
      "🧪 View experiment at: https://dbc-2d843358-2bd3.cloud.databricks.com/ml/experiments/1290665620565637\n"
     ]
    },
    {
     "name": "stderr",
     "output_type": "stream",
     "text": [
      "tfidf_(1, 1)_svm_poly_C10.0_degree3_gammascale_coef00.0:  36%|███▌      | 43/120 [03:17<05:24,  4.21s/it]"
     ]
    },
    {
     "name": "stdout",
     "output_type": "stream",
     "text": [
      "🏃 View run tfidf_(1, 1)_svm_poly_C10.0_degree3_gammascale_coef00.0 at: https://dbc-2d843358-2bd3.cloud.databricks.com/ml/experiments/1290665620565637/runs/53fcc3f016554fddb931ec573cc5efc6\n",
      "🧪 View experiment at: https://dbc-2d843358-2bd3.cloud.databricks.com/ml/experiments/1290665620565637\n"
     ]
    },
    {
     "name": "stderr",
     "output_type": "stream",
     "text": [
      "tfidf_(1, 1)_svm_poly_C10.0_degree3_gammascale_coef01.0:  37%|███▋      | 44/120 [03:23<05:44,  4.54s/it]"
     ]
    },
    {
     "name": "stdout",
     "output_type": "stream",
     "text": [
      "🏃 View run tfidf_(1, 1)_svm_poly_C10.0_degree3_gammascale_coef01.0 at: https://dbc-2d843358-2bd3.cloud.databricks.com/ml/experiments/1290665620565637/runs/cc6e14cfe36d4a668426e77d66dacb5a\n",
      "🧪 View experiment at: https://dbc-2d843358-2bd3.cloud.databricks.com/ml/experiments/1290665620565637\n"
     ]
    },
    {
     "name": "stderr",
     "output_type": "stream",
     "text": [
      "tfidf_(1, 1)_svm_linear_C0.1:  38%|███▊      | 46/120 [03:31<05:20,  4.33s/it]                           "
     ]
    },
    {
     "name": "stdout",
     "output_type": "stream",
     "text": [
      "🏃 View run tfidf_(1, 1)_svm_linear_C0.1 at: https://dbc-2d843358-2bd3.cloud.databricks.com/ml/experiments/1290665620565637/runs/2440d5b0bea347c7972cdb25e3bf6455\n",
      "🧪 View experiment at: https://dbc-2d843358-2bd3.cloud.databricks.com/ml/experiments/1290665620565637\n"
     ]
    },
    {
     "name": "stderr",
     "output_type": "stream",
     "text": [
      "tfidf_(1, 1)_svm_linear_C1.0:  39%|███▉      | 47/120 [03:34<04:55,  4.05s/it]"
     ]
    },
    {
     "name": "stdout",
     "output_type": "stream",
     "text": [
      "🏃 View run tfidf_(1, 1)_svm_linear_C1.0 at: https://dbc-2d843358-2bd3.cloud.databricks.com/ml/experiments/1290665620565637/runs/182256c7e3a449d08fe90c734db550d9\n",
      "🧪 View experiment at: https://dbc-2d843358-2bd3.cloud.databricks.com/ml/experiments/1290665620565637\n"
     ]
    },
    {
     "name": "stderr",
     "output_type": "stream",
     "text": [
      "tfidf_(1, 1)_svm_rbf_C1.0_gammascale:  40%|████      | 48/120 [03:38<04:34,  3.81s/it]"
     ]
    },
    {
     "name": "stdout",
     "output_type": "stream",
     "text": [
      "🏃 View run tfidf_(1, 1)_svm_linear_C10.0 at: https://dbc-2d843358-2bd3.cloud.databricks.com/ml/experiments/1290665620565637/runs/c122f3b7571e40ecaa7371c2161f243a\n",
      "🧪 View experiment at: https://dbc-2d843358-2bd3.cloud.databricks.com/ml/experiments/1290665620565637\n",
      "🏃 View run tfidf_(1, 1)_svm_rbf_C1.0_gammascale at: https://dbc-2d843358-2bd3.cloud.databricks.com/ml/experiments/1290665620565637/runs/dc7fa96b947b412ab3342603b488b82e\n",
      "🧪 View experiment at: https://dbc-2d843358-2bd3.cloud.databricks.com/ml/experiments/1290665620565637\n"
     ]
    },
    {
     "name": "stderr",
     "output_type": "stream",
     "text": [
      "tfidf_(1, 1)_svm_rbf_C1.0_gamma0.001:  41%|████      | 49/120 [03:42<04:33,  3.86s/it]"
     ]
    },
    {
     "name": "stdout",
     "output_type": "stream",
     "text": [
      "🏃 View run tfidf_(1, 1)_svm_rbf_C1.0_gamma0.001 at: https://dbc-2d843358-2bd3.cloud.databricks.com/ml/experiments/1290665620565637/runs/ee1ea2183b30417abd232faaa11a503b\n",
      "🧪 View experiment at: https://dbc-2d843358-2bd3.cloud.databricks.com/ml/experiments/1290665620565637\n"
     ]
    },
    {
     "name": "stderr",
     "output_type": "stream",
     "text": [
      "tfidf_(1, 1)_svm_rbf_C10.0_gamma0.001:  42%|████▎     | 51/120 [03:50<04:36,  4.01s/it]"
     ]
    },
    {
     "name": "stdout",
     "output_type": "stream",
     "text": [
      "🏃 View run tfidf_(1, 1)_svm_rbf_C10.0_gammascale at: https://dbc-2d843358-2bd3.cloud.databricks.com/ml/experiments/1290665620565637/runs/1fa008cf81bd45ffa6cc29c8f653c162\n",
      "🧪 View experiment at: https://dbc-2d843358-2bd3.cloud.databricks.com/ml/experiments/1290665620565637\n",
      "🏃 View run tfidf_(1, 1)_svm_rbf_C10.0_gamma0.001 at: https://dbc-2d843358-2bd3.cloud.databricks.com/ml/experiments/1290665620565637/runs/492d59647f0645d68f1083699b9a16a5\n",
      "🧪 View experiment at: https://dbc-2d843358-2bd3.cloud.databricks.com/ml/experiments/1290665620565637\n"
     ]
    },
    {
     "name": "stderr",
     "output_type": "stream",
     "text": [
      "tfidf_(1, 1)_svm_poly_C1.0_degree2_gammascale_coef00.0:  43%|████▎     | 52/120 [03:54<04:33,  4.02s/it]"
     ]
    },
    {
     "name": "stdout",
     "output_type": "stream",
     "text": [
      "🏃 View run tfidf_(1, 1)_svm_poly_C1.0_degree2_gammascale_coef00.0 at: https://dbc-2d843358-2bd3.cloud.databricks.com/ml/experiments/1290665620565637/runs/529cb66309f245fda642106308200546\n",
      "🧪 View experiment at: https://dbc-2d843358-2bd3.cloud.databricks.com/ml/experiments/1290665620565637\n"
     ]
    },
    {
     "name": "stderr",
     "output_type": "stream",
     "text": [
      "tfidf_(1, 1)_svm_poly_C1.0_degree2_gammascale_coef01.0:  44%|████▍     | 53/120 [03:58<04:36,  4.13s/it]"
     ]
    },
    {
     "name": "stdout",
     "output_type": "stream",
     "text": [
      "🏃 View run tfidf_(1, 1)_svm_poly_C1.0_degree2_gammascale_coef01.0 at: https://dbc-2d843358-2bd3.cloud.databricks.com/ml/experiments/1290665620565637/runs/43a0e4ad32fc406f86975e61298fb586\n",
      "🧪 View experiment at: https://dbc-2d843358-2bd3.cloud.databricks.com/ml/experiments/1290665620565637\n"
     ]
    },
    {
     "name": "stderr",
     "output_type": "stream",
     "text": [
      "tfidf_(1, 1)_svm_poly_C1.0_degree3_gammascale_coef00.0:  46%|████▌     | 55/120 [04:07<04:32,  4.20s/it]"
     ]
    },
    {
     "name": "stdout",
     "output_type": "stream",
     "text": [
      "🏃 View run tfidf_(1, 1)_svm_poly_C1.0_degree3_gammascale_coef00.0 at: https://dbc-2d843358-2bd3.cloud.databricks.com/ml/experiments/1290665620565637/runs/dae1a7fb5cf44fcabe402e1acd50672a\n",
      "🧪 View experiment at: https://dbc-2d843358-2bd3.cloud.databricks.com/ml/experiments/1290665620565637\n"
     ]
    },
    {
     "name": "stderr",
     "output_type": "stream",
     "text": [
      "tfidf_(1, 1)_svm_poly_C1.0_degree3_gammascale_coef01.0:  46%|████▌     | 55/120 [04:07<04:32,  4.20s/it]"
     ]
    },
    {
     "name": "stdout",
     "output_type": "stream",
     "text": [
      "🏃 View run tfidf_(1, 1)_svm_poly_C1.0_degree3_gammascale_coef01.0 at: https://dbc-2d843358-2bd3.cloud.databricks.com/ml/experiments/1290665620565637/runs/29662cbca299461fa6e04a0922f180ef\n",
      "🧪 View experiment at: https://dbc-2d843358-2bd3.cloud.databricks.com/ml/experiments/1290665620565637\n"
     ]
    },
    {
     "name": "stderr",
     "output_type": "stream",
     "text": [
      "tfidf_(1, 1)_svm_poly_C10.0_degree2_gammascale_coef01.0:  48%|████▊     | 57/120 [04:15<04:25,  4.22s/it]"
     ]
    },
    {
     "name": "stdout",
     "output_type": "stream",
     "text": [
      "🏃 View run tfidf_(1, 1)_svm_poly_C10.0_degree2_gammascale_coef00.0 at: https://dbc-2d843358-2bd3.cloud.databricks.com/ml/experiments/1290665620565637/runs/f8ae65c0ebc64e72a253655d1a3dde24\n",
      "🧪 View experiment at: https://dbc-2d843358-2bd3.cloud.databricks.com/ml/experiments/1290665620565637\n",
      "🏃 View run tfidf_(1, 1)_svm_poly_C10.0_degree2_gammascale_coef01.0 at: https://dbc-2d843358-2bd3.cloud.databricks.com/ml/experiments/1290665620565637/runs/fc9d3c6798f4406596555e20b96f7932\n",
      "🧪 View experiment at: https://dbc-2d843358-2bd3.cloud.databricks.com/ml/experiments/1290665620565637\n"
     ]
    },
    {
     "name": "stderr",
     "output_type": "stream",
     "text": [
      "tfidf_(1, 1)_svm_poly_C10.0_degree3_gammascale_coef00.0:  48%|████▊     | 58/120 [04:19<04:17,  4.16s/it]"
     ]
    },
    {
     "name": "stdout",
     "output_type": "stream",
     "text": [
      "🏃 View run tfidf_(1, 1)_svm_poly_C10.0_degree3_gammascale_coef00.0 at: https://dbc-2d843358-2bd3.cloud.databricks.com/ml/experiments/1290665620565637/runs/f24d691f622044fe887379726754c2d0\n",
      "🧪 View experiment at: https://dbc-2d843358-2bd3.cloud.databricks.com/ml/experiments/1290665620565637\n"
     ]
    },
    {
     "name": "stderr",
     "output_type": "stream",
     "text": [
      "tfidf_(1, 1)_svm_poly_C10.0_degree3_gammascale_coef01.0:  50%|█████     | 60/120 [04:28<04:16,  4.27s/it]"
     ]
    },
    {
     "name": "stdout",
     "output_type": "stream",
     "text": [
      "🏃 View run tfidf_(1, 1)_svm_poly_C10.0_degree3_gammascale_coef01.0 at: https://dbc-2d843358-2bd3.cloud.databricks.com/ml/experiments/1290665620565637/runs/d820de9bc2454035ada4faf94a98c21b\n",
      "🧪 View experiment at: https://dbc-2d843358-2bd3.cloud.databricks.com/ml/experiments/1290665620565637\n"
     ]
    },
    {
     "name": "stderr",
     "output_type": "stream",
     "text": [
      "tfidf_(1, 2)_svm_linear_C0.1:  50%|█████     | 60/120 [04:28<04:16,  4.27s/it]                           "
     ]
    },
    {
     "name": "stdout",
     "output_type": "stream",
     "text": [
      "🏃 View run tfidf_(1, 2)_svm_linear_C0.1 at: https://dbc-2d843358-2bd3.cloud.databricks.com/ml/experiments/1290665620565637/runs/20a0ada923fb450f86ae65fab0171a4f\n",
      "🧪 View experiment at: https://dbc-2d843358-2bd3.cloud.databricks.com/ml/experiments/1290665620565637\n"
     ]
    },
    {
     "name": "stderr",
     "output_type": "stream",
     "text": [
      "tfidf_(1, 2)_svm_linear_C1.0:  51%|█████     | 61/120 [04:34<04:30,  4.59s/it]"
     ]
    },
    {
     "name": "stdout",
     "output_type": "stream",
     "text": [
      "🏃 View run tfidf_(1, 2)_svm_linear_C1.0 at: https://dbc-2d843358-2bd3.cloud.databricks.com/ml/experiments/1290665620565637/runs/4132510af01e4ead824ae3aedeb6f539\n",
      "🧪 View experiment at: https://dbc-2d843358-2bd3.cloud.databricks.com/ml/experiments/1290665620565637\n"
     ]
    },
    {
     "name": "stderr",
     "output_type": "stream",
     "text": [
      "tfidf_(1, 2)_svm_linear_C10.0:  52%|█████▏    | 62/120 [04:38<04:27,  4.61s/it]"
     ]
    },
    {
     "name": "stdout",
     "output_type": "stream",
     "text": [
      "🏃 View run tfidf_(1, 2)_svm_linear_C10.0 at: https://dbc-2d843358-2bd3.cloud.databricks.com/ml/experiments/1290665620565637/runs/25d15d45c7cf4f2f9954dfd65ed1a532\n",
      "🧪 View experiment at: https://dbc-2d843358-2bd3.cloud.databricks.com/ml/experiments/1290665620565637\n"
     ]
    },
    {
     "name": "stderr",
     "output_type": "stream",
     "text": [
      "tfidf_(1, 2)_svm_rbf_C1.0_gamma0.001:  53%|█████▎    | 64/120 [04:48<04:31,  4.85s/it]"
     ]
    },
    {
     "name": "stdout",
     "output_type": "stream",
     "text": [
      "🏃 View run tfidf_(1, 2)_svm_rbf_C1.0_gammascale at: https://dbc-2d843358-2bd3.cloud.databricks.com/ml/experiments/1290665620565637/runs/eba553ba39ce4b47bbe5c13e46f08f59\n",
      "🧪 View experiment at: https://dbc-2d843358-2bd3.cloud.databricks.com/ml/experiments/1290665620565637\n"
     ]
    },
    {
     "name": "stderr",
     "output_type": "stream",
     "text": [
      "tfidf_(1, 2)_svm_rbf_C10.0_gammascale:  54%|█████▍    | 65/120 [04:54<04:33,  4.98s/it]"
     ]
    },
    {
     "name": "stdout",
     "output_type": "stream",
     "text": [
      "🏃 View run tfidf_(1, 2)_svm_rbf_C1.0_gamma0.001 at: https://dbc-2d843358-2bd3.cloud.databricks.com/ml/experiments/1290665620565637/runs/7bc336c754d64459b0020c6232fb4472\n",
      "🧪 View experiment at: https://dbc-2d843358-2bd3.cloud.databricks.com/ml/experiments/1290665620565637\n",
      "🏃 View run tfidf_(1, 2)_svm_rbf_C10.0_gammascale at: https://dbc-2d843358-2bd3.cloud.databricks.com/ml/experiments/1290665620565637/runs/d6067fa428b94fbf890cef63acff7bbc\n",
      "🧪 View experiment at: https://dbc-2d843358-2bd3.cloud.databricks.com/ml/experiments/1290665620565637\n"
     ]
    },
    {
     "name": "stderr",
     "output_type": "stream",
     "text": [
      "tfidf_(1, 2)_svm_rbf_C10.0_gamma0.001:  55%|█████▌    | 66/120 [04:59<04:32,  5.05s/it]"
     ]
    },
    {
     "name": "stdout",
     "output_type": "stream",
     "text": [
      "🏃 View run tfidf_(1, 2)_svm_rbf_C10.0_gamma0.001 at: https://dbc-2d843358-2bd3.cloud.databricks.com/ml/experiments/1290665620565637/runs/393721d6536e470697a149c53b16d71a\n",
      "🧪 View experiment at: https://dbc-2d843358-2bd3.cloud.databricks.com/ml/experiments/1290665620565637\n"
     ]
    },
    {
     "name": "stderr",
     "output_type": "stream",
     "text": [
      "tfidf_(1, 2)_svm_poly_C1.0_degree2_gammascale_coef00.0:  56%|█████▌    | 67/120 [05:04<04:30,  5.11s/it]"
     ]
    },
    {
     "name": "stdout",
     "output_type": "stream",
     "text": [
      "🏃 View run tfidf_(1, 2)_svm_poly_C1.0_degree2_gammascale_coef00.0 at: https://dbc-2d843358-2bd3.cloud.databricks.com/ml/experiments/1290665620565637/runs/10d575015b994f4ea90b1300a916878c\n",
      "🧪 View experiment at: https://dbc-2d843358-2bd3.cloud.databricks.com/ml/experiments/1290665620565637\n"
     ]
    },
    {
     "name": "stderr",
     "output_type": "stream",
     "text": [
      "tfidf_(1, 2)_svm_poly_C1.0_degree2_gammascale_coef01.0:  57%|█████▋    | 68/120 [05:10<04:32,  5.25s/it]"
     ]
    },
    {
     "name": "stdout",
     "output_type": "stream",
     "text": [
      "🏃 View run tfidf_(1, 2)_svm_poly_C1.0_degree2_gammascale_coef01.0 at: https://dbc-2d843358-2bd3.cloud.databricks.com/ml/experiments/1290665620565637/runs/30c96845f4594d55929b9cb48f4d2041\n",
      "🧪 View experiment at: https://dbc-2d843358-2bd3.cloud.databricks.com/ml/experiments/1290665620565637\n"
     ]
    },
    {
     "name": "stderr",
     "output_type": "stream",
     "text": [
      "tfidf_(1, 2)_svm_poly_C1.0_degree3_gammascale_coef00.0:  58%|█████▊    | 70/120 [05:21<04:30,  5.42s/it]"
     ]
    },
    {
     "name": "stdout",
     "output_type": "stream",
     "text": [
      "🏃 View run tfidf_(1, 2)_svm_poly_C1.0_degree3_gammascale_coef00.0 at: https://dbc-2d843358-2bd3.cloud.databricks.com/ml/experiments/1290665620565637/runs/f26a4e2f5f2a44af85be2f456449e720\n",
      "🧪 View experiment at: https://dbc-2d843358-2bd3.cloud.databricks.com/ml/experiments/1290665620565637\n"
     ]
    },
    {
     "name": "stderr",
     "output_type": "stream",
     "text": [
      "tfidf_(1, 2)_svm_poly_C10.0_degree2_gammascale_coef00.0:  59%|█████▉    | 71/120 [05:26<04:26,  5.44s/it]"
     ]
    },
    {
     "name": "stdout",
     "output_type": "stream",
     "text": [
      "🏃 View run tfidf_(1, 2)_svm_poly_C1.0_degree3_gammascale_coef01.0 at: https://dbc-2d843358-2bd3.cloud.databricks.com/ml/experiments/1290665620565637/runs/c895ede8669b4ac38d1645f2207b7d7c\n",
      "🧪 View experiment at: https://dbc-2d843358-2bd3.cloud.databricks.com/ml/experiments/1290665620565637\n",
      "🏃 View run tfidf_(1, 2)_svm_poly_C10.0_degree2_gammascale_coef00.0 at: https://dbc-2d843358-2bd3.cloud.databricks.com/ml/experiments/1290665620565637/runs/3e9886208ada465cb71b26e1ef8300a1\n",
      "🧪 View experiment at: https://dbc-2d843358-2bd3.cloud.databricks.com/ml/experiments/1290665620565637\n"
     ]
    },
    {
     "name": "stderr",
     "output_type": "stream",
     "text": [
      "tfidf_(1, 2)_svm_poly_C10.0_degree2_gammascale_coef01.0:  60%|██████    | 72/120 [05:32<04:23,  5.49s/it]"
     ]
    },
    {
     "name": "stdout",
     "output_type": "stream",
     "text": [
      "🏃 View run tfidf_(1, 2)_svm_poly_C10.0_degree2_gammascale_coef01.0 at: https://dbc-2d843358-2bd3.cloud.databricks.com/ml/experiments/1290665620565637/runs/55c9ee75a4024d43afa5f19fb8772ab8\n",
      "🧪 View experiment at: https://dbc-2d843358-2bd3.cloud.databricks.com/ml/experiments/1290665620565637\n"
     ]
    },
    {
     "name": "stderr",
     "output_type": "stream",
     "text": [
      "tfidf_(1, 2)_svm_poly_C10.0_degree3_gammascale_coef00.0:  61%|██████    | 73/120 [05:37<04:15,  5.43s/it]"
     ]
    },
    {
     "name": "stdout",
     "output_type": "stream",
     "text": [
      "🏃 View run tfidf_(1, 2)_svm_poly_C10.0_degree3_gammascale_coef00.0 at: https://dbc-2d843358-2bd3.cloud.databricks.com/ml/experiments/1290665620565637/runs/74dd2f4e427649f5b9474f4cb5593660\n",
      "🧪 View experiment at: https://dbc-2d843358-2bd3.cloud.databricks.com/ml/experiments/1290665620565637\n"
     ]
    },
    {
     "name": "stderr",
     "output_type": "stream",
     "text": [
      "tfidf_(1, 2)_svm_poly_C10.0_degree3_gammascale_coef01.0:  62%|██████▏   | 74/120 [05:43<04:11,  5.46s/it]"
     ]
    },
    {
     "name": "stdout",
     "output_type": "stream",
     "text": [
      "🏃 View run tfidf_(1, 2)_svm_poly_C10.0_degree3_gammascale_coef01.0 at: https://dbc-2d843358-2bd3.cloud.databricks.com/ml/experiments/1290665620565637/runs/c49b23f9c92347c592b2e7a59afbbc8a\n",
      "🧪 View experiment at: https://dbc-2d843358-2bd3.cloud.databricks.com/ml/experiments/1290665620565637\n"
     ]
    },
    {
     "name": "stderr",
     "output_type": "stream",
     "text": [
      "tfidf_(1, 2)_svm_linear_C0.1:  63%|██████▎   | 76/120 [05:54<04:00,  5.47s/it]                           "
     ]
    },
    {
     "name": "stdout",
     "output_type": "stream",
     "text": [
      "🏃 View run tfidf_(1, 2)_svm_linear_C0.1 at: https://dbc-2d843358-2bd3.cloud.databricks.com/ml/experiments/1290665620565637/runs/b17529a6f24141e9b4724a44c377e89a\n",
      "🧪 View experiment at: https://dbc-2d843358-2bd3.cloud.databricks.com/ml/experiments/1290665620565637\n"
     ]
    },
    {
     "name": "stderr",
     "output_type": "stream",
     "text": [
      "tfidf_(1, 2)_svm_linear_C1.0:  63%|██████▎   | 76/120 [05:54<04:00,  5.47s/it]"
     ]
    },
    {
     "name": "stdout",
     "output_type": "stream",
     "text": [
      "🏃 View run tfidf_(1, 2)_svm_linear_C1.0 at: https://dbc-2d843358-2bd3.cloud.databricks.com/ml/experiments/1290665620565637/runs/c3446167d00247cf8707f96298e83b30\n",
      "🧪 View experiment at: https://dbc-2d843358-2bd3.cloud.databricks.com/ml/experiments/1290665620565637\n"
     ]
    },
    {
     "name": "stderr",
     "output_type": "stream",
     "text": [
      "tfidf_(1, 2)_svm_linear_C10.0:  64%|██████▍   | 77/120 [05:58<03:43,  5.20s/it]"
     ]
    },
    {
     "name": "stdout",
     "output_type": "stream",
     "text": [
      "🏃 View run tfidf_(1, 2)_svm_linear_C10.0 at: https://dbc-2d843358-2bd3.cloud.databricks.com/ml/experiments/1290665620565637/runs/c7b3bd62fbf245988674c3de319ddf23\n",
      "🧪 View experiment at: https://dbc-2d843358-2bd3.cloud.databricks.com/ml/experiments/1290665620565637\n"
     ]
    },
    {
     "name": "stderr",
     "output_type": "stream",
     "text": [
      "tfidf_(1, 2)_svm_rbf_C1.0_gamma0.001:  66%|██████▌   | 79/120 [06:08<03:28,  5.08s/it]"
     ]
    },
    {
     "name": "stdout",
     "output_type": "stream",
     "text": [
      "🏃 View run tfidf_(1, 2)_svm_rbf_C1.0_gammascale at: https://dbc-2d843358-2bd3.cloud.databricks.com/ml/experiments/1290665620565637/runs/a27d84dd7af544b4ab88980a8acc88ec\n",
      "🧪 View experiment at: https://dbc-2d843358-2bd3.cloud.databricks.com/ml/experiments/1290665620565637\n"
     ]
    },
    {
     "name": "stderr",
     "output_type": "stream",
     "text": [
      "tfidf_(1, 2)_svm_rbf_C10.0_gammascale:  67%|██████▋   | 80/120 [06:13<03:25,  5.15s/it]"
     ]
    },
    {
     "name": "stdout",
     "output_type": "stream",
     "text": [
      "🏃 View run tfidf_(1, 2)_svm_rbf_C1.0_gamma0.001 at: https://dbc-2d843358-2bd3.cloud.databricks.com/ml/experiments/1290665620565637/runs/49d6f265de614a41854810e356644aec\n",
      "🧪 View experiment at: https://dbc-2d843358-2bd3.cloud.databricks.com/ml/experiments/1290665620565637\n"
     ]
    },
    {
     "name": "stderr",
     "output_type": "stream",
     "text": [
      "tfidf_(1, 2)_svm_rbf_C10.0_gamma0.001:  68%|██████▊   | 81/120 [06:19<03:23,  5.21s/it]"
     ]
    },
    {
     "name": "stdout",
     "output_type": "stream",
     "text": [
      "🏃 View run tfidf_(1, 2)_svm_rbf_C10.0_gammascale at: https://dbc-2d843358-2bd3.cloud.databricks.com/ml/experiments/1290665620565637/runs/32952fc4b8814f899e6793af21c7d209\n",
      "🧪 View experiment at: https://dbc-2d843358-2bd3.cloud.databricks.com/ml/experiments/1290665620565637\n",
      "🏃 View run tfidf_(1, 2)_svm_rbf_C10.0_gamma0.001 at: https://dbc-2d843358-2bd3.cloud.databricks.com/ml/experiments/1290665620565637/runs/787ceb69a86b4f31b8b6e3e732ef34d8\n",
      "🧪 View experiment at: https://dbc-2d843358-2bd3.cloud.databricks.com/ml/experiments/1290665620565637\n"
     ]
    },
    {
     "name": "stderr",
     "output_type": "stream",
     "text": [
      "tfidf_(1, 2)_svm_poly_C1.0_degree2_gammascale_coef00.0:  68%|██████▊   | 82/120 [06:24<03:18,  5.22s/it]"
     ]
    },
    {
     "name": "stdout",
     "output_type": "stream",
     "text": [
      "🏃 View run tfidf_(1, 2)_svm_poly_C1.0_degree2_gammascale_coef00.0 at: https://dbc-2d843358-2bd3.cloud.databricks.com/ml/experiments/1290665620565637/runs/8a8e02f64a254d9787726bae39add1ec\n",
      "🧪 View experiment at: https://dbc-2d843358-2bd3.cloud.databricks.com/ml/experiments/1290665620565637\n"
     ]
    },
    {
     "name": "stderr",
     "output_type": "stream",
     "text": [
      "tfidf_(1, 2)_svm_poly_C1.0_degree2_gammascale_coef01.0:  69%|██████▉   | 83/120 [06:30<03:17,  5.34s/it]"
     ]
    },
    {
     "name": "stdout",
     "output_type": "stream",
     "text": [
      "🏃 View run tfidf_(1, 2)_svm_poly_C1.0_degree2_gammascale_coef01.0 at: https://dbc-2d843358-2bd3.cloud.databricks.com/ml/experiments/1290665620565637/runs/c6a243d7d3464076a88f9cc894dca5ae\n",
      "🧪 View experiment at: https://dbc-2d843358-2bd3.cloud.databricks.com/ml/experiments/1290665620565637\n"
     ]
    },
    {
     "name": "stderr",
     "output_type": "stream",
     "text": [
      "tfidf_(1, 2)_svm_poly_C1.0_degree3_gammascale_coef00.0:  70%|███████   | 84/120 [06:35<03:13,  5.37s/it]"
     ]
    },
    {
     "name": "stdout",
     "output_type": "stream",
     "text": [
      "🏃 View run tfidf_(1, 2)_svm_poly_C1.0_degree3_gammascale_coef00.0 at: https://dbc-2d843358-2bd3.cloud.databricks.com/ml/experiments/1290665620565637/runs/b5c307629c0344a2a33cb363655751aa\n",
      "🧪 View experiment at: https://dbc-2d843358-2bd3.cloud.databricks.com/ml/experiments/1290665620565637\n"
     ]
    },
    {
     "name": "stderr",
     "output_type": "stream",
     "text": [
      "tfidf_(1, 2)_svm_poly_C1.0_degree3_gammascale_coef01.0:  71%|███████   | 85/120 [06:41<03:11,  5.46s/it]"
     ]
    },
    {
     "name": "stdout",
     "output_type": "stream",
     "text": [
      "🏃 View run tfidf_(1, 2)_svm_poly_C1.0_degree3_gammascale_coef01.0 at: https://dbc-2d843358-2bd3.cloud.databricks.com/ml/experiments/1290665620565637/runs/80897f380c87491cb9b4b14cb537f502\n",
      "🧪 View experiment at: https://dbc-2d843358-2bd3.cloud.databricks.com/ml/experiments/1290665620565637\n"
     ]
    },
    {
     "name": "stderr",
     "output_type": "stream",
     "text": [
      "tfidf_(1, 2)_svm_poly_C10.0_degree2_gammascale_coef01.0:  72%|███████▎  | 87/120 [06:52<03:01,  5.49s/it]"
     ]
    },
    {
     "name": "stdout",
     "output_type": "stream",
     "text": [
      "🏃 View run tfidf_(1, 2)_svm_poly_C10.0_degree2_gammascale_coef00.0 at: https://dbc-2d843358-2bd3.cloud.databricks.com/ml/experiments/1290665620565637/runs/6f911892b07b4851b10241a0aa9902e0\n",
      "🧪 View experiment at: https://dbc-2d843358-2bd3.cloud.databricks.com/ml/experiments/1290665620565637\n",
      "🏃 View run tfidf_(1, 2)_svm_poly_C10.0_degree2_gammascale_coef01.0 at: https://dbc-2d843358-2bd3.cloud.databricks.com/ml/experiments/1290665620565637/runs/4588df154c0c42fa9c7262d5471cc506\n",
      "🧪 View experiment at: https://dbc-2d843358-2bd3.cloud.databricks.com/ml/experiments/1290665620565637\n"
     ]
    },
    {
     "name": "stderr",
     "output_type": "stream",
     "text": [
      "tfidf_(1, 2)_svm_poly_C10.0_degree3_gammascale_coef00.0:  73%|███████▎  | 88/120 [06:57<02:54,  5.44s/it]"
     ]
    },
    {
     "name": "stdout",
     "output_type": "stream",
     "text": [
      "🏃 View run tfidf_(1, 2)_svm_poly_C10.0_degree3_gammascale_coef00.0 at: https://dbc-2d843358-2bd3.cloud.databricks.com/ml/experiments/1290665620565637/runs/48d6e3f94f7f440b8857a83efbb5c8eb\n",
      "🧪 View experiment at: https://dbc-2d843358-2bd3.cloud.databricks.com/ml/experiments/1290665620565637\n"
     ]
    },
    {
     "name": "stderr",
     "output_type": "stream",
     "text": [
      "tfidf_(1, 2)_svm_poly_C10.0_degree3_gammascale_coef01.0:  75%|███████▌  | 90/120 [07:08<02:44,  5.49s/it]"
     ]
    },
    {
     "name": "stdout",
     "output_type": "stream",
     "text": [
      "🏃 View run tfidf_(1, 2)_svm_poly_C10.0_degree3_gammascale_coef01.0 at: https://dbc-2d843358-2bd3.cloud.databricks.com/ml/experiments/1290665620565637/runs/c319d856d9a84c05aa1126dc92c3f807\n",
      "🧪 View experiment at: https://dbc-2d843358-2bd3.cloud.databricks.com/ml/experiments/1290665620565637\n"
     ]
    },
    {
     "name": "stderr",
     "output_type": "stream",
     "text": [
      "tfidf_(1, 2)_svm_linear_C1.0:  76%|███████▌  | 91/120 [07:12<02:28,  5.13s/it]                           "
     ]
    },
    {
     "name": "stdout",
     "output_type": "stream",
     "text": [
      "🏃 View run tfidf_(1, 2)_svm_linear_C0.1 at: https://dbc-2d843358-2bd3.cloud.databricks.com/ml/experiments/1290665620565637/runs/0b26fcf0b35d4bad8dfee78690f44ee8\n",
      "🧪 View experiment at: https://dbc-2d843358-2bd3.cloud.databricks.com/ml/experiments/1290665620565637\n",
      "🏃 View run tfidf_(1, 2)_svm_linear_C1.0 at: https://dbc-2d843358-2bd3.cloud.databricks.com/ml/experiments/1290665620565637/runs/8eba50f0b25147a9a174ed70a28920ea\n",
      "🧪 View experiment at: https://dbc-2d843358-2bd3.cloud.databricks.com/ml/experiments/1290665620565637\n"
     ]
    },
    {
     "name": "stderr",
     "output_type": "stream",
     "text": [
      "tfidf_(1, 2)_svm_linear_C10.0:  78%|███████▊  | 93/120 [07:19<01:55,  4.29s/it]"
     ]
    },
    {
     "name": "stdout",
     "output_type": "stream",
     "text": [
      "🏃 View run tfidf_(1, 2)_svm_linear_C10.0 at: https://dbc-2d843358-2bd3.cloud.databricks.com/ml/experiments/1290665620565637/runs/9231143637214d6fb72bdb7dd5b89b10\n",
      "🧪 View experiment at: https://dbc-2d843358-2bd3.cloud.databricks.com/ml/experiments/1290665620565637\n"
     ]
    },
    {
     "name": "stderr",
     "output_type": "stream",
     "text": [
      "tfidf_(1, 2)_svm_rbf_C1.0_gammascale:  78%|███████▊  | 93/120 [07:19<01:55,  4.29s/it]"
     ]
    },
    {
     "name": "stdout",
     "output_type": "stream",
     "text": [
      "🏃 View run tfidf_(1, 2)_svm_rbf_C1.0_gammascale at: https://dbc-2d843358-2bd3.cloud.databricks.com/ml/experiments/1290665620565637/runs/124fe3422c10456a85ee3c836c3a6cb3\n",
      "🧪 View experiment at: https://dbc-2d843358-2bd3.cloud.databricks.com/ml/experiments/1290665620565637\n"
     ]
    },
    {
     "name": "stderr",
     "output_type": "stream",
     "text": [
      "tfidf_(1, 2)_svm_rbf_C1.0_gamma0.001:  79%|███████▉  | 95/120 [07:28<01:46,  4.27s/it]"
     ]
    },
    {
     "name": "stdout",
     "output_type": "stream",
     "text": [
      "🏃 View run tfidf_(1, 2)_svm_rbf_C1.0_gamma0.001 at: https://dbc-2d843358-2bd3.cloud.databricks.com/ml/experiments/1290665620565637/runs/6491db163f44426aaed93f08df6b36ef\n",
      "🧪 View experiment at: https://dbc-2d843358-2bd3.cloud.databricks.com/ml/experiments/1290665620565637\n"
     ]
    },
    {
     "name": "stderr",
     "output_type": "stream",
     "text": [
      "tfidf_(1, 2)_svm_rbf_C10.0_gammascale:  79%|███████▉  | 95/120 [07:28<01:46,  4.27s/it]"
     ]
    },
    {
     "name": "stdout",
     "output_type": "stream",
     "text": [
      "🏃 View run tfidf_(1, 2)_svm_rbf_C10.0_gammascale at: https://dbc-2d843358-2bd3.cloud.databricks.com/ml/experiments/1290665620565637/runs/04c995c8e57d432587ba851d314c22b5\n",
      "🧪 View experiment at: https://dbc-2d843358-2bd3.cloud.databricks.com/ml/experiments/1290665620565637\n"
     ]
    },
    {
     "name": "stderr",
     "output_type": "stream",
     "text": [
      "tfidf_(1, 2)_svm_rbf_C10.0_gamma0.001:  81%|████████  | 97/120 [07:39<01:52,  4.87s/it]"
     ]
    },
    {
     "name": "stdout",
     "output_type": "stream",
     "text": [
      "🏃 View run tfidf_(1, 2)_svm_rbf_C10.0_gamma0.001 at: https://dbc-2d843358-2bd3.cloud.databricks.com/ml/experiments/1290665620565637/runs/3f8c7968b53c492f9ccaa48004afbdb6\n",
      "🧪 View experiment at: https://dbc-2d843358-2bd3.cloud.databricks.com/ml/experiments/1290665620565637\n"
     ]
    },
    {
     "name": "stderr",
     "output_type": "stream",
     "text": [
      "tfidf_(1, 2)_svm_poly_C1.0_degree2_gammascale_coef00.0:  81%|████████  | 97/120 [07:39<01:52,  4.87s/it]"
     ]
    },
    {
     "name": "stdout",
     "output_type": "stream",
     "text": [
      "🏃 View run tfidf_(1, 2)_svm_poly_C1.0_degree2_gammascale_coef00.0 at: https://dbc-2d843358-2bd3.cloud.databricks.com/ml/experiments/1290665620565637/runs/ae6fdd2a81a043e9ae4aa8779cef067b\n",
      "🧪 View experiment at: https://dbc-2d843358-2bd3.cloud.databricks.com/ml/experiments/1290665620565637\n"
     ]
    },
    {
     "name": "stderr",
     "output_type": "stream",
     "text": [
      "tfidf_(1, 2)_svm_poly_C1.0_degree2_gammascale_coef01.0:  82%|████████▎ | 99/120 [07:48<01:37,  4.66s/it]"
     ]
    },
    {
     "name": "stdout",
     "output_type": "stream",
     "text": [
      "🏃 View run tfidf_(1, 2)_svm_poly_C1.0_degree2_gammascale_coef01.0 at: https://dbc-2d843358-2bd3.cloud.databricks.com/ml/experiments/1290665620565637/runs/c5686e87951b42cead092cf0233cc716\n",
      "🧪 View experiment at: https://dbc-2d843358-2bd3.cloud.databricks.com/ml/experiments/1290665620565637\n"
     ]
    },
    {
     "name": "stderr",
     "output_type": "stream",
     "text": [
      "tfidf_(1, 2)_svm_poly_C1.0_degree3_gammascale_coef00.0:  82%|████████▎ | 99/120 [07:48<01:37,  4.66s/it]"
     ]
    },
    {
     "name": "stdout",
     "output_type": "stream",
     "text": [
      "🏃 View run tfidf_(1, 2)_svm_poly_C1.0_degree3_gammascale_coef00.0 at: https://dbc-2d843358-2bd3.cloud.databricks.com/ml/experiments/1290665620565637/runs/ef0ed379cfd8491d9def69e417c8c88b\n",
      "🧪 View experiment at: https://dbc-2d843358-2bd3.cloud.databricks.com/ml/experiments/1290665620565637\n"
     ]
    },
    {
     "name": "stderr",
     "output_type": "stream",
     "text": [
      "tfidf_(1, 2)_svm_poly_C1.0_degree3_gammascale_coef01.0:  83%|████████▎ | 100/120 [07:53<01:33,  4.69s/it]"
     ]
    },
    {
     "name": "stdout",
     "output_type": "stream",
     "text": [
      "🏃 View run tfidf_(1, 2)_svm_poly_C1.0_degree3_gammascale_coef01.0 at: https://dbc-2d843358-2bd3.cloud.databricks.com/ml/experiments/1290665620565637/runs/09e04f7acb45425392cc54c49aaea8fc\n",
      "🧪 View experiment at: https://dbc-2d843358-2bd3.cloud.databricks.com/ml/experiments/1290665620565637\n"
     ]
    },
    {
     "name": "stderr",
     "output_type": "stream",
     "text": [
      "tfidf_(1, 2)_svm_poly_C10.0_degree2_gammascale_coef00.0:  85%|████████▌ | 102/120 [08:02<01:24,  4.67s/it]"
     ]
    },
    {
     "name": "stdout",
     "output_type": "stream",
     "text": [
      "🏃 View run tfidf_(1, 2)_svm_poly_C10.0_degree2_gammascale_coef00.0 at: https://dbc-2d843358-2bd3.cloud.databricks.com/ml/experiments/1290665620565637/runs/3b806fcb109e4d5b936fc9ca844affbe\n",
      "🧪 View experiment at: https://dbc-2d843358-2bd3.cloud.databricks.com/ml/experiments/1290665620565637\n"
     ]
    },
    {
     "name": "stderr",
     "output_type": "stream",
     "text": [
      "tfidf_(1, 2)_svm_poly_C10.0_degree3_gammascale_coef00.0:  86%|████████▌ | 103/120 [08:07<01:17,  4.57s/it]"
     ]
    },
    {
     "name": "stdout",
     "output_type": "stream",
     "text": [
      "🏃 View run tfidf_(1, 2)_svm_poly_C10.0_degree2_gammascale_coef01.0 at: https://dbc-2d843358-2bd3.cloud.databricks.com/ml/experiments/1290665620565637/runs/405e88b91ac74657a81d82bbd5b979aa\n",
      "🧪 View experiment at: https://dbc-2d843358-2bd3.cloud.databricks.com/ml/experiments/1290665620565637\n",
      "🏃 View run tfidf_(1, 2)_svm_poly_C10.0_degree3_gammascale_coef00.0 at: https://dbc-2d843358-2bd3.cloud.databricks.com/ml/experiments/1290665620565637/runs/7cb09b36ed9f4f648c5453696652f982\n",
      "🧪 View experiment at: https://dbc-2d843358-2bd3.cloud.databricks.com/ml/experiments/1290665620565637\n"
     ]
    },
    {
     "name": "stderr",
     "output_type": "stream",
     "text": [
      "tfidf_(1, 2)_svm_poly_C10.0_degree3_gammascale_coef01.0:  87%|████████▋ | 104/120 [08:11<01:13,  4.59s/it]"
     ]
    },
    {
     "name": "stdout",
     "output_type": "stream",
     "text": [
      "🏃 View run tfidf_(1, 2)_svm_poly_C10.0_degree3_gammascale_coef01.0 at: https://dbc-2d843358-2bd3.cloud.databricks.com/ml/experiments/1290665620565637/runs/9676163029364528882b68b7aa0a31c5\n",
      "🧪 View experiment at: https://dbc-2d843358-2bd3.cloud.databricks.com/ml/experiments/1290665620565637\n"
     ]
    },
    {
     "name": "stderr",
     "output_type": "stream",
     "text": [
      "tfidf_(1, 2)_svm_linear_C1.0:  88%|████████▊ | 106/120 [08:20<01:02,  4.46s/it]                           "
     ]
    },
    {
     "name": "stdout",
     "output_type": "stream",
     "text": [
      "🏃 View run tfidf_(1, 2)_svm_linear_C0.1 at: https://dbc-2d843358-2bd3.cloud.databricks.com/ml/experiments/1290665620565637/runs/155366457c2440d4ac9088de6eeae414\n",
      "🧪 View experiment at: https://dbc-2d843358-2bd3.cloud.databricks.com/ml/experiments/1290665620565637\n"
     ]
    },
    {
     "name": "stderr",
     "output_type": "stream",
     "text": [
      "tfidf_(1, 2)_svm_linear_C1.0:  89%|████████▉ | 107/120 [08:23<00:54,  4.19s/it]"
     ]
    },
    {
     "name": "stdout",
     "output_type": "stream",
     "text": [
      "🏃 View run tfidf_(1, 2)_svm_linear_C1.0 at: https://dbc-2d843358-2bd3.cloud.databricks.com/ml/experiments/1290665620565637/runs/ecda0d8ea49a46a9bc74004f86a6b527\n",
      "🧪 View experiment at: https://dbc-2d843358-2bd3.cloud.databricks.com/ml/experiments/1290665620565637\n"
     ]
    },
    {
     "name": "stderr",
     "output_type": "stream",
     "text": [
      "tfidf_(1, 2)_svm_linear_C10.0:  89%|████████▉ | 107/120 [08:23<00:54,  4.19s/it]"
     ]
    },
    {
     "name": "stdout",
     "output_type": "stream",
     "text": [
      "🏃 View run tfidf_(1, 2)_svm_linear_C10.0 at: https://dbc-2d843358-2bd3.cloud.databricks.com/ml/experiments/1290665620565637/runs/faf53452eb714345a60bee184e943c8b\n",
      "🧪 View experiment at: https://dbc-2d843358-2bd3.cloud.databricks.com/ml/experiments/1290665620565637\n"
     ]
    },
    {
     "name": "stderr",
     "output_type": "stream",
     "text": [
      "tfidf_(1, 2)_svm_rbf_C1.0_gammascale:  90%|█████████ | 108/120 [08:27<00:47,  3.96s/it]"
     ]
    },
    {
     "name": "stdout",
     "output_type": "stream",
     "text": [
      "🏃 View run tfidf_(1, 2)_svm_rbf_C1.0_gammascale at: https://dbc-2d843358-2bd3.cloud.databricks.com/ml/experiments/1290665620565637/runs/f9b1560fe03c4e01930343e3efebc6cc\n",
      "🧪 View experiment at: https://dbc-2d843358-2bd3.cloud.databricks.com/ml/experiments/1290665620565637\n"
     ]
    },
    {
     "name": "stderr",
     "output_type": "stream",
     "text": [
      "tfidf_(1, 2)_svm_rbf_C10.0_gammascale:  92%|█████████▏| 110/120 [08:35<00:41,  4.13s/it]"
     ]
    },
    {
     "name": "stdout",
     "output_type": "stream",
     "text": [
      "🏃 View run tfidf_(1, 2)_svm_rbf_C1.0_gamma0.001 at: https://dbc-2d843358-2bd3.cloud.databricks.com/ml/experiments/1290665620565637/runs/3ecca48176584dd6b878ccf030b53d00\n",
      "🧪 View experiment at: https://dbc-2d843358-2bd3.cloud.databricks.com/ml/experiments/1290665620565637\n"
     ]
    },
    {
     "name": "stderr",
     "output_type": "stream",
     "text": [
      "tfidf_(1, 2)_svm_rbf_C10.0_gamma0.001:  92%|█████████▎| 111/120 [08:40<00:37,  4.15s/it]"
     ]
    },
    {
     "name": "stdout",
     "output_type": "stream",
     "text": [
      "🏃 View run tfidf_(1, 2)_svm_rbf_C10.0_gammascale at: https://dbc-2d843358-2bd3.cloud.databricks.com/ml/experiments/1290665620565637/runs/8dc589f4a5de4e7fb993d243968a9ce6\n",
      "🧪 View experiment at: https://dbc-2d843358-2bd3.cloud.databricks.com/ml/experiments/1290665620565637\n",
      "🏃 View run tfidf_(1, 2)_svm_rbf_C10.0_gamma0.001 at: https://dbc-2d843358-2bd3.cloud.databricks.com/ml/experiments/1290665620565637/runs/57a76be55df14fb19261986cb6d3a049\n",
      "🧪 View experiment at: https://dbc-2d843358-2bd3.cloud.databricks.com/ml/experiments/1290665620565637\n"
     ]
    },
    {
     "name": "stderr",
     "output_type": "stream",
     "text": [
      "tfidf_(1, 2)_svm_poly_C1.0_degree2_gammascale_coef01.0:  94%|█████████▍| 113/120 [08:49<00:30,  4.35s/it]"
     ]
    },
    {
     "name": "stdout",
     "output_type": "stream",
     "text": [
      "🏃 View run tfidf_(1, 2)_svm_poly_C1.0_degree2_gammascale_coef00.0 at: https://dbc-2d843358-2bd3.cloud.databricks.com/ml/experiments/1290665620565637/runs/bc43a4e8bd2048808b6d9f9a3ce5ef99\n",
      "🧪 View experiment at: https://dbc-2d843358-2bd3.cloud.databricks.com/ml/experiments/1290665620565637\n",
      "🏃 View run tfidf_(1, 2)_svm_poly_C1.0_degree2_gammascale_coef01.0 at: https://dbc-2d843358-2bd3.cloud.databricks.com/ml/experiments/1290665620565637/runs/2c9e8b20c58c4d7eb92ce538974cce68\n",
      "🧪 View experiment at: https://dbc-2d843358-2bd3.cloud.databricks.com/ml/experiments/1290665620565637\n"
     ]
    },
    {
     "name": "stderr",
     "output_type": "stream",
     "text": [
      "tfidf_(1, 2)_svm_poly_C1.0_degree3_gammascale_coef00.0:  96%|█████████▌| 115/120 [08:58<00:22,  4.43s/it]"
     ]
    },
    {
     "name": "stdout",
     "output_type": "stream",
     "text": [
      "🏃 View run tfidf_(1, 2)_svm_poly_C1.0_degree3_gammascale_coef00.0 at: https://dbc-2d843358-2bd3.cloud.databricks.com/ml/experiments/1290665620565637/runs/f8f8721bcdbe4c0894cbed997673a4f8\n",
      "🧪 View experiment at: https://dbc-2d843358-2bd3.cloud.databricks.com/ml/experiments/1290665620565637\n"
     ]
    },
    {
     "name": "stderr",
     "output_type": "stream",
     "text": [
      "tfidf_(1, 2)_svm_poly_C10.0_degree2_gammascale_coef00.0:  97%|█████████▋| 116/120 [09:02<00:17,  4.43s/it]"
     ]
    },
    {
     "name": "stdout",
     "output_type": "stream",
     "text": [
      "🏃 View run tfidf_(1, 2)_svm_poly_C1.0_degree3_gammascale_coef01.0 at: https://dbc-2d843358-2bd3.cloud.databricks.com/ml/experiments/1290665620565637/runs/326633179c544cdc8d93b4f1cc0351ee\n",
      "🧪 View experiment at: https://dbc-2d843358-2bd3.cloud.databricks.com/ml/experiments/1290665620565637\n"
     ]
    },
    {
     "name": "stderr",
     "output_type": "stream",
     "text": [
      "tfidf_(1, 2)_svm_poly_C10.0_degree2_gammascale_coef00.0:  98%|█████████▊| 117/120 [09:07<00:13,  4.46s/it]"
     ]
    },
    {
     "name": "stdout",
     "output_type": "stream",
     "text": [
      "🏃 View run tfidf_(1, 2)_svm_poly_C10.0_degree2_gammascale_coef00.0 at: https://dbc-2d843358-2bd3.cloud.databricks.com/ml/experiments/1290665620565637/runs/cf1478c33cb74741864aec5040e053f7\n",
      "🧪 View experiment at: https://dbc-2d843358-2bd3.cloud.databricks.com/ml/experiments/1290665620565637\n"
     ]
    },
    {
     "name": "stderr",
     "output_type": "stream",
     "text": [
      "tfidf_(1, 2)_svm_poly_C10.0_degree2_gammascale_coef01.0:  98%|█████████▊| 118/120 [09:11<00:08,  4.40s/it]"
     ]
    },
    {
     "name": "stdout",
     "output_type": "stream",
     "text": [
      "🏃 View run tfidf_(1, 2)_svm_poly_C10.0_degree2_gammascale_coef01.0 at: https://dbc-2d843358-2bd3.cloud.databricks.com/ml/experiments/1290665620565637/runs/84c08a6d46664e83a8deabae18aac0e2\n",
      "🧪 View experiment at: https://dbc-2d843358-2bd3.cloud.databricks.com/ml/experiments/1290665620565637\n"
     ]
    },
    {
     "name": "stderr",
     "output_type": "stream",
     "text": [
      "tfidf_(1, 2)_svm_poly_C10.0_degree3_gammascale_coef00.0:  98%|█████████▊| 118/120 [09:11<00:08,  4.40s/it]"
     ]
    },
    {
     "name": "stdout",
     "output_type": "stream",
     "text": [
      "🏃 View run tfidf_(1, 2)_svm_poly_C10.0_degree3_gammascale_coef00.0 at: https://dbc-2d843358-2bd3.cloud.databricks.com/ml/experiments/1290665620565637/runs/4b493c2d9c2c44b3ac9a6370298fb079\n",
      "🧪 View experiment at: https://dbc-2d843358-2bd3.cloud.databricks.com/ml/experiments/1290665620565637\n"
     ]
    },
    {
     "name": "stderr",
     "output_type": "stream",
     "text": [
      "tfidf_(1, 2)_svm_poly_C10.0_degree3_gammascale_coef01.0: 100%|██████████| 120/120 [09:20<00:00,  4.45s/it]"
     ]
    },
    {
     "name": "stdout",
     "output_type": "stream",
     "text": [
      "🏃 View run tfidf_(1, 2)_svm_poly_C10.0_degree3_gammascale_coef01.0 at: https://dbc-2d843358-2bd3.cloud.databricks.com/ml/experiments/1290665620565637/runs/73d2eb5e507144d8b3785f2dcf078c5d\n",
      "🧪 View experiment at: https://dbc-2d843358-2bd3.cloud.databricks.com/ml/experiments/1290665620565637\n"
     ]
    }
   ],
   "source": [
    "tfidf_total = math.prod(len(v) for v in tfidf_grid.values())\n",
    "svm_total = sum(math.prod(len(v) for v in space.values()) for space in svm_grid.values())\n",
    "total = tfidf_total * svm_total\n",
    "pbar = tqdm(total=total, desc=\"Runs\", leave=True)\n",
    "\n",
    "\n",
    "for tfidf_params in grid_items(tfidf_grid):\n",
    "    vec = TfidfVectorizer(analyzer=\"word\", max_df=0.9, sublinear_tf=True, norm=\"l2\", **tfidf_params)\n",
    "    X_train = vec.fit_transform(data_training[\"text\"].astype(str))\n",
    "    X_val   = vec.transform(data_validation[\"text\"].astype(str))\n",
    "\n",
    "    for kernel, space in svm_grid.items():\n",
    "        for svm_params in grid_items(space):\n",
    "            run_name = (\n",
    "                f\"tfidf_{tfidf_params['ngram_range']}_svm_{kernel}_\"\n",
    "                + \"_\".join(f\"{k}{v}\" for k, v in svm_params.items())\n",
    "            )\n",
    "            pbar.set_description(run_name)\n",
    "    \n",
    "            with mlflow.start_run(run_name=run_name):\n",
    "                mlflow.set_tag(\"model_name\", f\"SVM_{kernel}\")\n",
    "                mlflow.log_param(\"featurizer\", \"tfidf\")\n",
    "                for k, v in tfidf_params.items():\n",
    "                    mlflow.log_param(f\"tfidf_{k}\", v)\n",
    "                mlflow.log_param(\"vocab_size\", int(X_train.shape[1]))\n",
    "                mlflow.log_param(\"n_train\", int(X_train.shape[0]))\n",
    "                mlflow.log_param(\"n_val\", int(X_val.shape[0]))\n",
    "                mlflow.log_param(\"svm_kernel\", kernel)\n",
    "                for k, v in svm_params.items():\n",
    "                    mlflow.log_param(f\"svm_{k}\", v)\n",
    "    \n",
    "                model = SVC(\n",
    "                    kernel=kernel,\n",
    "                    probability=True,          # para predict_proba\n",
    "                    class_weight=\"balanced\",\n",
    "                    random_state=42,\n",
    "                    **svm_params               # C / gamma / degree / coef0 según kernel\n",
    "                )\n",
    "                model.fit(X_train, y_train)\n",
    "    \n",
    "                val_scores = model.predict_proba(X_val)[:, 1]\n",
    "                val_pred = (val_scores >= 0.5).astype(int)\n",
    "    \n",
    "                metrics = {\n",
    "                    \"pr_auc\": float(average_precision_score(y_val, val_scores)),\n",
    "                    \"roc_auc\": float(roc_auc_score(y_val, val_scores)),\n",
    "                    \"f1\": float(f1_score(y_val, val_pred)),\n",
    "                    \"recall\": float(recall_score(y_val, val_pred)),\n",
    "                    \"accuracy\": float(accuracy_score(y_val, val_pred)),\n",
    "                }\n",
    "                mlflow.log_metrics(metrics)\n",
    "    \n",
    "            pbar.update(1)\n"
   ]
  },
  {
   "cell_type": "code",
   "execution_count": 11,
   "id": "cddca4ff-ad98-4965-8809-05f47180624a",
   "metadata": {},
   "outputs": [
    {
     "name": "stdout",
     "output_type": "stream",
     "text": [
      "Experimento Concluido con Exito!\n"
     ]
    }
   ],
   "source": [
    "print(\"Experimento Concluido con Exito!\")"
   ]
  },
  {
   "cell_type": "code",
   "execution_count": null,
   "id": "8fc4999f-70bc-4d3e-85eb-580253bb5da5",
   "metadata": {},
   "outputs": [],
   "source": []
  }
 ],
 "metadata": {
  "kernelspec": {
   "display_name": ".venv_clasificador",
   "language": "python",
   "name": "python3"
  },
  "language_info": {
   "codemirror_mode": {
    "name": "ipython",
    "version": 3
   },
   "file_extension": ".py",
   "mimetype": "text/x-python",
   "name": "python",
   "nbconvert_exporter": "python",
   "pygments_lexer": "ipython3",
   "version": "3.11.9"
  }
 },
 "nbformat": 4,
 "nbformat_minor": 5
}
