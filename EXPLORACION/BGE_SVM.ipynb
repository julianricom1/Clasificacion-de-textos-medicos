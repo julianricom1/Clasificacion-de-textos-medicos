{
 "cells": [
  {
   "cell_type": "code",
   "execution_count": null,
   "id": "369e80f5-0bbe-41c3-aa4c-6d1a34ff212b",
   "metadata": {},
   "outputs": [
    {
     "name": "stderr",
     "output_type": "stream",
     "text": [
      "d:\\OneDrive\\Documents\\MAIA\\Semestre 4\\Despliegue de Soluciones\\__REPOS__\\Clasificacion-de-textos-medicos\\.venv_clasificador\\Lib\\site-packages\\tqdm\\auto.py:21: TqdmWarning: IProgress not found. Please update jupyter and ipywidgets. See https://ipywidgets.readthedocs.io/en/stable/user_install.html\n",
      "  from .autonotebook import tqdm as notebook_tqdm\n",
      "2025/10/13 22:28:11 INFO mlflow.tracking.fluent: Experiment with name '/Desarrollo_de_Soluciones/SVM_bge' does not exist. Creating a new experiment.\n"
     ]
    },
    {
     "name": "stdout",
     "output_type": "stream",
     "text": [
      "Using device: NVIDIA GeForce RTX 3090\n"
     ]
    }
   ],
   "source": [
    "import pandas as pd\n",
    "import numpy as np\n",
    "import math\n",
    "from itertools import product\n",
    "from sklearn.svm import SVC\n",
    "from sklearn.metrics import average_precision_score, roc_auc_score, f1_score, recall_score, accuracy_score\n",
    "from sklearn.preprocessing import StandardScaler\n",
    "from sklearn.pipeline import Pipeline\n",
    "\n",
    "import torch\n",
    "from transformers import AutoTokenizer, AutoModel\n",
    "\n",
    "from tqdm.auto import tqdm\n",
    "import mlflow, os\n",
    "\n",
    "\n",
    "os.environ[\"DATABRICKS_HOST\"] = \"https://dbc-e0c2984f-335b.cloud.databricks.com/\"\n",
    "os.environ[\"DATABRICKS_TOKEN\"] = \"\"\n",
    "mlflow.set_tracking_uri(\"databricks\")\n",
    "mlflow.set_experiment(\"/Desarrollo_de_Soluciones/SVM_bge\")\n",
    "\n",
    "MODEL_NAME = \"BAAI/bge-base-en-v1.5\"\n",
    "device = torch.device(\"cuda\" if torch.cuda.is_available() else \"cpu\")\n",
    "#print(torch.__version__)\n",
    "print(f\"Using device: {torch.cuda.get_device_name(0) if torch.cuda.is_available() else 'CPU'}\")"
   ]
  },
  {
   "cell_type": "code",
   "execution_count": 2,
   "id": "710acec1-17eb-4613-a1f9-7e070d602d34",
   "metadata": {},
   "outputs": [],
   "source": [
    "# cargar los datos\n",
    "\n",
    "data_training = pd.read_csv(\"../data/cleaned_train_dataset.csv\")\n",
    "data_test = pd.read_csv(\"../data/cleaned_test_dataset.csv\")\n",
    "data_validation = pd.read_csv(\"../data/cleaned_val_dataset.csv\")"
   ]
  },
  {
   "cell_type": "code",
   "execution_count": 3,
   "id": "d6e15cf9-4b28-47c4-9690-ead8463868af",
   "metadata": {},
   "outputs": [
    {
     "data": {
      "text/plain": [
       "BertModel(\n",
       "  (embeddings): BertEmbeddings(\n",
       "    (word_embeddings): Embedding(30522, 768, padding_idx=0)\n",
       "    (position_embeddings): Embedding(512, 768)\n",
       "    (token_type_embeddings): Embedding(2, 768)\n",
       "    (LayerNorm): LayerNorm((768,), eps=1e-12, elementwise_affine=True)\n",
       "    (dropout): Dropout(p=0.1, inplace=False)\n",
       "  )\n",
       "  (encoder): BertEncoder(\n",
       "    (layer): ModuleList(\n",
       "      (0-11): 12 x BertLayer(\n",
       "        (attention): BertAttention(\n",
       "          (self): BertSdpaSelfAttention(\n",
       "            (query): Linear(in_features=768, out_features=768, bias=True)\n",
       "            (key): Linear(in_features=768, out_features=768, bias=True)\n",
       "            (value): Linear(in_features=768, out_features=768, bias=True)\n",
       "            (dropout): Dropout(p=0.1, inplace=False)\n",
       "          )\n",
       "          (output): BertSelfOutput(\n",
       "            (dense): Linear(in_features=768, out_features=768, bias=True)\n",
       "            (LayerNorm): LayerNorm((768,), eps=1e-12, elementwise_affine=True)\n",
       "            (dropout): Dropout(p=0.1, inplace=False)\n",
       "          )\n",
       "        )\n",
       "        (intermediate): BertIntermediate(\n",
       "          (dense): Linear(in_features=768, out_features=3072, bias=True)\n",
       "          (intermediate_act_fn): GELUActivation()\n",
       "        )\n",
       "        (output): BertOutput(\n",
       "          (dense): Linear(in_features=3072, out_features=768, bias=True)\n",
       "          (LayerNorm): LayerNorm((768,), eps=1e-12, elementwise_affine=True)\n",
       "          (dropout): Dropout(p=0.1, inplace=False)\n",
       "        )\n",
       "      )\n",
       "    )\n",
       "  )\n",
       "  (pooler): BertPooler(\n",
       "    (dense): Linear(in_features=768, out_features=768, bias=True)\n",
       "    (activation): Tanh()\n",
       "  )\n",
       ")"
      ]
     },
     "execution_count": 3,
     "metadata": {},
     "output_type": "execute_result"
    }
   ],
   "source": [
    "# Vectorizador\n",
    "\n",
    "tokenizer = AutoTokenizer.from_pretrained(MODEL_NAME)\n",
    "model = AutoModel.from_pretrained(MODEL_NAME).to(device)\n",
    "model.eval()"
   ]
  },
  {
   "cell_type": "code",
   "execution_count": 4,
   "id": "0c12fe0b",
   "metadata": {},
   "outputs": [],
   "source": [
    "def mean_pooling(last_hidden_state, attention_mask):\n",
    "    mask = attention_mask.unsqueeze(-1).expand(last_hidden_state.size()).float()\n",
    "    summed = (last_hidden_state * mask).sum(dim=1)\n",
    "    counts = torch.clamp(mask.sum(dim=1), min=1e-9)\n",
    "    return summed / counts\n",
    "\n",
    "@torch.no_grad()\n",
    "def encode_texts(texts, batch_size=16, max_length=256):\n",
    "    embs = []\n",
    "    for i in tqdm(range(0, len(texts), batch_size), desc=\"Encoding\", leave=False):\n",
    "        batch = texts[i:i+batch_size]\n",
    "        enc = tokenizer(\n",
    "            list(map(str, batch)),\n",
    "            padding=True, truncation=True, max_length=max_length, return_tensors=\"pt\"\n",
    "        ).to(device)\n",
    "\n",
    "        outputs = model(**enc)\n",
    "        pooled = mean_pooling(outputs.last_hidden_state, enc[\"attention_mask\"])\n",
    "        embs.append(pooled.cpu())\n",
    "    return torch.cat(embs, dim=0).numpy()"
   ]
  },
  {
   "cell_type": "code",
   "execution_count": 5,
   "id": "736c341d-3373-47aa-b09d-c7949a0fa8cb",
   "metadata": {},
   "outputs": [
    {
     "name": "stderr",
     "output_type": "stream",
     "text": [
      "                                                         "
     ]
    },
    {
     "name": "stdout",
     "output_type": "stream",
     "text": [
      "Embeddings: train=(816, 768), val=(247, 768), test=(258, 768)\n"
     ]
    },
    {
     "name": "stderr",
     "output_type": "stream",
     "text": [
      "\r"
     ]
    }
   ],
   "source": [
    "# Crear vectores a partir de los datos\n",
    "\n",
    "X_train = encode_texts(data_training[\"text\"].astype(str).tolist(), batch_size=16, max_length=256)\n",
    "X_val   = encode_texts(data_validation[\"text\"].astype(str).tolist(), batch_size=16, max_length=256)\n",
    "X_test  = encode_texts(data_test[\"text\"].astype(str).tolist(), batch_size=16, max_length=256)\n",
    "\n",
    "y_train = data_training[\"label\"].astype(int).values\n",
    "y_test  = data_test[\"label\"].astype(int).values  \n",
    "y_val   = data_validation[\"label\"].astype(int).values\n",
    "\n",
    "print(f\"Embeddings: train={X_train.shape}, val={X_val.shape}, test={X_test.shape}\")"
   ]
  },
  {
   "cell_type": "code",
   "execution_count": 6,
   "id": "bac29f82-f22e-40fe-a735-d384e204a41c",
   "metadata": {},
   "outputs": [],
   "source": [
    "svm_grid = {\n",
    "    \"linear\": {\n",
    "        \"C\": [0.1, 1.0, 10.0],\n",
    "    },\n",
    "    \"rbf\": {\n",
    "        \"C\": [1.0, 10.0],\n",
    "        \"gamma\": [\"scale\", 1e-3],\n",
    "    },\n",
    "    \"poly\": {\n",
    "        \"C\": [1.0, 10.0],\n",
    "        \"degree\": [2, 3],\n",
    "        \"gamma\": [\"scale\"],\n",
    "        \"coef0\": [0.0, 1.0],\n",
    "    },\n",
    "}"
   ]
  },
  {
   "cell_type": "code",
   "execution_count": 7,
   "id": "e5603409-3db6-4f81-aba3-76b1f885f9ac",
   "metadata": {},
   "outputs": [],
   "source": [
    "def grid_items(grid):\n",
    "    keys = list(grid.keys())\n",
    "    for values in product(*[grid[k] for k in keys]):\n",
    "        yield dict(zip(keys, values))"
   ]
  },
  {
   "cell_type": "code",
   "execution_count": 8,
   "id": "22c259ae-6d1e-4f85-8910-5404eca65d69",
   "metadata": {},
   "outputs": [
    {
     "name": "stderr",
     "output_type": "stream",
     "text": [
      "bge_SVC_linear__C0.1:   0%|          | 0/15 [00:00<?, ?it/s]"
     ]
    },
    {
     "name": "stdout",
     "output_type": "stream",
     "text": [
      "🏃 View run bge_SVC_linear__C0.1 at: https://dbc-2d843358-2bd3.cloud.databricks.com/ml/experiments/1290665620565632/runs/848f73b5f9734fa5a48c41304fac61d5\n",
      "🧪 View experiment at: https://dbc-2d843358-2bd3.cloud.databricks.com/ml/experiments/1290665620565632\n"
     ]
    },
    {
     "name": "stderr",
     "output_type": "stream",
     "text": [
      "bge_SVC_linear__C10.0:  13%|█▎        | 2/15 [00:05<00:33,  2.59s/it]"
     ]
    },
    {
     "name": "stdout",
     "output_type": "stream",
     "text": [
      "🏃 View run bge_SVC_linear__C1.0 at: https://dbc-2d843358-2bd3.cloud.databricks.com/ml/experiments/1290665620565632/runs/70b50298423b4f77b8520f1164527f5f\n",
      "🧪 View experiment at: https://dbc-2d843358-2bd3.cloud.databricks.com/ml/experiments/1290665620565632\n",
      "🏃 View run bge_SVC_linear__C10.0 at: https://dbc-2d843358-2bd3.cloud.databricks.com/ml/experiments/1290665620565632/runs/f3a01aedacb54d15a328ebb84851eeeb\n",
      "🧪 View experiment at: https://dbc-2d843358-2bd3.cloud.databricks.com/ml/experiments/1290665620565632\n"
     ]
    },
    {
     "name": "stderr",
     "output_type": "stream",
     "text": [
      "bge_SVC_rbf__C1.0_gamma0.001:  27%|██▋       | 4/15 [00:10<00:28,  2.62s/it]"
     ]
    },
    {
     "name": "stdout",
     "output_type": "stream",
     "text": [
      "🏃 View run bge_SVC_rbf__C1.0_gammascale at: https://dbc-2d843358-2bd3.cloud.databricks.com/ml/experiments/1290665620565632/runs/02c255dab66544cb89a4ba370b67a938\n",
      "🧪 View experiment at: https://dbc-2d843358-2bd3.cloud.databricks.com/ml/experiments/1290665620565632\n"
     ]
    },
    {
     "name": "stderr",
     "output_type": "stream",
     "text": [
      "bge_SVC_rbf__C10.0_gammascale:  33%|███▎      | 5/15 [00:13<00:26,  2.66s/it]"
     ]
    },
    {
     "name": "stdout",
     "output_type": "stream",
     "text": [
      "🏃 View run bge_SVC_rbf__C1.0_gamma0.001 at: https://dbc-2d843358-2bd3.cloud.databricks.com/ml/experiments/1290665620565632/runs/756758d1be8449f284cbef609f0817e5\n",
      "🧪 View experiment at: https://dbc-2d843358-2bd3.cloud.databricks.com/ml/experiments/1290665620565632\n"
     ]
    },
    {
     "name": "stderr",
     "output_type": "stream",
     "text": [
      "bge_SVC_rbf__C10.0_gammascale:  40%|████      | 6/15 [00:16<00:24,  2.71s/it]"
     ]
    },
    {
     "name": "stdout",
     "output_type": "stream",
     "text": [
      "🏃 View run bge_SVC_rbf__C10.0_gammascale at: https://dbc-2d843358-2bd3.cloud.databricks.com/ml/experiments/1290665620565632/runs/adde5bbcea724a3b9f0cea86b2c52f10\n",
      "🧪 View experiment at: https://dbc-2d843358-2bd3.cloud.databricks.com/ml/experiments/1290665620565632\n"
     ]
    },
    {
     "name": "stderr",
     "output_type": "stream",
     "text": [
      "bge_SVC_poly__C1.0_coef00.0_degree2_gammascale:  47%|████▋     | 7/15 [00:18<00:21,  2.72s/it]"
     ]
    },
    {
     "name": "stdout",
     "output_type": "stream",
     "text": [
      "🏃 View run bge_SVC_rbf__C10.0_gamma0.001 at: https://dbc-2d843358-2bd3.cloud.databricks.com/ml/experiments/1290665620565632/runs/bbf53e2cca8542d19f373a87da1b5803\n",
      "🧪 View experiment at: https://dbc-2d843358-2bd3.cloud.databricks.com/ml/experiments/1290665620565632\n",
      "🏃 View run bge_SVC_poly__C1.0_coef00.0_degree2_gammascale at: https://dbc-2d843358-2bd3.cloud.databricks.com/ml/experiments/1290665620565632/runs/96e31867099741edbc85d64acecb6a87\n",
      "🧪 View experiment at: https://dbc-2d843358-2bd3.cloud.databricks.com/ml/experiments/1290665620565632\n"
     ]
    },
    {
     "name": "stderr",
     "output_type": "stream",
     "text": [
      "bge_SVC_poly__C1.0_coef01.0_degree2_gammascale:  60%|██████    | 9/15 [00:24<00:17,  2.88s/it]"
     ]
    },
    {
     "name": "stdout",
     "output_type": "stream",
     "text": [
      "🏃 View run bge_SVC_poly__C1.0_coef01.0_degree2_gammascale at: https://dbc-2d843358-2bd3.cloud.databricks.com/ml/experiments/1290665620565632/runs/7dd63b835dad467fbb162c624deea42e\n",
      "🧪 View experiment at: https://dbc-2d843358-2bd3.cloud.databricks.com/ml/experiments/1290665620565632\n"
     ]
    },
    {
     "name": "stderr",
     "output_type": "stream",
     "text": [
      "bge_SVC_poly__C1.0_coef01.0_degree3_gammascale:  67%|██████▋   | 10/15 [00:27<00:14,  2.93s/it]"
     ]
    },
    {
     "name": "stdout",
     "output_type": "stream",
     "text": [
      "🏃 View run bge_SVC_poly__C1.0_coef00.0_degree3_gammascale at: https://dbc-2d843358-2bd3.cloud.databricks.com/ml/experiments/1290665620565632/runs/9d82e757f778473cb153571aa8986246\n",
      "🧪 View experiment at: https://dbc-2d843358-2bd3.cloud.databricks.com/ml/experiments/1290665620565632\n"
     ]
    },
    {
     "name": "stderr",
     "output_type": "stream",
     "text": [
      "bge_SVC_poly__C10.0_coef00.0_degree2_gammascale:  73%|███████▎  | 11/15 [00:30<00:11,  2.95s/it]"
     ]
    },
    {
     "name": "stdout",
     "output_type": "stream",
     "text": [
      "🏃 View run bge_SVC_poly__C1.0_coef01.0_degree3_gammascale at: https://dbc-2d843358-2bd3.cloud.databricks.com/ml/experiments/1290665620565632/runs/424b4299d9d44b96b99e06d320ad8cca\n",
      "🧪 View experiment at: https://dbc-2d843358-2bd3.cloud.databricks.com/ml/experiments/1290665620565632\n"
     ]
    },
    {
     "name": "stderr",
     "output_type": "stream",
     "text": [
      "bge_SVC_poly__C10.0_coef01.0_degree2_gammascale:  80%|████████  | 12/15 [00:33<00:08,  2.97s/it]"
     ]
    },
    {
     "name": "stdout",
     "output_type": "stream",
     "text": [
      "🏃 View run bge_SVC_poly__C10.0_coef00.0_degree2_gammascale at: https://dbc-2d843358-2bd3.cloud.databricks.com/ml/experiments/1290665620565632/runs/e97667662ab3452980421d4f6fe4688d\n",
      "🧪 View experiment at: https://dbc-2d843358-2bd3.cloud.databricks.com/ml/experiments/1290665620565632\n"
     ]
    },
    {
     "name": "stderr",
     "output_type": "stream",
     "text": [
      "bge_SVC_poly__C10.0_coef00.0_degree3_gammascale:  87%|████████▋ | 13/15 [00:36<00:05,  2.99s/it]"
     ]
    },
    {
     "name": "stdout",
     "output_type": "stream",
     "text": [
      "🏃 View run bge_SVC_poly__C10.0_coef01.0_degree2_gammascale at: https://dbc-2d843358-2bd3.cloud.databricks.com/ml/experiments/1290665620565632/runs/62768e810733412ab0dc09321d8778cf\n",
      "🧪 View experiment at: https://dbc-2d843358-2bd3.cloud.databricks.com/ml/experiments/1290665620565632\n"
     ]
    },
    {
     "name": "stderr",
     "output_type": "stream",
     "text": [
      "bge_SVC_poly__C10.0_coef01.0_degree3_gammascale:  93%|█████████▎| 14/15 [00:39<00:03,  3.02s/it]"
     ]
    },
    {
     "name": "stdout",
     "output_type": "stream",
     "text": [
      "🏃 View run bge_SVC_poly__C10.0_coef00.0_degree3_gammascale at: https://dbc-2d843358-2bd3.cloud.databricks.com/ml/experiments/1290665620565632/runs/bd2f19e279cf4369a11c1335079e6d8b\n",
      "🧪 View experiment at: https://dbc-2d843358-2bd3.cloud.databricks.com/ml/experiments/1290665620565632\n"
     ]
    },
    {
     "name": "stderr",
     "output_type": "stream",
     "text": [
      "bge_SVC_poly__C10.0_coef01.0_degree3_gammascale: 100%|██████████| 15/15 [00:43<00:00,  2.87s/it]"
     ]
    },
    {
     "name": "stdout",
     "output_type": "stream",
     "text": [
      "🏃 View run bge_SVC_poly__C10.0_coef01.0_degree3_gammascale at: https://dbc-2d843358-2bd3.cloud.databricks.com/ml/experiments/1290665620565632/runs/57ee2ed163a4418eb480d1b7e27f5306\n",
      "🧪 View experiment at: https://dbc-2d843358-2bd3.cloud.databricks.com/ml/experiments/1290665620565632\n"
     ]
    },
    {
     "name": "stderr",
     "output_type": "stream",
     "text": [
      "\n"
     ]
    }
   ],
   "source": [
    "from sklearn.svm import SVC\n",
    "\n",
    "def grid_items_svm(svm_grid):\n",
    "    for kernel, subgrid in svm_grid.items():\n",
    "        keys = list(subgrid.keys())\n",
    "        for values in product(*[subgrid[k] for k in keys]):\n",
    "            params = dict(zip(keys, values))\n",
    "            yield kernel, params\n",
    "\n",
    "def count_total_runs(svm_grid):\n",
    "    total = 0\n",
    "    for kernel, subgrid in svm_grid.items():\n",
    "        n = 1\n",
    "        for k in subgrid:\n",
    "            n *= len(subgrid[k])\n",
    "        total += n\n",
    "    return total\n",
    "\n",
    "total = count_total_runs(svm_grid)\n",
    "pbar = tqdm(total=total, desc=\"Runs\", leave=True)\n",
    "\n",
    "for kernel, sv_params in grid_items_svm(svm_grid):\n",
    "    run_suffix = \"_\".join([f\"{k}{sv_params[k]}\" for k in sorted(sv_params.keys())])\n",
    "    run_name = f\"bge_SVC_{kernel}__{run_suffix}\"\n",
    "    pbar.set_description(run_name)\n",
    "\n",
    "    with mlflow.start_run(run_name=run_name):\n",
    "        mlflow.set_tag(\"encoder\", MODEL_NAME)\n",
    "        mlflow.set_tag(\"featurizer\", \"contextual_mean_pool\")\n",
    "        mlflow.set_tag(\"clf\", \"SVC\")\n",
    "        mlflow.log_param(\"kernel\", kernel)\n",
    "        mlflow.log_param(\"embed_dim\", int(X_train.shape[1]))\n",
    "        mlflow.log_param(\"n_train\", int(X_train.shape[0]))\n",
    "        mlflow.log_param(\"n_val\", int(X_val.shape[0]))\n",
    "        for k, v in sv_params.items():\n",
    "            mlflow.log_param(f\"SVM_{k}\", v)\n",
    "\n",
    "        clf = SVC(\n",
    "            kernel=kernel,\n",
    "            class_weight=\"balanced\",\n",
    "            probability=True,          # necesario para predict_proba\n",
    "            max_iter=5000,\n",
    "            **sv_params\n",
    "        )\n",
    "\n",
    "        pipe = Pipeline([\n",
    "            (\"scaler\", StandardScaler(with_mean=True, with_std=True)),\n",
    "            (\"clf\", clf),\n",
    "        ])\n",
    "\n",
    "        pipe.fit(X_train, y_train)\n",
    "\n",
    "        val_scores = pipe.predict_proba(X_val)[:, 1]\n",
    "        val_pred = (val_scores >= 0.5).astype(int)\n",
    "        metrics = {\n",
    "            \"pr_auc\":   float(average_precision_score(y_val, val_scores)),\n",
    "            \"roc_auc\":  float(roc_auc_score(y_val, val_scores)),\n",
    "            \"f1\":       float(f1_score(y_val, val_pred)),\n",
    "            \"recall\":   float(recall_score(y_val, val_pred)),\n",
    "            \"accuracy\": float(accuracy_score(y_val, val_pred)),\n",
    "        }\n",
    "        mlflow.log_metrics(metrics)\n",
    "\n",
    "    pbar.update(1)\n",
    "\n",
    "pbar.close()\n"
   ]
  },
  {
   "cell_type": "code",
   "execution_count": 9,
   "id": "cddca4ff-ad98-4965-8809-05f47180624a",
   "metadata": {},
   "outputs": [
    {
     "name": "stdout",
     "output_type": "stream",
     "text": [
      "Experimento Concluido con Exito!\n"
     ]
    }
   ],
   "source": [
    "print(\"Experimento Concluido con Exito!\")"
   ]
  },
  {
   "cell_type": "code",
   "execution_count": 10,
   "id": "8fc4999f-70bc-4d3e-85eb-580253bb5da5",
   "metadata": {},
   "outputs": [],
   "source": [
    "from IPython.display import Markdown\n",
    "\n",
    "def export_code_cells():\n",
    "    from IPython import get_ipython\n",
    "    cells = get_ipython().user_ns['In']\n",
    "    code = '\\n\\n'.join([c for c in cells if c.strip()])\n",
    "    return Markdown(f'```python\\n{code}\\n```')\n",
    "\n",
    "#export_code_cells()"
   ]
  }
 ],
 "metadata": {
  "kernelspec": {
   "display_name": ".venv_clasificador",
   "language": "python",
   "name": "python3"
  },
  "language_info": {
   "codemirror_mode": {
    "name": "ipython",
    "version": 3
   },
   "file_extension": ".py",
   "mimetype": "text/x-python",
   "name": "python",
   "nbconvert_exporter": "python",
   "pygments_lexer": "ipython3",
   "version": "3.11.9"
  }
 },
 "nbformat": 4,
 "nbformat_minor": 5
}
