{
 "cells": [
  {
   "cell_type": "code",
   "execution_count": null,
   "id": "369e80f5-0bbe-41c3-aa4c-6d1a34ff212b",
   "metadata": {},
   "outputs": [
    {
     "name": "stderr",
     "output_type": "stream",
     "text": [
      "d:\\OneDrive\\Documents\\MAIA\\Semestre 4\\Despliegue de Soluciones\\__REPOS__\\Clasificacion-de-textos-medicos\\.venv_clasificador\\Lib\\site-packages\\tqdm\\auto.py:21: TqdmWarning: IProgress not found. Please update jupyter and ipywidgets. See https://ipywidgets.readthedocs.io/en/stable/user_install.html\n",
      "  from .autonotebook import tqdm as notebook_tqdm\n",
      "2025/10/13 00:46:53 INFO mlflow.tracking.fluent: Experiment with name '/Desarrollo_de_Soluciones/XGBoost_BGE' does not exist. Creating a new experiment.\n"
     ]
    },
    {
     "name": "stdout",
     "output_type": "stream",
     "text": [
      "Using device: NVIDIA GeForce RTX 3090\n"
     ]
    }
   ],
   "source": [
    "import pandas as pd\n",
    "import matplotlib.pyplot as plt\n",
    "import numpy as np\n",
    "from itertools import product\n",
    "from xgboost import XGBClassifier\n",
    "from sklearn.metrics import average_precision_score, roc_auc_score, f1_score, recall_score, accuracy_score\n",
    "from sklearn.preprocessing import StandardScaler\n",
    "from sklearn.pipeline import Pipeline\n",
    "\n",
    "import torch\n",
    "from transformers import AutoTokenizer, AutoModel\n",
    "\n",
    "from tqdm.auto import tqdm\n",
    "import mlflow, os\n",
    "import math\n",
    "\n",
    "os.environ[\"DATABRICKS_HOST\"] = \"https://dbc-e0c2984f-335b.cloud.databricks.com/\"\n",
    "os.environ[\"DATABRICKS_TOKEN\"] = \"\"\n",
    "mlflow.set_tracking_uri(\"databricks\")\n",
    "mlflow.set_experiment(\"/Desarrollo_de_Soluciones/XGBoost_BGE\")\n",
    "\n",
    "MODEL_NAME = \"BAAI/bge-base-en-v1.5\"\n",
    "device = torch.device(\"cuda\" if torch.cuda.is_available() else \"cpu\")\n",
    "#print(torch.__version__)\n",
    "print(f\"Using device: {torch.cuda.get_device_name(0) if torch.cuda.is_available() else 'CPU'}\")"
   ]
  },
  {
   "cell_type": "code",
   "execution_count": 2,
   "id": "710acec1-17eb-4613-a1f9-7e070d602d34",
   "metadata": {},
   "outputs": [],
   "source": [
    "# cargar los datos\n",
    "\n",
    "data_training = pd.read_csv(\"../data/cleaned_train_dataset.csv\")\n",
    "data_test = pd.read_csv(\"../data/cleaned_test_dataset.csv\")\n",
    "data_validation = pd.read_csv(\"../data/cleaned_val_dataset.csv\")"
   ]
  },
  {
   "cell_type": "code",
   "execution_count": 3,
   "id": "970c8e17-6264-4fcc-a8d7-c350ee07dfbd",
   "metadata": {},
   "outputs": [
    {
     "data": {
      "text/plain": [
       "BertModel(\n",
       "  (embeddings): BertEmbeddings(\n",
       "    (word_embeddings): Embedding(30522, 768, padding_idx=0)\n",
       "    (position_embeddings): Embedding(512, 768)\n",
       "    (token_type_embeddings): Embedding(2, 768)\n",
       "    (LayerNorm): LayerNorm((768,), eps=1e-12, elementwise_affine=True)\n",
       "    (dropout): Dropout(p=0.1, inplace=False)\n",
       "  )\n",
       "  (encoder): BertEncoder(\n",
       "    (layer): ModuleList(\n",
       "      (0-11): 12 x BertLayer(\n",
       "        (attention): BertAttention(\n",
       "          (self): BertSdpaSelfAttention(\n",
       "            (query): Linear(in_features=768, out_features=768, bias=True)\n",
       "            (key): Linear(in_features=768, out_features=768, bias=True)\n",
       "            (value): Linear(in_features=768, out_features=768, bias=True)\n",
       "            (dropout): Dropout(p=0.1, inplace=False)\n",
       "          )\n",
       "          (output): BertSelfOutput(\n",
       "            (dense): Linear(in_features=768, out_features=768, bias=True)\n",
       "            (LayerNorm): LayerNorm((768,), eps=1e-12, elementwise_affine=True)\n",
       "            (dropout): Dropout(p=0.1, inplace=False)\n",
       "          )\n",
       "        )\n",
       "        (intermediate): BertIntermediate(\n",
       "          (dense): Linear(in_features=768, out_features=3072, bias=True)\n",
       "          (intermediate_act_fn): GELUActivation()\n",
       "        )\n",
       "        (output): BertOutput(\n",
       "          (dense): Linear(in_features=3072, out_features=768, bias=True)\n",
       "          (LayerNorm): LayerNorm((768,), eps=1e-12, elementwise_affine=True)\n",
       "          (dropout): Dropout(p=0.1, inplace=False)\n",
       "        )\n",
       "      )\n",
       "    )\n",
       "  )\n",
       "  (pooler): BertPooler(\n",
       "    (dense): Linear(in_features=768, out_features=768, bias=True)\n",
       "    (activation): Tanh()\n",
       "  )\n",
       ")"
      ]
     },
     "execution_count": 3,
     "metadata": {},
     "output_type": "execute_result"
    }
   ],
   "source": [
    "# Vectorizador\n",
    "\n",
    "tokenizer = AutoTokenizer.from_pretrained(MODEL_NAME)\n",
    "model = AutoModel.from_pretrained(MODEL_NAME).to(device)\n",
    "model.eval()"
   ]
  },
  {
   "cell_type": "code",
   "execution_count": 4,
   "id": "261f4894-9fee-4c95-b2a1-67b6b5ae8a47",
   "metadata": {},
   "outputs": [],
   "source": [
    "def mean_pooling(last_hidden_state, attention_mask):\n",
    "    mask = attention_mask.unsqueeze(-1).expand(last_hidden_state.size()).float()\n",
    "    summed = (last_hidden_state * mask).sum(dim=1)\n",
    "    counts = torch.clamp(mask.sum(dim=1), min=1e-9)\n",
    "    return summed / counts\n",
    "\n",
    "@torch.no_grad()\n",
    "def encode_texts(texts, batch_size=16, max_length=256):\n",
    "    embs = []\n",
    "    for i in tqdm(range(0, len(texts), batch_size), desc=\"Encoding\", leave=False):\n",
    "        batch = texts[i:i+batch_size]\n",
    "        enc = tokenizer(\n",
    "            list(map(str, batch)),\n",
    "            padding=True, truncation=True, max_length=max_length, return_tensors=\"pt\"\n",
    "        ).to(device)\n",
    "\n",
    "        outputs = model(**enc)\n",
    "        pooled = mean_pooling(outputs.last_hidden_state, enc[\"attention_mask\"])\n",
    "        embs.append(pooled.cpu())\n",
    "    return torch.cat(embs, dim=0).numpy()"
   ]
  },
  {
   "cell_type": "code",
   "execution_count": 5,
   "id": "01eb825d-d644-4db0-a348-1d8c53d4675c",
   "metadata": {},
   "outputs": [
    {
     "name": "stderr",
     "output_type": "stream",
     "text": [
      "                                                         "
     ]
    },
    {
     "name": "stdout",
     "output_type": "stream",
     "text": [
      "Embeddings: train=(816, 768), val=(247, 768), test=(258, 768)\n"
     ]
    },
    {
     "name": "stderr",
     "output_type": "stream",
     "text": [
      "\r"
     ]
    }
   ],
   "source": [
    "# Crear vectores a partir de los datos\n",
    "\n",
    "X_train = encode_texts(data_training[\"text\"].astype(str).tolist(), batch_size=16, max_length=256)\n",
    "X_val   = encode_texts(data_validation[\"text\"].astype(str).tolist(), batch_size=16, max_length=256)\n",
    "X_test  = encode_texts(data_test[\"text\"].astype(str).tolist(), batch_size=16, max_length=256)\n",
    "\n",
    "y_train = data_training[\"label\"].astype(int).values\n",
    "y_test  = data_test[\"label\"].astype(int).values  \n",
    "y_val   = data_validation[\"label\"].astype(int).values\n",
    "\n",
    "print(f\"Embeddings: train={X_train.shape}, val={X_val.shape}, test={X_test.shape}\")"
   ]
  },
  {
   "cell_type": "code",
   "execution_count": 6,
   "id": "bac29f82-f22e-40fe-a735-d384e204a41c",
   "metadata": {},
   "outputs": [],
   "source": [
    "xgb_grid = {\n",
    "    \"learning_rate\": [0.1, 0.05],\n",
    "    \"n_estimators\": [400, 600, 800],\n",
    "    \"max_depth\": [4, 6, 8],\n",
    "}\n",
    "\n",
    "pos = y_train.sum()\n",
    "neg = len(y_train) - pos\n",
    "spw = float(neg / max(pos, 1))"
   ]
  },
  {
   "cell_type": "code",
   "execution_count": 7,
   "id": "e5603409-3db6-4f81-aba3-76b1f885f9ac",
   "metadata": {},
   "outputs": [],
   "source": [
    "def grid_items(grid):\n",
    "    keys = list(grid.keys())\n",
    "    for values in product(*[grid[k] for k in keys]):\n",
    "        yield dict(zip(keys, values))"
   ]
  },
  {
   "cell_type": "code",
   "execution_count": 8,
   "id": "22c259ae-6d1e-4f85-8910-5404eca65d69",
   "metadata": {},
   "outputs": [
    {
     "name": "stderr",
     "output_type": "stream",
     "text": [
      "bge_xgb_md6_ne400_lr0.1:   6%|▌         | 1/18 [00:04<01:16,  4.53s/it]"
     ]
    },
    {
     "name": "stdout",
     "output_type": "stream",
     "text": [
      "🏃 View run bge_xgb_md4_ne400_lr0.1 at: https://dbc-e0c2984f-335b.cloud.databricks.com/ml/experiments/975753697605339/runs/7c88ee44710b4cb1a1c9e85c5e677c27\n",
      "🧪 View experiment at: https://dbc-e0c2984f-335b.cloud.databricks.com/ml/experiments/975753697605339\n"
     ]
    },
    {
     "name": "stderr",
     "output_type": "stream",
     "text": [
      "bge_xgb_md8_ne400_lr0.1:  11%|█         | 2/18 [00:09<01:16,  4.81s/it]"
     ]
    },
    {
     "name": "stdout",
     "output_type": "stream",
     "text": [
      "🏃 View run bge_xgb_md6_ne400_lr0.1 at: https://dbc-e0c2984f-335b.cloud.databricks.com/ml/experiments/975753697605339/runs/2d77c71cb04247018cc39353f7ba2512\n",
      "🧪 View experiment at: https://dbc-e0c2984f-335b.cloud.databricks.com/ml/experiments/975753697605339\n"
     ]
    },
    {
     "name": "stderr",
     "output_type": "stream",
     "text": [
      "bge_xgb_md4_ne600_lr0.1:  17%|█▋        | 3/18 [00:14<01:13,  4.91s/it]"
     ]
    },
    {
     "name": "stdout",
     "output_type": "stream",
     "text": [
      "🏃 View run bge_xgb_md8_ne400_lr0.1 at: https://dbc-e0c2984f-335b.cloud.databricks.com/ml/experiments/975753697605339/runs/f394cf56fae447a3b73bbaee080464b6\n",
      "🧪 View experiment at: https://dbc-e0c2984f-335b.cloud.databricks.com/ml/experiments/975753697605339\n"
     ]
    },
    {
     "name": "stderr",
     "output_type": "stream",
     "text": [
      "bge_xgb_md6_ne600_lr0.1:  22%|██▏       | 4/18 [00:19<01:10,  5.04s/it]"
     ]
    },
    {
     "name": "stdout",
     "output_type": "stream",
     "text": [
      "🏃 View run bge_xgb_md4_ne600_lr0.1 at: https://dbc-e0c2984f-335b.cloud.databricks.com/ml/experiments/975753697605339/runs/db9b3edbfddd494594f39b6c08ff4ca6\n",
      "🧪 View experiment at: https://dbc-e0c2984f-335b.cloud.databricks.com/ml/experiments/975753697605339\n"
     ]
    },
    {
     "name": "stderr",
     "output_type": "stream",
     "text": [
      "bge_xgb_md8_ne600_lr0.1:  28%|██▊       | 5/18 [00:25<01:09,  5.32s/it]"
     ]
    },
    {
     "name": "stdout",
     "output_type": "stream",
     "text": [
      "🏃 View run bge_xgb_md6_ne600_lr0.1 at: https://dbc-e0c2984f-335b.cloud.databricks.com/ml/experiments/975753697605339/runs/16ab3e6adb4e4846850391fb08a3db0c\n",
      "🧪 View experiment at: https://dbc-e0c2984f-335b.cloud.databricks.com/ml/experiments/975753697605339\n"
     ]
    },
    {
     "name": "stderr",
     "output_type": "stream",
     "text": [
      "bge_xgb_md4_ne800_lr0.1:  33%|███▎      | 6/18 [00:31<01:06,  5.54s/it]"
     ]
    },
    {
     "name": "stdout",
     "output_type": "stream",
     "text": [
      "🏃 View run bge_xgb_md8_ne600_lr0.1 at: https://dbc-e0c2984f-335b.cloud.databricks.com/ml/experiments/975753697605339/runs/d463ad08e089468185db014ea87c5954\n",
      "🧪 View experiment at: https://dbc-e0c2984f-335b.cloud.databricks.com/ml/experiments/975753697605339\n"
     ]
    },
    {
     "name": "stderr",
     "output_type": "stream",
     "text": [
      "bge_xgb_md6_ne800_lr0.1:  39%|███▉      | 7/18 [00:37<01:00,  5.50s/it]"
     ]
    },
    {
     "name": "stdout",
     "output_type": "stream",
     "text": [
      "🏃 View run bge_xgb_md4_ne800_lr0.1 at: https://dbc-e0c2984f-335b.cloud.databricks.com/ml/experiments/975753697605339/runs/8d17bc788e6b41c68f71874e4dc5996a\n",
      "🧪 View experiment at: https://dbc-e0c2984f-335b.cloud.databricks.com/ml/experiments/975753697605339\n"
     ]
    },
    {
     "name": "stderr",
     "output_type": "stream",
     "text": [
      "bge_xgb_md8_ne800_lr0.1:  44%|████▍     | 8/18 [00:43<00:57,  5.73s/it]"
     ]
    },
    {
     "name": "stdout",
     "output_type": "stream",
     "text": [
      "🏃 View run bge_xgb_md6_ne800_lr0.1 at: https://dbc-e0c2984f-335b.cloud.databricks.com/ml/experiments/975753697605339/runs/ceefb394d4934f3689b42aa94b261fd5\n",
      "🧪 View experiment at: https://dbc-e0c2984f-335b.cloud.databricks.com/ml/experiments/975753697605339\n"
     ]
    },
    {
     "name": "stderr",
     "output_type": "stream",
     "text": [
      "bge_xgb_md4_ne400_lr0.05:  50%|█████     | 9/18 [00:49<00:53,  5.91s/it]"
     ]
    },
    {
     "name": "stdout",
     "output_type": "stream",
     "text": [
      "🏃 View run bge_xgb_md8_ne800_lr0.1 at: https://dbc-e0c2984f-335b.cloud.databricks.com/ml/experiments/975753697605339/runs/a6d571b3df7b4f7784707816989de236\n",
      "🧪 View experiment at: https://dbc-e0c2984f-335b.cloud.databricks.com/ml/experiments/975753697605339\n"
     ]
    },
    {
     "name": "stderr",
     "output_type": "stream",
     "text": [
      "bge_xgb_md6_ne400_lr0.05:  56%|█████▌    | 10/18 [00:53<00:43,  5.43s/it]"
     ]
    },
    {
     "name": "stdout",
     "output_type": "stream",
     "text": [
      "🏃 View run bge_xgb_md4_ne400_lr0.05 at: https://dbc-e0c2984f-335b.cloud.databricks.com/ml/experiments/975753697605339/runs/8dbc5bb9858d4fc69ff49f5e1ab6f5b8\n",
      "🧪 View experiment at: https://dbc-e0c2984f-335b.cloud.databricks.com/ml/experiments/975753697605339\n"
     ]
    },
    {
     "name": "stderr",
     "output_type": "stream",
     "text": [
      "bge_xgb_md8_ne400_lr0.05:  61%|██████    | 11/18 [00:59<00:39,  5.63s/it]"
     ]
    },
    {
     "name": "stdout",
     "output_type": "stream",
     "text": [
      "🏃 View run bge_xgb_md6_ne400_lr0.05 at: https://dbc-e0c2984f-335b.cloud.databricks.com/ml/experiments/975753697605339/runs/6296369850754d43873c14f311525e8c\n",
      "🧪 View experiment at: https://dbc-e0c2984f-335b.cloud.databricks.com/ml/experiments/975753697605339\n"
     ]
    },
    {
     "name": "stderr",
     "output_type": "stream",
     "text": [
      "bge_xgb_md4_ne600_lr0.05:  67%|██████▋   | 12/18 [01:06<00:35,  5.96s/it]"
     ]
    },
    {
     "name": "stdout",
     "output_type": "stream",
     "text": [
      "🏃 View run bge_xgb_md8_ne400_lr0.05 at: https://dbc-e0c2984f-335b.cloud.databricks.com/ml/experiments/975753697605339/runs/05e3633e83784613b87c9356ab881d5c\n",
      "🧪 View experiment at: https://dbc-e0c2984f-335b.cloud.databricks.com/ml/experiments/975753697605339\n"
     ]
    },
    {
     "name": "stderr",
     "output_type": "stream",
     "text": [
      "bge_xgb_md6_ne600_lr0.05:  72%|███████▏  | 13/18 [01:12<00:29,  5.84s/it]"
     ]
    },
    {
     "name": "stdout",
     "output_type": "stream",
     "text": [
      "🏃 View run bge_xgb_md4_ne600_lr0.05 at: https://dbc-e0c2984f-335b.cloud.databricks.com/ml/experiments/975753697605339/runs/73bf38a955c346838e30c23ff00baa18\n",
      "🧪 View experiment at: https://dbc-e0c2984f-335b.cloud.databricks.com/ml/experiments/975753697605339\n"
     ]
    },
    {
     "name": "stderr",
     "output_type": "stream",
     "text": [
      "bge_xgb_md8_ne600_lr0.05:  78%|███████▊  | 14/18 [01:19<00:24,  6.18s/it]"
     ]
    },
    {
     "name": "stdout",
     "output_type": "stream",
     "text": [
      "🏃 View run bge_xgb_md6_ne600_lr0.05 at: https://dbc-e0c2984f-335b.cloud.databricks.com/ml/experiments/975753697605339/runs/68c1e4c9488d4e41ae8cc277da07cee0\n",
      "🧪 View experiment at: https://dbc-e0c2984f-335b.cloud.databricks.com/ml/experiments/975753697605339\n"
     ]
    },
    {
     "name": "stderr",
     "output_type": "stream",
     "text": [
      "bge_xgb_md4_ne800_lr0.05:  83%|████████▎ | 15/18 [01:26<00:19,  6.54s/it]"
     ]
    },
    {
     "name": "stdout",
     "output_type": "stream",
     "text": [
      "🏃 View run bge_xgb_md8_ne600_lr0.05 at: https://dbc-e0c2984f-335b.cloud.databricks.com/ml/experiments/975753697605339/runs/f0d1553d5a044fc2a373945f1812361d\n",
      "🧪 View experiment at: https://dbc-e0c2984f-335b.cloud.databricks.com/ml/experiments/975753697605339\n"
     ]
    },
    {
     "name": "stderr",
     "output_type": "stream",
     "text": [
      "bge_xgb_md6_ne800_lr0.05:  89%|████████▉ | 16/18 [01:32<00:12,  6.44s/it]"
     ]
    },
    {
     "name": "stdout",
     "output_type": "stream",
     "text": [
      "🏃 View run bge_xgb_md4_ne800_lr0.05 at: https://dbc-e0c2984f-335b.cloud.databricks.com/ml/experiments/975753697605339/runs/3f46a4aa735b448681437ffc52fbef5b\n",
      "🧪 View experiment at: https://dbc-e0c2984f-335b.cloud.databricks.com/ml/experiments/975753697605339\n"
     ]
    },
    {
     "name": "stderr",
     "output_type": "stream",
     "text": [
      "bge_xgb_md8_ne800_lr0.05:  94%|█████████▍| 17/18 [01:40<00:06,  6.75s/it]"
     ]
    },
    {
     "name": "stdout",
     "output_type": "stream",
     "text": [
      "🏃 View run bge_xgb_md6_ne800_lr0.05 at: https://dbc-e0c2984f-335b.cloud.databricks.com/ml/experiments/975753697605339/runs/c69d3e1f7d2144958a5fea1d01f05a63\n",
      "🧪 View experiment at: https://dbc-e0c2984f-335b.cloud.databricks.com/ml/experiments/975753697605339\n"
     ]
    },
    {
     "name": "stderr",
     "output_type": "stream",
     "text": [
      "bge_xgb_md8_ne800_lr0.05: 100%|██████████| 18/18 [01:48<00:00,  6.03s/it]"
     ]
    },
    {
     "name": "stdout",
     "output_type": "stream",
     "text": [
      "🏃 View run bge_xgb_md8_ne800_lr0.05 at: https://dbc-e0c2984f-335b.cloud.databricks.com/ml/experiments/975753697605339/runs/f61a6f1512cd4effb6defa72355d28c2\n",
      "🧪 View experiment at: https://dbc-e0c2984f-335b.cloud.databricks.com/ml/experiments/975753697605339\n"
     ]
    },
    {
     "name": "stderr",
     "output_type": "stream",
     "text": [
      "\n"
     ]
    }
   ],
   "source": [
    "total = math.prod(len(v) for v in xgb_grid.values())\n",
    "pbar = tqdm(total=total, desc=\"Runs\", leave=True)\n",
    "\n",
    "for xgb_params in grid_items(xgb_grid):\n",
    "    run_name = f\"bge_xgb_md{xgb_params['max_depth']}_ne{xgb_params['n_estimators']}_lr{xgb_params['learning_rate']}\"\n",
    "    pbar.set_description(run_name)\n",
    "\n",
    "    with mlflow.start_run(run_name=run_name):\n",
    "        mlflow.set_tag(\"encoder\", MODEL_NAME)\n",
    "        mlflow.set_tag(\"featurizer\", \"bge_embedding\")\n",
    "        mlflow.set_tag(\"clf\", \"XGBClassifier\")\n",
    "\n",
    "        mlflow.log_param(\"embed_dim\", int(X_train.shape[1]))\n",
    "        mlflow.log_param(\"n_train\", int(X_train.shape[0]))\n",
    "        mlflow.log_param(\"n_val\", int(X_val.shape[0]))\n",
    "        for k, v in xgb_params.items(): mlflow.log_param(f\"xgb_{k}\", v)\n",
    "        mlflow.log_param(\"xgb_scale_pos_weight\", spw)\n",
    "\n",
    "        model = XGBClassifier(\n",
    "            objective=\"binary:logistic\",\n",
    "            eval_metric=[\"aucpr\", \"auc\"],\n",
    "            tree_method=\"hist\",          # usa \"gpu_hist\" si tienes GPU y xgboost con CUDA\n",
    "            n_jobs=-1,\n",
    "            scale_pos_weight=spw,\n",
    "            random_state=42,\n",
    "            **xgb_params\n",
    "        )\n",
    "\n",
    "        # Entrenamiento; puedes añadir early stopping si quieres\n",
    "        model.fit(\n",
    "            X_train, y_train,\n",
    "            eval_set=[(X_train, y_train), (X_val, y_val)],\n",
    "            verbose=False,\n",
    "            # early_stopping_rounds=50,  # <- opcional\n",
    "        )\n",
    "\n",
    "        val_scores = model.predict_proba(X_val)[:, 1]\n",
    "        val_pred = (val_scores >= 0.5).astype(int)\n",
    "\n",
    "        metrics = {\n",
    "            \"pr_auc\":   float(average_precision_score(y_val, val_scores)),\n",
    "            \"roc_auc\":  float(roc_auc_score(y_val, val_scores)),\n",
    "            \"f1\":       float(f1_score(y_val, val_pred)),\n",
    "            \"recall\":   float(recall_score(y_val, val_pred)),\n",
    "            \"accuracy\": float(accuracy_score(y_val, val_pred)),\n",
    "        }\n",
    "        mlflow.log_metrics(metrics)\n",
    "\n",
    "    pbar.update(1)\n",
    "\n",
    "pbar.close()"
   ]
  },
  {
   "cell_type": "code",
   "execution_count": 9,
   "id": "cddca4ff-ad98-4965-8809-05f47180624a",
   "metadata": {},
   "outputs": [
    {
     "name": "stdout",
     "output_type": "stream",
     "text": [
      "Experimento Concluido con Exito!\n"
     ]
    }
   ],
   "source": [
    "print(\"Experimento Concluido con Exito!\")"
   ]
  }
 ],
 "metadata": {
  "kernelspec": {
   "display_name": ".venv_clasificador",
   "language": "python",
   "name": "python3"
  },
  "language_info": {
   "codemirror_mode": {
    "name": "ipython",
    "version": 3
   },
   "file_extension": ".py",
   "mimetype": "text/x-python",
   "name": "python",
   "nbconvert_exporter": "python",
   "pygments_lexer": "ipython3",
   "version": "3.11.9"
  }
 },
 "nbformat": 4,
 "nbformat_minor": 5
}
