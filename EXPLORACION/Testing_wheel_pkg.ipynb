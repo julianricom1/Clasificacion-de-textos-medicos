{
 "cells": [
  {
   "cell_type": "code",
   "execution_count": 2,
   "id": "999b03da-3bf0-407a-99f6-8ff5f90635a5",
   "metadata": {},
   "outputs": [
    {
     "name": "stdout",
     "output_type": "stream",
     "text": [
      "Processing d:\\onedrive\\documents\\maia\\semestre 4\\desarrollo de soluciones\\microproyecto\\clasificacion-de-textos-medicos\\exploracion\\wheel_svm\\wheel_svm\\dist\\textclf_svm-0.1.0-py3-none-any.whl\n",
      "Requirement already satisfied: scikit-learn in c:\\users\\julian rico\\anaconda3\\lib\\site-packages (from textclf-svm==0.1.0) (1.6.1)\n",
      "Requirement already satisfied: joblib in c:\\users\\julian rico\\anaconda3\\lib\\site-packages (from textclf-svm==0.1.0) (1.4.2)\n",
      "Requirement already satisfied: numpy in c:\\users\\julian rico\\anaconda3\\lib\\site-packages (from textclf-svm==0.1.0) (2.1.3)\n",
      "Requirement already satisfied: scipy in c:\\users\\julian rico\\anaconda3\\lib\\site-packages (from textclf-svm==0.1.0) (1.15.3)\n",
      "Requirement already satisfied: threadpoolctl>=3.1.0 in c:\\users\\julian rico\\anaconda3\\lib\\site-packages (from scikit-learn->textclf-svm==0.1.0) (3.5.0)\n",
      "Installing collected packages: textclf-svm\n",
      "Successfully installed textclf-svm-0.1.0\n",
      "Note: you may need to restart the kernel to use updated packages.\n"
     ]
    }
   ],
   "source": [
    "%pip install \".\\wheel_svm\\wheel_svm\\dist\\textclf_svm-0.1.0-py3-none-any.whl\"\n",
    "import textclf_svm as clf\n"
   ]
  },
  {
   "cell_type": "code",
   "execution_count": 3,
   "id": "4439a90d-b0c6-45a0-a538-63357965eb64",
   "metadata": {},
   "outputs": [
    {
     "data": {
      "text/plain": [
       "{'pr_auc': 0.9953511568055804,\n",
       " 'roc_auc': 0.9960688325174306,\n",
       " 'f1': 0.9571428571428572,\n",
       " 'recall': 0.9392523364485982,\n",
       " 'accuracy': 0.9613733905579399,\n",
       " 'threshold': 0.5,\n",
       " 'n_val': 466}"
      ]
     },
     "execution_count": 3,
     "metadata": {},
     "output_type": "execute_result"
    }
   ],
   "source": [
    "clf.metrics()"
   ]
  },
  {
   "cell_type": "code",
   "execution_count": 4,
   "id": "11c45b88-2896-4d91-884f-edf199555fed",
   "metadata": {},
   "outputs": [
    {
     "data": {
      "text/plain": [
       "{'labels': [1, 0, 0],\n",
       " 'scores': [0.9999998013132916, 0.119324744900078, 0.3397297175410048]}"
      ]
     },
     "execution_count": 4,
     "metadata": {},
     "output_type": "execute_result"
    }
   ],
   "source": [
    "t1 = \"In contrast to earlier views on BPD, this condition can remit, and symptoms can be reduced and managed. Nevertheless, specific symptoms such as fear of abandonment, impulsivity, intense anger, and an unstable self-image may persist. Individuals with BPD may also continue to experience impairments in social and occupational functioning and may have a need for ongoing treatment. Rates of suicide attempts and episodes of self-harm also decline over time, but they continue to occur more often than in individuals without BPD. Furthermore, in longitudinal studies, BPD is associated with increases in deaths due to suicide as well as with all-cause mortality. Thus, the lifetime burden and psychosocial impairment associated with BPD can be substantial because it typically has an onset in adolescence or early adulthood and can persist for many years. In addition, individuals with BPD experience increases in health care costs related to BPD and to other physical conditions.\"\n",
    "t2 = \"The new artists that I was listening to were all exploring stereo mixing for the first time. Because the speakers that came with my hundreddollar all-in-one stereo system weren’t very good, I had never before heard the depth that I could hear in the headphones—the placement of instruments both in the left-right field and in the front-back (reverberant) space.\"\n",
    "t3 = \" \"\n",
    "\n",
    "clf.predict([t1,t2,t3])"
   ]
  }
 ],
 "metadata": {
  "kernelspec": {
   "display_name": "Python 3 (ipykernel)",
   "language": "python",
   "name": "python3"
  },
  "language_info": {
   "codemirror_mode": {
    "name": "ipython",
    "version": 3
   },
   "file_extension": ".py",
   "mimetype": "text/x-python",
   "name": "python",
   "nbconvert_exporter": "python",
   "pygments_lexer": "ipython3",
   "version": "3.13.5"
  }
 },
 "nbformat": 4,
 "nbformat_minor": 5
}
